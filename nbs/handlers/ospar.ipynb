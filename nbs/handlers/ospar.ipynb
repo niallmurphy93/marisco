{
 "cells": [
  {
   "cell_type": "code",
   "execution_count": 7,
   "id": "bb60862d",
   "metadata": {},
   "outputs": [],
   "source": [
    "#| default_exp handlers.ospar"
   ]
  },
  {
   "cell_type": "markdown",
   "id": "712eab9d",
   "metadata": {},
   "source": [
    "# OSPAR "
   ]
  },
  {
   "cell_type": "markdown",
   "id": "34255835",
   "metadata": {},
   "source": [
    "> Data pipeline (handler) to convert OSPAR data ([source](https://odims.ospar.org/en/)) to `NetCDF` format or `Open Refine` format.  "
   ]
  },
  {
   "cell_type": "markdown",
   "id": "6184b657",
   "metadata": {},
   "source": [
    "The OSPAR Environment [database](https://odims.ospar.org/en/) is provided as a Microsoft Access database. \n",
    "`Mdbtools` (https://github.com/mdbtools/mdbtools) can be used to convert the tables of the Microsoft Access database to `.csv` files on Unix-like OS.\n",
    "\n",
    "Example steps:\n",
    "1. Download data.\n",
    "2. Install mdbtools via VScode Terminal \n",
    "\n",
    "    ```\n",
    "    sudo apt-get -y install mdbtools\n",
    "    ````\n",
    "\n",
    "3. Install unzip via VScode Terminal \n",
    "\n",
    "    ```\n",
    "    sudo apt-get -y install unzip\n",
    "    ````\n",
    "\n",
    "4. In VS code terminal, navigate to the marisco data folder\n",
    "\n",
    "    ```\n",
    "    cd /home/marisco/downloads/marisco/_data/accdb/opar_data\n",
    "    ```\n",
    "\n",
    "5. Unzip MORS_ENVIRONMENT.zip \n",
    "\n",
    "    ```\n",
    "    unzip MORS_ENVIRONMENT.zip \n",
    "    ```\n",
    "\n",
    "6. Run preprocess.sh to generate the required data files\n",
    "\n",
    "    ```\n",
    "    ./preprocess.sh MORS_ENVIRONMENT.zip\n",
    "    ````\n",
    "7. Content of 'preprocess.sh' script.\n",
    "    ```\n",
    "    #!/bin/bash\n",
    "\n",
    "    # Example of use: ./preprocess.sh MORS_ENVIRONMENT.zip\n",
    "    unzip $1\n",
    "\tdbname=$(ls *.accdb *.mdb)\n",
    "    mkdir csv\n",
    "    for table in $(mdb-tables -1 \"$dbname\"); do\n",
    "        echo \"Export table $table\"\n",
    "        mdb-export \"$dbname\" \"$table\" > \"csv/$table.csv\"\n",
    "    done```"
   ]
  },
  {
   "attachments": {},
   "cell_type": "markdown",
   "id": "b92a5c33",
   "metadata": {},
   "source": [
    "## Packages import"
   ]
  },
  {
   "cell_type": "code",
   "execution_count": 8,
   "id": "0db45fee",
   "metadata": {},
   "outputs": [
    {
     "name": "stdout",
     "output_type": "stream",
     "text": [
      "The autoreload extension is already loaded. To reload it, use:\n",
      "  %reload_ext autoreload\n"
     ]
    }
   ],
   "source": [
    "%load_ext autoreload\n",
    "%autoreload 2"
   ]
  },
  {
   "cell_type": "code",
   "execution_count": 9,
   "id": "3a8d979f",
   "metadata": {},
   "outputs": [],
   "source": [
    "#| export\n",
    "import pandas as pd # Python package that provides fast, flexible, and expressive data structures.\n",
    "import numpy as np\n",
    "from tqdm import tqdm # Python Progress Bar Library\n",
    "from functools import partial # Function which Return a new partial object which when called will behave like func called with the positional arguments args and keyword arguments keywords\n",
    "import fastcore.all as fc # package that brings fastcore functionality, see https://fastcore.fast.ai/.\n",
    "from pathlib import Path # This module offers classes representing filesystem paths\n",
    "from dataclasses import asdict\n",
    "import re # provides regular expression matching operations\n",
    "\n",
    "from marisco.utils import (has_valid_varname, match_maris_lut, Match)\n",
    "from marisco.callbacks import (Callback, Transformer, EncodeTimeCB, SanitizeLonLatCB)\n",
    "from marisco.metadata import (GlobAttrsFeeder, BboxCB, DepthRangeCB, TimeRangeCB, ZoteroCB, KeyValuePairCB)\n",
    "from marisco.configs import (nc_tpl_path, cfg, cache_path, cdl_cfg, Enums, lut_path,nuc_lut_path,\n",
    "                             species_lut_path, bodyparts_lut_path, unit_lut_path, detection_limit_lut_path)\n",
    "from marisco.serializers import NetCDFEncoder\n",
    "\n",
    "from collections.abc import Callable\n",
    "import warnings\n",
    "from marisco.netcdf_to_csv import (LookupTimeFromEncodedTime, GetSampleTypeCB,\n",
    "                                   LookupNuclideByIdCB, ConvertLonLatCB, LookupUnitByIdCB,\n",
    "                                   LookupValueTypeByIdCB, LookupSpeciesByIdCB, \n",
    "                                   LookupBodypartByIdCB, LookupSedimentTypeByIdCB)                                  \n",
    "from marisco.serializers import OpenRefineCsvEncoder"
   ]
  },
  {
   "cell_type": "code",
   "execution_count": 10,
   "id": "df103c15",
   "metadata": {},
   "outputs": [],
   "source": [
    "warnings.filterwarnings('ignore')"
   ]
  },
  {
   "cell_type": "markdown",
   "id": "90f1519e",
   "metadata": {},
   "source": [
    "***"
   ]
  },
  {
   "cell_type": "markdown",
   "id": "67c32e85",
   "metadata": {},
   "source": [
    "##  MARIS NetCDF \n",
    "When MARISCO is installed, it uses `cdl.toml` to create the `maris-template.nc`, which acts as a standardized template for MARIS NetCDF files. The `cdl.toml` is a configuration file listing all the variables allowed in the NetCDF4 files. The contents of the cdl.toml can be retrieved with the function `cdl_cfg()`.  "
   ]
  },
  {
   "cell_type": "markdown",
   "id": "ad3e1a53",
   "metadata": {},
   "source": [
    "Retrieving the keys of the `cdl_cfg()`."
   ]
  },
  {
   "cell_type": "code",
   "execution_count": 11,
   "id": "5c79881a",
   "metadata": {},
   "outputs": [
    {
     "name": "stdout",
     "output_type": "stream",
     "text": [
      "dict_keys(['defaults', 'bio', 'sed', 'suffixes'])\n"
     ]
    }
   ],
   "source": [
    "print (cdl_cfg()['vars'].keys())"
   ]
  },
  {
   "cell_type": "markdown",
   "id": "85c58a23",
   "metadata": {},
   "source": [
    "Printing the contents of all keys"
   ]
  },
  {
   "cell_type": "code",
   "execution_count": 12,
   "id": "4365a01d",
   "metadata": {},
   "outputs": [
    {
     "name": "stdout",
     "output_type": "stream",
     "text": [
      "dict_keys(['data_provider_sample_id', 'lon', 'lat', 'smp_depth', 'tot_depth', 'time', 'area', 'sample_notes', 'measurement_notes'])\n",
      "dict_keys(['bio_group', 'species', 'body_part'])\n",
      "dict_keys(['sed_type'])\n",
      "dict_keys(['uncertainty', 'detection_limit', 'volume', 'salinity', 'temperature', 'filtered', 'counting_method', 'sampling_method', 'preparation_method', 'unit'])\n"
     ]
    }
   ],
   "source": [
    "print (cdl_cfg()['vars']['defaults'].keys())\n",
    "print (cdl_cfg()['vars']['bio'].keys())\n",
    "print (cdl_cfg()['vars']['sed'].keys())\n",
    "print (cdl_cfg()['vars']['suffixes'].keys())"
   ]
  },
  {
   "cell_type": "markdown",
   "id": "208a1c2b",
   "metadata": {},
   "source": [
    "***"
   ]
  },
  {
   "cell_type": "markdown",
   "id": "95406e27",
   "metadata": {},
   "source": [
    "## MARIS Open Refine "
   ]
  },
  {
   "cell_type": "markdown",
   "id": "49398d41",
   "metadata": {},
   "source": [
    "Currently, updates to the MARIS database are facilitated through a standardized CSV file using Open Refine. Description of the variables included in this CSV file are provided at [Maris](https://maris.iaea.org/help/1132)."
   ]
  },
  {
   "cell_type": "markdown",
   "id": "615df566",
   "metadata": {},
   "source": [
    "Here we define the fname_in and fname_out variables. These variables are paths which are defined as relative paths. These paths are relative to \n",
    "the current working directory. Note that fname_in refers to the csv folder that contains the OSPAR data. fname_out defines the path and filename for the NetCDF output."
   ]
  },
  {
   "cell_type": "markdown",
   "id": "2382cc78",
   "metadata": {},
   "source": [
    "***"
   ]
  },
  {
   "cell_type": "markdown",
   "id": "480b4766",
   "metadata": {},
   "source": [
    "## MARIS Open Refine CSV & MARIS NetCDF variable relationship. "
   ]
  },
  {
   "cell_type": "markdown",
   "id": "00a878c8",
   "metadata": {},
   "source": [
    "The table below lists the MARIS variables in both MARIS Open Refine and MARIS NetCDF formats. Each variable's presence in both formats for the seawater (``sea``), biota (``bio``), and sediment (``sed``) groups is indicated with a checkmark (``✓``)."
   ]
  },
  {
   "cell_type": "markdown",
   "id": "191a7074",
   "metadata": {},
   "source": [
    "\n",
    "<style>\n",
    "  table {\n",
    "    width: 100%;\n",
    "    border-collapse: collapse\n",
    "  }\n",
    "\n",
    "  td,\n",
    "  th {\n",
    "    border: 1px solid #000;\n",
    "    padding: 5px;\n",
    "    text-align: center\n",
    "  }\n",
    "\n",
    "  th {\n",
    "    background-color: #f2f2f2\n",
    "  }\n",
    "\n",
    "  .open-refine {\n",
    "    background-color: #fff;\n",
    "    color: black;\n",
    "    text-align: center\n",
    "\n",
    "  }\n",
    "\n",
    "  .netcdf {\n",
    "    background-color: #e6e6e6;\n",
    "    color: black;\n",
    "    text-align: center\n",
    "  }\n",
    "</style>\n",
    "<table>\n",
    "  <thead>\n",
    "    <tr>\n",
    "      <th class=\"open-refine\">Open Refine Variables</th>\n",
    "      <th class=\"open-refine\">sea</th>\n",
    "      <th class=\"open-refine\">bio</th>\n",
    "      <th class=\"open-refine\">sed</th>\n",
    "      <th class=\"netcdf\">sea</th>\n",
    "      <th class=\"netcdf\">bio</th>\n",
    "      <th class=\"netcdf\">sed</th>\n",
    "      <th class=\"netcdf\">NetCDF Variables</th>\n",
    "    </tr>\n",
    "  </thead>\n",
    "  <tbody>\n",
    "    <tr>\n",
    "      <td class=\"open-refine\">Sample type</td>\n",
    "      <td class=\"open-refine\">✓</td>\n",
    "      <td class=\"open-refine\">✓</td>\n",
    "      <td class=\"open-refine\">✓</td>\n",
    "      <td class=\"netcdf\">✓</td>\n",
    "      <td class=\"netcdf\">✓</td>\n",
    "      <td class=\"netcdf\">✓</td>\n",
    "      <td class=\"netcdf\">*Included as netcdf.group*</td>\n",
    "    </tr>\n",
    "    <tr>\n",
    "      <td class=\"open-refine\">Latitude decimal</td>\n",
    "      <td class=\"open-refine\">✓</td>\n",
    "      <td class=\"open-refine\">✓</td>\n",
    "      <td class=\"open-refine\">✓</td>\n",
    "      <td class=\"netcdf\">✓</td>\n",
    "      <td class=\"netcdf\">✓</td>\n",
    "      <td class=\"netcdf\">✓</td>\n",
    "      <td class=\"netcdf\">lat</td>\n",
    "    </tr>\n",
    "    <tr>\n",
    "      <td class=\"open-refine\">Longitude decimal</td>\n",
    "      <td class=\"open-refine\">✓</td>\n",
    "      <td class=\"open-refine\">✓</td>\n",
    "      <td class=\"open-refine\">✓</td>\n",
    "      <td class=\"netcdf\">✓</td>\n",
    "      <td class=\"netcdf\">✓</td>\n",
    "      <td class=\"netcdf\">✓</td>\n",
    "      <td class=\"netcdf\">lon</td>\n",
    "    </tr>\n",
    "    <tr>\n",
    "      <td class=\"open-refine\">Sampling start date</td>\n",
    "      <td class=\"open-refine\">✓</td>\n",
    "      <td class=\"open-refine\">✓</td>\n",
    "      <td class=\"open-refine\">✓</td>\n",
    "      <td class=\"netcdf\">✓</td>\n",
    "      <td class=\"netcdf\">✓</td>\n",
    "      <td class=\"netcdf\">✓</td>\n",
    "      <td class=\"netcdf\">time</td>\n",
    "    </tr>\n",
    "    <tr>\n",
    "      <td class=\"open-refine\">Sampling start time</td>\n",
    "      <td class=\"open-refine\">✓</td>\n",
    "      <td class=\"open-refine\">✓</td>\n",
    "      <td class=\"open-refine\">✓</td>\n",
    "      <td class=\"netcdf\">✓</td>\n",
    "      <td class=\"netcdf\">✓</td>\n",
    "      <td class=\"netcdf\">✓</td>\n",
    "      <td class=\"netcdf\">time</td>\n",
    "    </tr>\n",
    "    <tr>\n",
    "      <td class=\"open-refine\">Sampling end date</td>\n",
    "      <td class=\"open-refine\">✓</td>\n",
    "      <td class=\"open-refine\">✓</td>\n",
    "      <td class=\"open-refine\">✓</td>\n",
    "      <td class=\"netcdf\"></td>\n",
    "      <td class=\"netcdf\"></td>\n",
    "      <td class=\"netcdf\"></td>\n",
    "      <td class=\"netcdf\"></td>\n",
    "    </tr>\n",
    "    <tr>\n",
    "      <td class=\"open-refine\">Sampling end time</td>\n",
    "      <td class=\"open-refine\">✓</td>\n",
    "      <td class=\"open-refine\">✓</td>\n",
    "      <td class=\"open-refine\">✓</td>\n",
    "      <td class=\"netcdf\"></td>\n",
    "      <td class=\"netcdf\"></td>\n",
    "      <td class=\"netcdf\"></td>\n",
    "      <td class=\"netcdf\"></td>\n",
    "    </tr>\n",
    "    <tr>\n",
    "      <td class=\"open-refine\">Nuclide</td>\n",
    "      <td class=\"open-refine\">✓</td>\n",
    "      <td class=\"open-refine\">✓</td>\n",
    "      <td class=\"open-refine\">✓</td>\n",
    "      <td class=\"netcdf\">✓</td>\n",
    "      <td class=\"netcdf\">✓</td>\n",
    "      <td class=\"netcdf\">✓</td>\n",
    "      <td class=\"netcdf\">nuclide</td>\n",
    "    </tr>\n",
    "    <tr>\n",
    "      <td class=\"open-refine\">Value type</td>\n",
    "      <td class=\"open-refine\">✓</td>\n",
    "      <td class=\"open-refine\">✓</td>\n",
    "      <td class=\"open-refine\">✓</td>\n",
    "      <td class=\"netcdf\">✓</td>\n",
    "      <td class=\"netcdf\">✓</td>\n",
    "      <td class=\"netcdf\">✓</td>\n",
    "      <td class=\"netcdf\">detection_limit</td>\n",
    "    </tr>\n",
    "    <tr>\n",
    "      <td class=\"open-refine\">Unit</td>\n",
    "      <td class=\"open-refine\">✓</td>\n",
    "      <td class=\"open-refine\">✓</td>\n",
    "      <td class=\"open-refine\">✓</td>\n",
    "      <td class=\"netcdf\">✓</td>\n",
    "      <td class=\"netcdf\">✓</td>\n",
    "      <td class=\"netcdf\">✓</td>\n",
    "      <td class=\"netcdf\">unit</td>\n",
    "    </tr>\n",
    "    <tr>\n",
    "      <td class=\"open-refine\">Activity or MDA</td>\n",
    "      <td class=\"open-refine\">✓</td>\n",
    "      <td class=\"open-refine\">✓</td>\n",
    "      <td class=\"open-refine\">✓</td>\n",
    "      <td class=\"netcdf\">✓</td>\n",
    "      <td class=\"netcdf\">✓</td>\n",
    "      <td class=\"netcdf\">✓</td>\n",
    "      <td class=\"netcdf\">value</td>\n",
    "    </tr>\n",
    "    <tr>\n",
    "      <td class=\"open-refine\">Uncertainty</td>\n",
    "      <td class=\"open-refine\">✓</td>\n",
    "      <td class=\"open-refine\">✓</td>\n",
    "      <td class=\"open-refine\">✓</td>\n",
    "      <td class=\"netcdf\">✓</td>\n",
    "      <td class=\"netcdf\">✓</td>\n",
    "      <td class=\"netcdf\">✓</td>\n",
    "      <td class=\"netcdf\">uncertainty</td>\n",
    "    </tr>\n",
    "    <tr>\n",
    "      <td class=\"open-refine\">Sampling depth</td>\n",
    "      <td class=\"open-refine\">✓</td>\n",
    "      <td class=\"open-refine\"></td>\n",
    "      <td class=\"open-refine\">✓</td>\n",
    "      <td class=\"netcdf\">✓</td>\n",
    "      <td class=\"netcdf\">✓</td>\n",
    "      <td class=\"netcdf\">✓</td>\n",
    "      <td class=\"netcdf\">smp_depth</td>\n",
    "    </tr>\n",
    "    <tr>\n",
    "      <td class=\"open-refine\">Top</td>\n",
    "      <td class=\"open-refine\"></td>\n",
    "      <td class=\"open-refine\"></td>\n",
    "      <td class=\"open-refine\">✓</td>\n",
    "      <td class=\"netcdf\"></td>\n",
    "      <td class=\"netcdf\"></td>\n",
    "      <td class=\"netcdf\"></td>\n",
    "      <td class=\"netcdf\"></td>\n",
    "    </tr>\n",
    "    <tr>\n",
    "      <td class=\"open-refine\">Bottom</td>\n",
    "      <td class=\"open-refine\"></td>\n",
    "      <td class=\"open-refine\"></td>\n",
    "      <td class=\"open-refine\">✓</td>\n",
    "      <td class=\"netcdf\"></td>\n",
    "      <td class=\"netcdf\"></td>\n",
    "      <td class=\"netcdf\"></td>\n",
    "      <td class=\"netcdf\"></td>\n",
    "    </tr>\n",
    "    <tr>\n",
    "      <td class=\"open-refine\">Species</td>\n",
    "      <td class=\"open-refine\"></td>\n",
    "      <td class=\"open-refine\">✓</td>\n",
    "      <td class=\"open-refine\"></td>\n",
    "      <td class=\"netcdf\"></td>\n",
    "      <td class=\"netcdf\">✓</td>\n",
    "      <td class=\"netcdf\"></td>\n",
    "      <td class=\"netcdf\">species</td>\n",
    "    </tr>\n",
    "    <tr>\n",
    "      <td class=\"open-refine\">Body part</td>\n",
    "      <td class=\"open-refine\"></td>\n",
    "      <td class=\"open-refine\">✓</td>\n",
    "      <td class=\"open-refine\"></td>\n",
    "      <td class=\"netcdf\"></td>\n",
    "      <td class=\"netcdf\">✓</td>\n",
    "      <td class=\"netcdf\"></td>\n",
    "      <td class=\"netcdf\">body_part</td>\n",
    "    </tr>\n",
    "    <tr>\n",
    "      <td class=\"open-refine\"></td>\n",
    "      <td class=\"open-refine\"></td>\n",
    "      <td class=\"open-refine\"></td>\n",
    "      <td class=\"open-refine\"></td>\n",
    "      <td class=\"netcdf\"></td>\n",
    "      <td class=\"netcdf\">✓</td>\n",
    "      <td class=\"netcdf\"></td>\n",
    "      <td class=\"netcdf\">bio_group</td>\n",
    "    </tr>\n",
    "    <tr>\n",
    "      <td class=\"open-refine\">Salinity</td>\n",
    "      <td class=\"open-refine\">✓</td>\n",
    "      <td class=\"open-refine\"></td>\n",
    "      <td class=\"open-refine\"></td>\n",
    "      <td class=\"netcdf\">✓</td>\n",
    "      <td class=\"netcdf\">✓</td>\n",
    "      <td class=\"netcdf\">✓</td>\n",
    "      <td class=\"netcdf\">salinity</td>\n",
    "    </tr>\n",
    "    <tr>\n",
    "      <td class=\"open-refine\">Temperature</td>\n",
    "      <td class=\"open-refine\">✓</td>\n",
    "      <td class=\"open-refine\"></td>\n",
    "      <td class=\"open-refine\"></td>\n",
    "      <td class=\"netcdf\">✓</td>\n",
    "      <td class=\"netcdf\">✓</td>\n",
    "      <td class=\"netcdf\">✓</td>\n",
    "      <td class=\"netcdf\">temperature</td>\n",
    "    </tr>\n",
    "    <tr>\n",
    "      <td class=\"open-refine\">Filtered</td>\n",
    "      <td class=\"open-refine\">✓</td>\n",
    "      <td class=\"open-refine\"></td>\n",
    "      <td class=\"open-refine\"></td>\n",
    "      <td class=\"netcdf\">✓</td>\n",
    "      <td class=\"netcdf\">✓</td>\n",
    "      <td class=\"netcdf\">✓</td>\n",
    "      <td class=\"netcdf\">filtered</td>\n",
    "    </tr>\n",
    "    <tr>\n",
    "      <td class=\"open-refine\">Mesh size</td>\n",
    "      <td class=\"open-refine\">✓</td>\n",
    "      <td class=\"open-refine\"></td>\n",
    "      <td class=\"open-refine\"></td>\n",
    "      <td class=\"netcdf\"></td>\n",
    "      <td class=\"netcdf\"></td>\n",
    "      <td class=\"netcdf\"></td>\n",
    "      <td class=\"netcdf\"></td>\n",
    "    </tr>\n",
    "    <tr>\n",
    "      <td class=\"open-refine\">Quality flag</td>\n",
    "      <td class=\"open-refine\">✓</td>\n",
    "      <td class=\"open-refine\">✓</td>\n",
    "      <td class=\"open-refine\">✓</td>\n",
    "      <td class=\"netcdf\"></td>\n",
    "      <td class=\"netcdf\"></td>\n",
    "      <td class=\"netcdf\"></td>\n",
    "      <td class=\"netcdf\"></td>\n",
    "    </tr>\n",
    "    <tr>\n",
    "      <td class=\"open-refine\">Sediment type</td>\n",
    "      <td class=\"open-refine\"></td>\n",
    "      <td class=\"open-refine\"></td>\n",
    "      <td class=\"open-refine\">✓</td>\n",
    "      <td class=\"netcdf\"></td>\n",
    "      <td class=\"netcdf\"></td>\n",
    "      <td class=\"netcdf\">✓</td>\n",
    "      <td class=\"netcdf\">sed_type</td>\n",
    "    </tr>\n",
    "    <tr>\n",
    "      <td class=\"open-refine\">Dry weight</td>\n",
    "      <td class=\"open-refine\"></td>\n",
    "      <td class=\"open-refine\">✓</td>\n",
    "      <td class=\"open-refine\">✓</td>\n",
    "      <td class=\"netcdf\"></td>\n",
    "      <td class=\"netcdf\"></td>\n",
    "      <td class=\"netcdf\"></td>\n",
    "      <td class=\"netcdf\"></td>\n",
    "    </tr>\n",
    "    <tr>\n",
    "      <td class=\"open-refine\">Wet weight</td>\n",
    "      <td class=\"open-refine\"></td>\n",
    "      <td class=\"open-refine\">✓</td>\n",
    "      <td class=\"open-refine\">✓</td>\n",
    "      <td class=\"netcdf\"></td>\n",
    "      <td class=\"netcdf\"></td>\n",
    "      <td class=\"netcdf\"></td>\n",
    "      <td class=\"netcdf\"></td>\n",
    "    </tr>\n",
    "    <tr>\n",
    "      <td class=\"open-refine\">Dry/wet ratio</td>\n",
    "      <td class=\"open-refine\"></td>\n",
    "      <td class=\"open-refine\">✓</td>\n",
    "      <td class=\"open-refine\">✓</td>\n",
    "      <td class=\"netcdf\"></td>\n",
    "      <td class=\"netcdf\"></td>\n",
    "      <td class=\"netcdf\"></td>\n",
    "      <td class=\"netcdf\"></td>\n",
    "    </tr>\n",
    "    <tr>\n",
    "      <td class=\"open-refine\">Station ID</td>\n",
    "      <td class=\"open-refine\">✓</td>\n",
    "      <td class=\"open-refine\">✓</td>\n",
    "      <td class=\"open-refine\">✓</td>\n",
    "      <td class=\"netcdf\"></td>\n",
    "      <td class=\"netcdf\"></td>\n",
    "      <td class=\"netcdf\"></td>\n",
    "      <td class=\"netcdf\"></td>\n",
    "    </tr>\n",
    "    <tr>\n",
    "      <td class=\"open-refine\">Sample ID</td>\n",
    "      <td class=\"open-refine\">✓</td>\n",
    "      <td class=\"open-refine\">✓</td>\n",
    "      <td class=\"open-refine\">✓</td>\n",
    "      <td class=\"netcdf\">✓</td>\n",
    "      <td class=\"netcdf\">✓</td>\n",
    "      <td class=\"netcdf\">✓</td>\n",
    "      <td class=\"netcdf\">data_provider_sample_id</td>\n",
    "    </tr>\n",
    "    <tr>\n",
    "      <td class=\"open-refine\">Total depth</td>\n",
    "      <td class=\"open-refine\">✓</td>\n",
    "      <td class=\"open-refine\"></td>\n",
    "      <td class=\"open-refine\"></td>\n",
    "      <td class=\"netcdf\">✓</td>\n",
    "      <td class=\"netcdf\">✓</td>\n",
    "      <td class=\"netcdf\">✓</td>\n",
    "      <td class=\"netcdf\">tot_depth</td>\n",
    "    </tr>\n",
    "    <tr>\n",
    "      <td class=\"open-refine\">Profile or transect ID</td>\n",
    "      <td class=\"open-refine\">✓</td>\n",
    "      <td class=\"open-refine\">✓</td>\n",
    "      <td class=\"open-refine\">✓</td>\n",
    "      <td class=\"netcdf\"></td>\n",
    "      <td class=\"netcdf\"></td>\n",
    "      <td class=\"netcdf\"></td>\n",
    "      <td class=\"netcdf\"></td>\n",
    "    </tr>\n",
    "    <tr>\n",
    "      <td class=\"open-refine\">Sampling method</td>\n",
    "      <td class=\"open-refine\">✓</td>\n",
    "      <td class=\"open-refine\">✓</td>\n",
    "      <td class=\"open-refine\">✓</td>\n",
    "      <td class=\"netcdf\">✓</td>\n",
    "      <td class=\"netcdf\">✓</td>\n",
    "      <td class=\"netcdf\">✓</td>\n",
    "      <td class=\"netcdf\">sampling_method</td>\n",
    "    </tr>\n",
    "    <tr>\n",
    "      <td class=\"open-refine\">Preparation method</td>\n",
    "      <td class=\"open-refine\">✓</td>\n",
    "      <td class=\"open-refine\">✓</td>\n",
    "      <td class=\"open-refine\">✓</td>\n",
    "      <td class=\"netcdf\">✓</td>\n",
    "      <td class=\"netcdf\">✓</td>\n",
    "      <td class=\"netcdf\">✓</td>\n",
    "      <td class=\"netcdf\">preparation_method</td>\n",
    "    </tr>\n",
    "    <tr>\n",
    "      <td class=\"open-refine\">Drying method</td>\n",
    "      <td class=\"open-refine\"></td>\n",
    "      <td class=\"open-refine\">✓</td>\n",
    "      <td class=\"open-refine\">✓</td>\n",
    "      <td class=\"netcdf\"></td>\n",
    "      <td class=\"netcdf\"></td>\n",
    "      <td class=\"netcdf\"></td>\n",
    "      <td class=\"netcdf\"></td>\n",
    "    </tr>\n",
    "    <tr>\n",
    "      <td class=\"open-refine\">Counting method</td>\n",
    "      <td class=\"open-refine\">✓</td>\n",
    "      <td class=\"open-refine\">✓</td>\n",
    "      <td class=\"open-refine\">✓</td>\n",
    "      <td class=\"netcdf\">✓</td>\n",
    "      <td class=\"netcdf\">✓</td>\n",
    "      <td class=\"netcdf\">✓</td>\n",
    "      <td class=\"netcdf\">counting_method</td>\n",
    "    </tr>\n",
    "    <tr>\n",
    "      <td class=\"open-refine\">Sample notes</td>\n",
    "      <td class=\"open-refine\">✓</td>\n",
    "      <td class=\"open-refine\">✓</td>\n",
    "      <td class=\"open-refine\">✓</td>\n",
    "      <td class=\"netcdf\">✓</td>\n",
    "      <td class=\"netcdf\">✓</td>\n",
    "      <td class=\"netcdf\">✓</td>\n",
    "      <td class=\"netcdf\">sample_notes<sup>*1</sup></td>\n",
    "    </tr>\n",
    "    <tr>\n",
    "      <td class=\"open-refine\">Measurement notes</td>\n",
    "      <td class=\"open-refine\">✓</td>\n",
    "      <td class=\"open-refine\">✓</td>\n",
    "      <td class=\"open-refine\">✓</td>\n",
    "      <td class=\"netcdf\">✓</td>\n",
    "      <td class=\"netcdf\">✓</td>\n",
    "      <td class=\"netcdf\">✓</td>\n",
    "      <td class=\"netcdf\">measurement_notes<sup>*1</sup></td>\n",
    "    </tr>\n",
    "  </tbody>\n",
    "</table>"
   ]
  },
  {
   "cell_type": "markdown",
   "id": "cdf01ede",
   "metadata": {},
   "source": [
    "<sup>*1</sup> The MARIS NetCDF does not currently support strings of variable length (i.e. vlen string data type)."
   ]
  },
  {
   "cell_type": "markdown",
   "id": "d660dbb3",
   "metadata": {},
   "source": [
    "***"
   ]
  },
  {
   "cell_type": "markdown",
   "id": "593fefe6",
   "metadata": {},
   "source": [
    "## Define variables"
   ]
  },
  {
   "cell_type": "markdown",
   "id": "761bb4eb",
   "metadata": {},
   "source": [
    "1. **fname_in** - is the path to the folder containing the HELCOM data in CSV format. The path can be defined as a relative path. \n",
    "\n",
    "2. **fname_out_nc** - is the path and filename for the NetCDF output.The path can be defined as a relative path. \n",
    "\n",
    "3. **zotero_key** - is used to retrieve attributes related to the dataset from [Zotero](https://www.zotero.org/). The MARIS datasets include a [library](https://maris.iaea.org/datasets) available on [Zotero](https://www.zotero.org/groups/2432820/maris/library). \n",
    "4. **ref_id** - ref_id is used in the MARIS dataset to link to the reference source. \n"
   ]
  },
  {
   "cell_type": "code",
   "execution_count": 13,
   "id": "715e849d",
   "metadata": {},
   "outputs": [],
   "source": [
    "# | export\n",
    "fname_in = '../../_data/accdb/ospar/csv'\n",
    "fname_out = '../../_data/output/191-OSPAR-2024.nc'\n",
    "fname_out_csv = '../../_data/output/191-OSPAR-2024.csv'\n",
    "zotero_key ='LQRA4MMK'\n",
    "ref_id = 191"
   ]
  },
  {
   "cell_type": "markdown",
   "id": "3a6bab2c",
   "metadata": {},
   "source": [
    "***"
   ]
  },
  {
   "attachments": {},
   "cell_type": "markdown",
   "id": "dd04abcd",
   "metadata": {},
   "source": [
    "## Utils"
   ]
  },
  {
   "cell_type": "code",
   "execution_count": 14,
   "id": "c906677b",
   "metadata": {},
   "outputs": [],
   "source": [
    "#| export\n",
    "def load_data(src_dir):\n",
    "    \"Load OSPAR data and return them as an individual dataframe by sample type\"\n",
    "    '''\n",
    "    Load data from the measurement file found in the src_dir (i.e. fname_in).\n",
    "    Returns a dictionary of pandas' dataframes. The key to the dictionary is \n",
    "    the sample type (i.e lut_smp_type)\n",
    "    '''    \n",
    "    dfs = {}\n",
    "    lut_smp_type = {'Seawater data': 'seawater', 'Biota data': 'biota'}\n",
    "    for k, v in lut_smp_type.items():\n",
    "        fname_meas = k + '.csv' # measurement (i.e. radioactivity) information and sample information     \n",
    "        df = pd.read_csv(Path(src_dir)/fname_meas, encoding='unicode_escape')\n",
    "        dfs[v] = df\n",
    "    return dfs"
   ]
  },
  {
   "cell_type": "markdown",
   "id": "9c6590a2",
   "metadata": {},
   "source": [
    "***"
   ]
  },
  {
   "attachments": {},
   "cell_type": "markdown",
   "id": "5e534545",
   "metadata": {},
   "source": [
    "## Load data"
   ]
  },
  {
   "cell_type": "markdown",
   "id": "0a47e4d4",
   "metadata": {},
   "source": [
    "`dfs` is a dictionary of dataframes created from the Helcom dataset located at the path `fname_in`. The data to be included in each dataframe is sorted by sample type. Each dictionary is defined with a key equal to the sample type. "
   ]
  },
  {
   "cell_type": "code",
   "execution_count": 15,
   "id": "bb4bf289",
   "metadata": {},
   "outputs": [
    {
     "name": "stdout",
     "output_type": "stream",
     "text": [
      "dict_keys(['seawater', 'biota'])\n",
      "Seawater cols: Index(['ID', 'Contracting Party', 'RSC Sub-division', 'Station ID',\n",
      "       'Sample ID', 'LatD', 'LatM', 'LatS', 'LatDir', 'LongD', 'LongM',\n",
      "       'LongS', 'LongDir', 'Sample type', 'Sampling depth', 'Sampling date',\n",
      "       'Nuclide', 'Value type', 'Activity or MDA', 'Uncertainty', 'Unit',\n",
      "       'Data provider', 'Measurement Comment', 'Sample Comment',\n",
      "       'Reference Comment'],\n",
      "      dtype='object')\n",
      "Biota cols: Index(['ID', 'Contracting Party', 'RSC Sub-division', 'Station ID',\n",
      "       'Sample ID', 'LatD', 'LatM', 'LatS', 'LatDir', 'LongD', 'LongM',\n",
      "       'LongS', 'LongDir', 'Sample type', 'Biological group', 'Species',\n",
      "       'Body Part', 'Sampling date', 'Nuclide', 'Value type',\n",
      "       'Activity or MDA', 'Uncertainty', 'Unit', 'Data provider',\n",
      "       'Measurement Comment', 'Sample Comment', 'Reference Comment'],\n",
      "      dtype='object')\n"
     ]
    }
   ],
   "source": [
    "#|eval: false\n",
    "dfs = load_data(fname_in)\n",
    "print(dfs.keys())\n",
    "print(f\"Seawater cols: {dfs['seawater'].columns}\")\n",
    "print(f\"Biota cols: {dfs['biota'].columns}\")"
   ]
  },
  {
   "cell_type": "markdown",
   "id": "2a358ad8",
   "metadata": {},
   "source": [
    "Show the structure of the `seawater` dataframe:"
   ]
  },
  {
   "cell_type": "code",
   "execution_count": 16,
   "id": "2c0974c2",
   "metadata": {},
   "outputs": [
    {
     "data": {
      "text/html": [
       "<div>\n",
       "<style scoped>\n",
       "    .dataframe tbody tr th:only-of-type {\n",
       "        vertical-align: middle;\n",
       "    }\n",
       "\n",
       "    .dataframe tbody tr th {\n",
       "        vertical-align: top;\n",
       "    }\n",
       "\n",
       "    .dataframe thead th {\n",
       "        text-align: right;\n",
       "    }\n",
       "</style>\n",
       "<table border=\"1\" class=\"dataframe\">\n",
       "  <thead>\n",
       "    <tr style=\"text-align: right;\">\n",
       "      <th></th>\n",
       "      <th>ID</th>\n",
       "      <th>Contracting Party</th>\n",
       "      <th>RSC Sub-division</th>\n",
       "      <th>Station ID</th>\n",
       "      <th>Sample ID</th>\n",
       "      <th>LatD</th>\n",
       "      <th>LatM</th>\n",
       "      <th>LatS</th>\n",
       "      <th>LatDir</th>\n",
       "      <th>LongD</th>\n",
       "      <th>...</th>\n",
       "      <th>Sampling date</th>\n",
       "      <th>Nuclide</th>\n",
       "      <th>Value type</th>\n",
       "      <th>Activity or MDA</th>\n",
       "      <th>Uncertainty</th>\n",
       "      <th>Unit</th>\n",
       "      <th>Data provider</th>\n",
       "      <th>Measurement Comment</th>\n",
       "      <th>Sample Comment</th>\n",
       "      <th>Reference Comment</th>\n",
       "    </tr>\n",
       "  </thead>\n",
       "  <tbody>\n",
       "    <tr>\n",
       "      <th>0</th>\n",
       "      <td>1</td>\n",
       "      <td>Belgium</td>\n",
       "      <td>8.0</td>\n",
       "      <td>Belgica-W01</td>\n",
       "      <td>WNZ 01</td>\n",
       "      <td>51.0</td>\n",
       "      <td>22.0</td>\n",
       "      <td>31.0</td>\n",
       "      <td>N</td>\n",
       "      <td>3.0</td>\n",
       "      <td>...</td>\n",
       "      <td>27/01/2010</td>\n",
       "      <td>137Cs</td>\n",
       "      <td>&lt;</td>\n",
       "      <td>0.20</td>\n",
       "      <td>NaN</td>\n",
       "      <td>Bq/l</td>\n",
       "      <td>SCKCEN</td>\n",
       "      <td>NaN</td>\n",
       "      <td>NaN</td>\n",
       "      <td>NaN</td>\n",
       "    </tr>\n",
       "    <tr>\n",
       "      <th>1</th>\n",
       "      <td>2</td>\n",
       "      <td>Belgium</td>\n",
       "      <td>8.0</td>\n",
       "      <td>Belgica-W02</td>\n",
       "      <td>WNZ 02</td>\n",
       "      <td>51.0</td>\n",
       "      <td>13.0</td>\n",
       "      <td>25.0</td>\n",
       "      <td>N</td>\n",
       "      <td>2.0</td>\n",
       "      <td>...</td>\n",
       "      <td>27/01/2010</td>\n",
       "      <td>137Cs</td>\n",
       "      <td>&lt;</td>\n",
       "      <td>0.27</td>\n",
       "      <td>NaN</td>\n",
       "      <td>Bq/l</td>\n",
       "      <td>SCKCEN</td>\n",
       "      <td>NaN</td>\n",
       "      <td>NaN</td>\n",
       "      <td>NaN</td>\n",
       "    </tr>\n",
       "    <tr>\n",
       "      <th>2</th>\n",
       "      <td>3</td>\n",
       "      <td>Belgium</td>\n",
       "      <td>8.0</td>\n",
       "      <td>Belgica-W03</td>\n",
       "      <td>WNZ 03</td>\n",
       "      <td>51.0</td>\n",
       "      <td>11.0</td>\n",
       "      <td>4.0</td>\n",
       "      <td>N</td>\n",
       "      <td>2.0</td>\n",
       "      <td>...</td>\n",
       "      <td>27/01/2010</td>\n",
       "      <td>137Cs</td>\n",
       "      <td>&lt;</td>\n",
       "      <td>0.26</td>\n",
       "      <td>NaN</td>\n",
       "      <td>Bq/l</td>\n",
       "      <td>SCKCEN</td>\n",
       "      <td>NaN</td>\n",
       "      <td>NaN</td>\n",
       "      <td>NaN</td>\n",
       "    </tr>\n",
       "    <tr>\n",
       "      <th>3</th>\n",
       "      <td>4</td>\n",
       "      <td>Belgium</td>\n",
       "      <td>8.0</td>\n",
       "      <td>Belgica-W04</td>\n",
       "      <td>WNZ 04</td>\n",
       "      <td>51.0</td>\n",
       "      <td>25.0</td>\n",
       "      <td>13.0</td>\n",
       "      <td>N</td>\n",
       "      <td>3.0</td>\n",
       "      <td>...</td>\n",
       "      <td>27/01/2010</td>\n",
       "      <td>137Cs</td>\n",
       "      <td>&lt;</td>\n",
       "      <td>0.25</td>\n",
       "      <td>NaN</td>\n",
       "      <td>Bq/l</td>\n",
       "      <td>SCKCEN</td>\n",
       "      <td>NaN</td>\n",
       "      <td>NaN</td>\n",
       "      <td>NaN</td>\n",
       "    </tr>\n",
       "    <tr>\n",
       "      <th>4</th>\n",
       "      <td>5</td>\n",
       "      <td>Belgium</td>\n",
       "      <td>8.0</td>\n",
       "      <td>Belgica-W05</td>\n",
       "      <td>WNZ 05</td>\n",
       "      <td>51.0</td>\n",
       "      <td>24.0</td>\n",
       "      <td>58.0</td>\n",
       "      <td>N</td>\n",
       "      <td>2.0</td>\n",
       "      <td>...</td>\n",
       "      <td>26/01/2010</td>\n",
       "      <td>137Cs</td>\n",
       "      <td>&lt;</td>\n",
       "      <td>0.20</td>\n",
       "      <td>NaN</td>\n",
       "      <td>Bq/l</td>\n",
       "      <td>SCKCEN</td>\n",
       "      <td>NaN</td>\n",
       "      <td>NaN</td>\n",
       "      <td>NaN</td>\n",
       "    </tr>\n",
       "  </tbody>\n",
       "</table>\n",
       "<p>5 rows × 25 columns</p>\n",
       "</div>"
      ],
      "text/plain": [
       "   ID Contracting Party  RSC Sub-division   Station ID Sample ID  LatD  LatM  \\\n",
       "0   1           Belgium               8.0  Belgica-W01    WNZ 01  51.0  22.0   \n",
       "1   2           Belgium               8.0  Belgica-W02    WNZ 02  51.0  13.0   \n",
       "2   3           Belgium               8.0  Belgica-W03    WNZ 03  51.0  11.0   \n",
       "3   4           Belgium               8.0  Belgica-W04    WNZ 04  51.0  25.0   \n",
       "4   5           Belgium               8.0  Belgica-W05    WNZ 05  51.0  24.0   \n",
       "\n",
       "   LatS LatDir  LongD  ...  Sampling date  Nuclide Value type Activity or MDA  \\\n",
       "0  31.0      N    3.0  ...     27/01/2010    137Cs          <            0.20   \n",
       "1  25.0      N    2.0  ...     27/01/2010    137Cs          <            0.27   \n",
       "2   4.0      N    2.0  ...     27/01/2010    137Cs          <            0.26   \n",
       "3  13.0      N    3.0  ...     27/01/2010    137Cs          <            0.25   \n",
       "4  58.0      N    2.0  ...     26/01/2010    137Cs          <            0.20   \n",
       "\n",
       "   Uncertainty  Unit Data provider Measurement Comment  Sample Comment  \\\n",
       "0          NaN  Bq/l       SCKCEN                 NaN             NaN   \n",
       "1          NaN  Bq/l       SCKCEN                 NaN             NaN   \n",
       "2          NaN  Bq/l       SCKCEN                 NaN             NaN   \n",
       "3          NaN  Bq/l       SCKCEN                 NaN             NaN   \n",
       "4          NaN  Bq/l       SCKCEN                 NaN             NaN   \n",
       "\n",
       "   Reference Comment  \n",
       "0                NaN  \n",
       "1                NaN  \n",
       "2                NaN  \n",
       "3                NaN  \n",
       "4                NaN  \n",
       "\n",
       "[5 rows x 25 columns]"
      ]
     },
     "execution_count": 16,
     "metadata": {},
     "output_type": "execute_result"
    }
   ],
   "source": [
    "#|eval: false\n",
    "dfs['seawater'].head()"
   ]
  },
  {
   "cell_type": "markdown",
   "id": "e316fdb2",
   "metadata": {},
   "source": [
    "Show the structure of the `biota` dataframe:"
   ]
  },
  {
   "cell_type": "code",
   "execution_count": 17,
   "id": "4f6e1476",
   "metadata": {},
   "outputs": [
    {
     "data": {
      "text/html": [
       "<div>\n",
       "<style scoped>\n",
       "    .dataframe tbody tr th:only-of-type {\n",
       "        vertical-align: middle;\n",
       "    }\n",
       "\n",
       "    .dataframe tbody tr th {\n",
       "        vertical-align: top;\n",
       "    }\n",
       "\n",
       "    .dataframe thead th {\n",
       "        text-align: right;\n",
       "    }\n",
       "</style>\n",
       "<table border=\"1\" class=\"dataframe\">\n",
       "  <thead>\n",
       "    <tr style=\"text-align: right;\">\n",
       "      <th></th>\n",
       "      <th>ID</th>\n",
       "      <th>Contracting Party</th>\n",
       "      <th>RSC Sub-division</th>\n",
       "      <th>Station ID</th>\n",
       "      <th>Sample ID</th>\n",
       "      <th>LatD</th>\n",
       "      <th>LatM</th>\n",
       "      <th>LatS</th>\n",
       "      <th>LatDir</th>\n",
       "      <th>LongD</th>\n",
       "      <th>...</th>\n",
       "      <th>Sampling date</th>\n",
       "      <th>Nuclide</th>\n",
       "      <th>Value type</th>\n",
       "      <th>Activity or MDA</th>\n",
       "      <th>Uncertainty</th>\n",
       "      <th>Unit</th>\n",
       "      <th>Data provider</th>\n",
       "      <th>Measurement Comment</th>\n",
       "      <th>Sample Comment</th>\n",
       "      <th>Reference Comment</th>\n",
       "    </tr>\n",
       "  </thead>\n",
       "  <tbody>\n",
       "    <tr>\n",
       "      <th>0</th>\n",
       "      <td>96793</td>\n",
       "      <td>United Kingdom</td>\n",
       "      <td>5</td>\n",
       "      <td>Hunterston</td>\n",
       "      <td>2200086</td>\n",
       "      <td>55</td>\n",
       "      <td>43</td>\n",
       "      <td>31.0</td>\n",
       "      <td>N</td>\n",
       "      <td>4</td>\n",
       "      <td>...</td>\n",
       "      <td>31/12/2021</td>\n",
       "      <td>239,240Pu</td>\n",
       "      <td>=</td>\n",
       "      <td>0.3510</td>\n",
       "      <td>0.066</td>\n",
       "      <td>Bq/kg f.w.</td>\n",
       "      <td>SEPA-Scottish Environment Protection Agency</td>\n",
       "      <td>NaN</td>\n",
       "      <td>PLZ. Annual bulk of 2 samples, representative ...</td>\n",
       "      <td>NaN</td>\n",
       "    </tr>\n",
       "    <tr>\n",
       "      <th>1</th>\n",
       "      <td>96822</td>\n",
       "      <td>United Kingdom</td>\n",
       "      <td>6</td>\n",
       "      <td>Chapelcross</td>\n",
       "      <td>2200081</td>\n",
       "      <td>54</td>\n",
       "      <td>58</td>\n",
       "      <td>8.0</td>\n",
       "      <td>N</td>\n",
       "      <td>3</td>\n",
       "      <td>...</td>\n",
       "      <td>31/12/2021</td>\n",
       "      <td>99Tc</td>\n",
       "      <td>=</td>\n",
       "      <td>39.0000</td>\n",
       "      <td>15.000</td>\n",
       "      <td>Bq/kg f.w.</td>\n",
       "      <td>SEPA-Scottish Environment Protection Agency</td>\n",
       "      <td>NaN</td>\n",
       "      <td>PLZ</td>\n",
       "      <td>NaN</td>\n",
       "    </tr>\n",
       "    <tr>\n",
       "      <th>2</th>\n",
       "      <td>96823</td>\n",
       "      <td>United Kingdom</td>\n",
       "      <td>7</td>\n",
       "      <td>Dounreay</td>\n",
       "      <td>2200093</td>\n",
       "      <td>58</td>\n",
       "      <td>33</td>\n",
       "      <td>57.0</td>\n",
       "      <td>N</td>\n",
       "      <td>3</td>\n",
       "      <td>...</td>\n",
       "      <td>31/12/2021</td>\n",
       "      <td>239,240Pu</td>\n",
       "      <td>=</td>\n",
       "      <td>0.0938</td>\n",
       "      <td>0.018</td>\n",
       "      <td>Bq/kg f.w.</td>\n",
       "      <td>SEPA-Scottish Environment Protection Agency</td>\n",
       "      <td>NaN</td>\n",
       "      <td>Sandside Bay.  Annual bulk of 4 samples, repre...</td>\n",
       "      <td>NaN</td>\n",
       "    </tr>\n",
       "    <tr>\n",
       "      <th>3</th>\n",
       "      <td>96824</td>\n",
       "      <td>United Kingdom</td>\n",
       "      <td>7</td>\n",
       "      <td>Dounreay</td>\n",
       "      <td>2200089</td>\n",
       "      <td>58</td>\n",
       "      <td>37</td>\n",
       "      <td>7.0</td>\n",
       "      <td>N</td>\n",
       "      <td>3</td>\n",
       "      <td>...</td>\n",
       "      <td>31/12/2021</td>\n",
       "      <td>239,240Pu</td>\n",
       "      <td>=</td>\n",
       "      <td>1.5400</td>\n",
       "      <td>0.310</td>\n",
       "      <td>Bq/kg f.w.</td>\n",
       "      <td>SEPA-Scottish Environment Protection Agency</td>\n",
       "      <td>NaN</td>\n",
       "      <td>Brims Ness.  Annual bulk of 4 samples, represe...</td>\n",
       "      <td>NaN</td>\n",
       "    </tr>\n",
       "    <tr>\n",
       "      <th>4</th>\n",
       "      <td>96857</td>\n",
       "      <td>United Kingdom</td>\n",
       "      <td>10</td>\n",
       "      <td>Torness</td>\n",
       "      <td>2100074</td>\n",
       "      <td>55</td>\n",
       "      <td>57</td>\n",
       "      <td>53.0</td>\n",
       "      <td>N</td>\n",
       "      <td>2</td>\n",
       "      <td>...</td>\n",
       "      <td>31/12/2021</td>\n",
       "      <td>99Tc</td>\n",
       "      <td>=</td>\n",
       "      <td>16.0000</td>\n",
       "      <td>6.000</td>\n",
       "      <td>Bq/kg f.w.</td>\n",
       "      <td>SEPA-Scottish Environment Protection Agency</td>\n",
       "      <td>NaN</td>\n",
       "      <td>Thornton Loch. Annual bulk of 2 samples, repre...</td>\n",
       "      <td>NaN</td>\n",
       "    </tr>\n",
       "  </tbody>\n",
       "</table>\n",
       "<p>5 rows × 27 columns</p>\n",
       "</div>"
      ],
      "text/plain": [
       "      ID Contracting Party  RSC Sub-division   Station ID Sample ID  LatD  \\\n",
       "0  96793    United Kingdom                 5   Hunterston   2200086    55   \n",
       "1  96822    United Kingdom                 6  Chapelcross   2200081    54   \n",
       "2  96823    United Kingdom                 7     Dounreay   2200093    58   \n",
       "3  96824    United Kingdom                 7     Dounreay   2200089    58   \n",
       "4  96857    United Kingdom                10      Torness   2100074    55   \n",
       "\n",
       "   LatM  LatS LatDir  LongD  ...  Sampling date    Nuclide Value type  \\\n",
       "0    43  31.0      N      4  ...     31/12/2021  239,240Pu          =   \n",
       "1    58   8.0      N      3  ...     31/12/2021       99Tc          =   \n",
       "2    33  57.0      N      3  ...     31/12/2021  239,240Pu          =   \n",
       "3    37   7.0      N      3  ...     31/12/2021  239,240Pu          =   \n",
       "4    57  53.0      N      2  ...     31/12/2021       99Tc          =   \n",
       "\n",
       "  Activity or MDA Uncertainty        Unit  \\\n",
       "0          0.3510       0.066  Bq/kg f.w.   \n",
       "1         39.0000      15.000  Bq/kg f.w.   \n",
       "2          0.0938       0.018  Bq/kg f.w.   \n",
       "3          1.5400       0.310  Bq/kg f.w.   \n",
       "4         16.0000       6.000  Bq/kg f.w.   \n",
       "\n",
       "                                 Data provider Measurement Comment  \\\n",
       "0  SEPA-Scottish Environment Protection Agency                 NaN   \n",
       "1  SEPA-Scottish Environment Protection Agency                 NaN   \n",
       "2  SEPA-Scottish Environment Protection Agency                 NaN   \n",
       "3  SEPA-Scottish Environment Protection Agency                 NaN   \n",
       "4  SEPA-Scottish Environment Protection Agency                 NaN   \n",
       "\n",
       "                                      Sample Comment Reference Comment  \n",
       "0  PLZ. Annual bulk of 2 samples, representative ...               NaN  \n",
       "1                                                PLZ               NaN  \n",
       "2  Sandside Bay.  Annual bulk of 4 samples, repre...               NaN  \n",
       "3  Brims Ness.  Annual bulk of 4 samples, represe...               NaN  \n",
       "4  Thornton Loch. Annual bulk of 2 samples, repre...               NaN  \n",
       "\n",
       "[5 rows x 27 columns]"
      ]
     },
     "execution_count": 17,
     "metadata": {},
     "output_type": "execute_result"
    }
   ],
   "source": [
    "#|eval: false\n",
    "dfs['biota'].head()"
   ]
  },
  {
   "cell_type": "markdown",
   "id": "7137efa8",
   "metadata": {},
   "source": [
    "***"
   ]
  },
  {
   "attachments": {},
   "cell_type": "markdown",
   "id": "0d68abc3",
   "metadata": {},
   "source": [
    "## Data transformation pipeline for NetCDF."
   ]
  },
  {
   "cell_type": "markdown",
   "id": "76626b29",
   "metadata": {},
   "source": [
    "### Data transformation pipeline utils"
   ]
  },
  {
   "cell_type": "markdown",
   "id": "74accaf3",
   "metadata": {},
   "source": [
    "``CompareDfsAndTfm`` compares the original dataframes to the transformed dataframe. A dictionary of dataframes, ``tfm.dfs_dropped``, is created to include the data present in the original dataset but absent from the transformed data. ``tfm.compare_stats`` provides a quick overview of the number of rows in both the original dataframes and the transformed dataframe."
   ]
  },
  {
   "cell_type": "code",
   "execution_count": 18,
   "id": "ab34e9f9",
   "metadata": {},
   "outputs": [],
   "source": [
    "# | export\n",
    "class CompareDfsAndTfm(Callback):\n",
    "    \"Create a dfs of dropped data. Data included in the DFS not in the TFM\"\n",
    "    def __init__(self, dfs_compare):\n",
    "        fc.store_attr()\n",
    "\n",
    "    def __call__(self, tfm):\n",
    "        tfm.dfs_dropped={}\n",
    "        tfm.compare_stats={}\n",
    "        for grp in tfm.dfs.keys():\n",
    "           \n",
    "            # get the index values in dfs (i.e. dfs_compare) not in tfm.dfs. \n",
    "            index_diff=self.dfs_compare[grp].index.difference(tfm.dfs[grp].index)\n",
    "            tfm.dfs_dropped[grp] = self.dfs_compare[grp].loc[index_diff]\n",
    "\n",
    "            tfm.compare_stats[grp]= {'Number of rows in dfs :' : len(self.dfs_compare[grp].index),\n",
    "                                     'Number of rows in tfm.dfs:' : len(tfm.dfs[grp].index),\n",
    "                                     'Number of dropped rows:' : len(tfm.dfs_dropped[grp].index),\n",
    "                                     'Number of rows in tfm.dfs + Number of dropped rows:' : len(tfm.dfs[grp].index) + len(tfm.dfs_dropped[grp].index)\n",
    "                                    }"
   ]
  },
  {
   "cell_type": "markdown",
   "id": "57d82ce8",
   "metadata": {},
   "source": [
    "***"
   ]
  },
  {
   "cell_type": "markdown",
   "id": "9fa1b29f",
   "metadata": {},
   "source": [
    "### Normalize nuclide names"
   ]
  },
  {
   "cell_type": "markdown",
   "id": "2bff4a26",
   "metadata": {},
   "source": [
    "&nbsp;&nbsp;&nbsp;&nbsp;&nbsp;*NetCDF4 format variable: ``nuclide``.*"
   ]
  },
  {
   "cell_type": "markdown",
   "id": "9562cee4",
   "metadata": {},
   "source": [
    "&nbsp;&nbsp;&nbsp;&nbsp;&nbsp;*Open Refine format variable: ``Nuclide``.*"
   ]
  },
  {
   "attachments": {},
   "cell_type": "markdown",
   "id": "142ddab3",
   "metadata": {},
   "source": [
    "#### Remap OSPAR nuclide names to MARIS nuclide names"
   ]
  },
  {
   "cell_type": "markdown",
   "id": "1086feab",
   "metadata": {},
   "source": [
    "The ``maris-template.nc`` file, generated from ``cdl.toml`` during the installation of the Marisco package, specifies the nuclides allowed in the MARIS NetCDF file. Here, we define a function get_unique_nuclides() that compiles a list of unique nuclides from each dataframe within the dictionary of dataframes ``dfs``, which were created from the OSPAR data."
   ]
  },
  {
   "cell_type": "code",
   "execution_count": 19,
   "id": "f419523f",
   "metadata": {},
   "outputs": [],
   "source": [
    "#| export\n",
    "def get_unique_nuclides(dfs, name= 'NUCLIDE'):\n",
    "    \"Get list of unique radionuclide types measured across samples.\"\n",
    "    nuclides = []\n",
    "    for k in dfs.keys():\n",
    "        nuclides += dfs[k][name].unique().tolist()\n",
    "    # remove duplicates from nuclides list.\n",
    "    nuclides=list(set(nuclides))\n",
    "    return nuclides"
   ]
  },
  {
   "cell_type": "markdown",
   "id": "f2ec568d",
   "metadata": {},
   "source": [
    "Return the unique nuclides in the ``dfs``. "
   ]
  },
  {
   "cell_type": "code",
   "execution_count": 20,
   "id": "10b24fe8",
   "metadata": {},
   "outputs": [
    {
     "data": {
      "text/plain": [
       "[nan,\n",
       " 'CS-137',\n",
       " 'Cs-137',\n",
       " '239, 240 Pu',\n",
       " '238Pu',\n",
       " '241Am',\n",
       " 'Cs-134',\n",
       " '210Po',\n",
       " '239,240Pu',\n",
       " '99Tc',\n",
       " '210Pb',\n",
       " '137Cs',\n",
       " '228Ra',\n",
       " 'RA-226',\n",
       " 'RA-228',\n",
       " 'CS-134',\n",
       " '3H',\n",
       " '226Ra']"
      ]
     },
     "execution_count": 20,
     "metadata": {},
     "output_type": "execute_result"
    }
   ],
   "source": [
    "get_unique_nuclides(dfs, name= 'Nuclide')"
   ]
  },
  {
   "cell_type": "markdown",
   "id": "eb830367",
   "metadata": {},
   "source": [
    "Check if the unique nuclides in the ``dfs``. are valid in the ``maris-template.nc`` file."
   ]
  },
  {
   "cell_type": "code",
   "execution_count": 21,
   "id": "1441f770",
   "metadata": {},
   "outputs": [
    {
     "name": "stdout",
     "output_type": "stream",
     "text": [
      "\"nan\" variable name not found in MARIS CDL\n",
      "\"CS-137\" variable name not found in MARIS CDL\n",
      "\"Cs-137\" variable name not found in MARIS CDL\n",
      "\"239, 240 Pu\" variable name not found in MARIS CDL\n",
      "\"238Pu\" variable name not found in MARIS CDL\n",
      "\"241Am\" variable name not found in MARIS CDL\n",
      "\"Cs-134\" variable name not found in MARIS CDL\n",
      "\"210Po\" variable name not found in MARIS CDL\n",
      "\"239,240Pu\" variable name not found in MARIS CDL\n",
      "\"99Tc\" variable name not found in MARIS CDL\n",
      "\"210Pb\" variable name not found in MARIS CDL\n",
      "\"137Cs\" variable name not found in MARIS CDL\n",
      "\"228Ra\" variable name not found in MARIS CDL\n",
      "\"RA-226\" variable name not found in MARIS CDL\n",
      "\"RA-228\" variable name not found in MARIS CDL\n",
      "\"CS-134\" variable name not found in MARIS CDL\n",
      "\"3H\" variable name not found in MARIS CDL\n",
      "\"226Ra\" variable name not found in MARIS CDL\n"
     ]
    },
    {
     "data": {
      "text/plain": [
       "False"
      ]
     },
     "execution_count": 21,
     "metadata": {},
     "output_type": "execute_result"
    }
   ],
   "source": [
    "has_valid_varname(get_unique_nuclides(dfs,name= 'Nuclide'), nc_tpl_path())"
   ]
  },
  {
   "cell_type": "markdown",
   "id": "87ba660d",
   "metadata": {},
   "source": [
    "Return the Nuclide names defined in the ``maris-template.nc``."
   ]
  },
  {
   "cell_type": "code",
   "execution_count": 22,
   "id": "1da9ca31",
   "metadata": {},
   "outputs": [
    {
     "data": {
      "text/html": [
       "<div>\n",
       "<style scoped>\n",
       "    .dataframe tbody tr th:only-of-type {\n",
       "        vertical-align: middle;\n",
       "    }\n",
       "\n",
       "    .dataframe tbody tr th {\n",
       "        vertical-align: top;\n",
       "    }\n",
       "\n",
       "    .dataframe thead th {\n",
       "        text-align: right;\n",
       "    }\n",
       "</style>\n",
       "<table border=\"1\" class=\"dataframe\">\n",
       "  <thead>\n",
       "    <tr style=\"text-align: right;\">\n",
       "      <th></th>\n",
       "      <th>nuclide_id</th>\n",
       "      <th>nc_name</th>\n",
       "    </tr>\n",
       "  </thead>\n",
       "  <tbody>\n",
       "    <tr>\n",
       "      <th>0</th>\n",
       "      <td>-1</td>\n",
       "      <td>NaN</td>\n",
       "    </tr>\n",
       "    <tr>\n",
       "      <th>1</th>\n",
       "      <td>0</td>\n",
       "      <td>NaN</td>\n",
       "    </tr>\n",
       "    <tr>\n",
       "      <th>2</th>\n",
       "      <td>1</td>\n",
       "      <td>h3</td>\n",
       "    </tr>\n",
       "    <tr>\n",
       "      <th>3</th>\n",
       "      <td>2</td>\n",
       "      <td>be7</td>\n",
       "    </tr>\n",
       "    <tr>\n",
       "      <th>4</th>\n",
       "      <td>3</td>\n",
       "      <td>c14</td>\n",
       "    </tr>\n",
       "    <tr>\n",
       "      <th>...</th>\n",
       "      <td>...</td>\n",
       "      <td>...</td>\n",
       "    </tr>\n",
       "    <tr>\n",
       "      <th>129</th>\n",
       "      <td>138</td>\n",
       "      <td>tbeta40k</td>\n",
       "    </tr>\n",
       "    <tr>\n",
       "      <th>130</th>\n",
       "      <td>139</td>\n",
       "      <td>fe55</td>\n",
       "    </tr>\n",
       "    <tr>\n",
       "      <th>131</th>\n",
       "      <td>140</td>\n",
       "      <td>ce144_pr144_tot</td>\n",
       "    </tr>\n",
       "    <tr>\n",
       "      <th>132</th>\n",
       "      <td>141</td>\n",
       "      <td>pu240_pu239_ratio</td>\n",
       "    </tr>\n",
       "    <tr>\n",
       "      <th>133</th>\n",
       "      <td>142</td>\n",
       "      <td>pu241_pu239_ratio</td>\n",
       "    </tr>\n",
       "  </tbody>\n",
       "</table>\n",
       "<p>134 rows × 2 columns</p>\n",
       "</div>"
      ],
      "text/plain": [
       "     nuclide_id            nc_name\n",
       "0            -1                NaN\n",
       "1             0                NaN\n",
       "2             1                 h3\n",
       "3             2                be7\n",
       "4             3                c14\n",
       "..          ...                ...\n",
       "129         138           tbeta40k\n",
       "130         139               fe55\n",
       "131         140    ce144_pr144_tot\n",
       "132         141  pu240_pu239_ratio\n",
       "133         142  pu241_pu239_ratio\n",
       "\n",
       "[134 rows x 2 columns]"
      ]
     },
     "execution_count": 22,
     "metadata": {},
     "output_type": "execute_result"
    }
   ],
   "source": [
    "#| false\n",
    "def get_nuc_lut():\n",
    "    df = pd.read_excel(nuc_lut_path())\n",
    "    return df[['nuclide_id','nc_name']]\n",
    "get_nuc_lut()"
   ]
  },
  {
   "cell_type": "markdown",
   "id": "9a1c1ae0",
   "metadata": {},
   "source": [
    "The format of many nuclide names in the ``OSPAR`` dataset do not match those listed in the `maris-template.nc`. To address this, we have created a lookup table, ``varnames_lut_updates``, which will be used to correct the incompatible nuclide names within the dictionary of dataframes (i.e., ``dfs``) to ensure they are consistent with the maris-template.nc."
   ]
  },
  {
   "cell_type": "code",
   "execution_count": 23,
   "id": "6e70541a",
   "metadata": {},
   "outputs": [],
   "source": [
    "#| export\n",
    "\n",
    "varnames_lut_updates = {\n",
    "    '3H' : 'h3',\n",
    "    'Cs-134' : 'cs134',\n",
    "    '210Po' : 'po210',\n",
    "    '99Tc' : 'tc99',\n",
    "    '239, 240 Pu' : 'pu239_240_tot',\n",
    "    '226Ra': 'ra226',\n",
    "    'CS-134': 'cs134',\n",
    "    '228Ra': 'ra228',\n",
    "    'RA-226': 'ra226',\n",
    "    '238Pu': 'pu238',\n",
    "    '239,240Pu': 'pu239_240_tot',\n",
    "    '241Am': 'am241',\n",
    "    '137Cs': 'cs137',\n",
    "    'CS-137': 'cs137',\n",
    "    'RA-228': 'ra228',\n",
    "    'Cs-137': 'cs137',\n",
    "    '210Pb': 'pb210'\n",
    "        }"
   ]
  },
  {
   "cell_type": "markdown",
   "id": "bd44f6ea",
   "metadata": {},
   "source": [
    "Function `get_varnames_lut` returns a dictionary of nuclide names. This dictionary includes the `NUCLIDE` names from the dataframes in dfs, along with corrections specified in `varnames_lut_updates`."
   ]
  },
  {
   "cell_type": "code",
   "execution_count": 24,
   "id": "3b97fc0c",
   "metadata": {},
   "outputs": [],
   "source": [
    "#| export\n",
    "def get_varnames_lut(dfs, lut=varnames_lut_updates):\n",
    "    lut = {n: n for n in set(get_unique_nuclides(dfs, name='Nuclide'))}\n",
    "    lut.update(varnames_lut_updates)\n",
    "    return lut"
   ]
  },
  {
   "cell_type": "markdown",
   "id": "e2a1883f",
   "metadata": {},
   "source": [
    "Create a callback that remaps the nuclide names in the dataframes within dfs to the updated names in `varnames_lut_updates`."
   ]
  },
  {
   "cell_type": "code",
   "execution_count": 25,
   "id": "b06046d2",
   "metadata": {},
   "outputs": [],
   "source": [
    "# | export\n",
    "class RemapRdnNameCB(Callback):\n",
    "    \"Remap to MARIS radionuclide names.\"\n",
    "    def __init__(self,\n",
    "                 fn_lut=partial(get_varnames_lut, lut=varnames_lut_updates)):\n",
    "        fc.store_attr()\n",
    "\n",
    "    def __call__(self, tfm):\n",
    "        lut = self.fn_lut(tfm.dfs)\n",
    "        for grp in tfm.dfs.keys():\n",
    "            tfm.dfs[grp]['Nuclide'].replace(lut, inplace=True)\n",
    "            \n",
    "            # Keep rows where 'Nuclide' is not nan. \n",
    "            tfm.dfs[grp] = tfm.dfs[grp][tfm.dfs[grp][['Nuclide']].notna().any(axis='columns')]\n"
   ]
  },
  {
   "cell_type": "markdown",
   "id": "385575e3",
   "metadata": {},
   "source": [
    "Apply the transformer for callbacks `LowerStripRdnNameCB` and `RemapRdnNameCB`. Then, print the unique nuclides for each dataframe in the dictionary dfs."
   ]
  },
  {
   "cell_type": "code",
   "execution_count": 26,
   "id": "4702dcab",
   "metadata": {},
   "outputs": [
    {
     "name": "stdout",
     "output_type": "stream",
     "text": [
      "                                                    seawater  biota\n",
      "Number of rows in dfs :                                18856  15314\n",
      "Number of rows in tfm.dfs:                             18310  15314\n",
      "Number of dropped rows:                                  546      0\n",
      "Number of rows in tfm.dfs + Number of dropped r...     18856  15314 \n",
      "\n",
      "seawater nuclides: \n",
      "['cs137' 'pu239_240_tot' 'ra226' 'ra228' 'tc99' 'h3' 'po210' 'pb210']\n",
      "biota nuclides: \n",
      "['pu239_240_tot' 'tc99' 'cs137' 'ra226' 'ra228' 'pu238' 'am241' 'cs134'\n",
      " 'h3' 'pb210' 'po210']\n"
     ]
    }
   ],
   "source": [
    "#|eval: false\n",
    "dfs = load_data(fname_in)\n",
    "tfm = Transformer(dfs, cbs=[RemapRdnNameCB(),\n",
    "                            CompareDfsAndTfm(dfs)\n",
    "                            ])\n",
    "tfm()\n",
    "\n",
    "print(pd.DataFrame.from_dict(tfm.compare_stats) , '\\n')\n",
    "print('seawater nuclides: ')\n",
    "print(tfm.dfs['seawater']['Nuclide'].unique())\n",
    "print('biota nuclides: ')\n",
    "print(tfm.dfs['biota']['Nuclide'].unique())"
   ]
  },
  {
   "cell_type": "markdown",
   "id": "2a9fdd2a",
   "metadata": {},
   "source": [
    "After applying correction to the nuclide names check that all nuclide in the dictionary of dataframes are valid. Returns `True` if all are valid."
   ]
  },
  {
   "cell_type": "code",
   "execution_count": 27,
   "id": "b7b0e2d9",
   "metadata": {},
   "outputs": [
    {
     "data": {
      "text/plain": [
       "True"
      ]
     },
     "execution_count": 27,
     "metadata": {},
     "output_type": "execute_result"
    }
   ],
   "source": [
    "#|eval: false\n",
    "has_valid_varname(get_unique_nuclides(tfm.dfs, name='Nuclide'), nc_tpl_path())"
   ]
  },
  {
   "cell_type": "markdown",
   "id": "48a325a6",
   "metadata": {},
   "source": [
    "***"
   ]
  },
  {
   "cell_type": "markdown",
   "id": "e0a06898",
   "metadata": {},
   "source": [
    "### Parse time"
   ]
  },
  {
   "cell_type": "markdown",
   "id": "5f3ecde6",
   "metadata": {},
   "source": [
    "&nbsp;&nbsp;&nbsp;&nbsp;&nbsp;*NetCDF4 format variable: `time`.*"
   ]
  },
  {
   "cell_type": "markdown",
   "id": "8b82d78a",
   "metadata": {},
   "source": [
    "&nbsp;&nbsp;&nbsp;&nbsp;&nbsp;*Open Refine format variables: `Sampling start date` and `Sampling start time`.*"
   ]
  },
  {
   "cell_type": "markdown",
   "id": "b26cfaa7",
   "metadata": {},
   "source": [
    "Create a callback that remaps the time format in the dictionary of dataframes (i.e. `%m/%d/%y %H:%M:%S`):"
   ]
  },
  {
   "cell_type": "code",
   "execution_count": 28,
   "id": "4418b680",
   "metadata": {},
   "outputs": [],
   "source": [
    "#| export\n",
    "class ParseTimeCB(Callback):\n",
    "    def __call__(self, tfm):\n",
    "        for k in tfm.dfs.keys():\n",
    "            # drop nan values\n",
    "            tfm.dfs[k] = tfm.dfs[k][tfm.dfs[k]['Sampling date'].notna()]            \n",
    "            tfm.dfs[k]['time'] = pd.to_datetime(tfm.dfs[k]['Sampling date'], \n",
    "                                                format='%d/%m/%Y')\n",
    "                "
   ]
  },
  {
   "cell_type": "markdown",
   "id": "46b6c530",
   "metadata": {},
   "source": [
    "Apply the transformer for callbacks `RemapRdnNameCB` and `ParseTimeCB`. Then, print the `time` data for `seawater`."
   ]
  },
  {
   "cell_type": "code",
   "execution_count": 29,
   "id": "91a7ac77",
   "metadata": {},
   "outputs": [
    {
     "name": "stdout",
     "output_type": "stream",
     "text": [
      "0   2010-01-27\n",
      "1   2010-01-27\n",
      "2   2010-01-27\n",
      "3   2010-01-27\n",
      "4   2010-01-26\n",
      "Name: time, dtype: datetime64[ns]\n"
     ]
    }
   ],
   "source": [
    "#|eval: false\n",
    "dfs = load_data(fname_in)\n",
    "tfm = Transformer(dfs, cbs=[RemapRdnNameCB(),\n",
    "                            ParseTimeCB()])\n",
    "tfm()\n",
    "print(tfm.dfs['seawater']['time'][:5])"
   ]
  },
  {
   "cell_type": "markdown",
   "id": "0d0fad5b",
   "metadata": {},
   "source": [
    "***"
   ]
  },
  {
   "cell_type": "markdown",
   "id": "8bf2e653",
   "metadata": {},
   "source": [
    "### Encode time (seconds since ...)"
   ]
  },
  {
   "cell_type": "markdown",
   "id": "6d8649e8",
   "metadata": {},
   "source": [
    "&nbsp;&nbsp;&nbsp;&nbsp;&nbsp;*NetCDF4 format variable: ``time``*"
   ]
  },
  {
   "cell_type": "markdown",
   "id": "9cb87acb",
   "metadata": {},
   "source": [
    "&nbsp;&nbsp;&nbsp;&nbsp;&nbsp;*Open Refine format variables: `Sampling start date` and `Sampling start time`*"
   ]
  },
  {
   "cell_type": "markdown",
   "id": "bcdf89c4",
   "metadata": {},
   "source": [
    "`EncodeTimeCB` converts the HELCOM `time` format to the MARIS `time` format."
   ]
  },
  {
   "cell_type": "code",
   "execution_count": 30,
   "id": "b2af8641",
   "metadata": {},
   "outputs": [
    {
     "name": "stdout",
     "output_type": "stream",
     "text": [
      "                                                    seawater  biota\n",
      "Number of rows in dfs :                                18856  15314\n",
      "Number of rows in tfm.dfs:                             18308  15314\n",
      "Number of dropped rows:                                  548      0\n",
      "Number of rows in tfm.dfs + Number of dropped r...     18856  15314 \n",
      "\n"
     ]
    }
   ],
   "source": [
    "#|eval: false\n",
    "dfs = load_data(fname_in)\n",
    "tfm = Transformer(dfs, cbs=[RemapRdnNameCB(),\n",
    "                            ParseTimeCB(),\n",
    "                            EncodeTimeCB(cfg(), verbose = True),\n",
    "                            CompareDfsAndTfm(dfs)\n",
    "                            ])\n",
    "tfm()\n",
    "print(pd.DataFrame.from_dict(tfm.compare_stats) , '\\n')"
   ]
  },
  {
   "cell_type": "markdown",
   "id": "126f1fa3",
   "metadata": {},
   "source": [
    "***"
   ]
  },
  {
   "cell_type": "markdown",
   "id": "ebaa82f5",
   "metadata": {},
   "source": [
    "### Normalize uncertainty"
   ]
  },
  {
   "cell_type": "markdown",
   "id": "df8613e7",
   "metadata": {},
   "source": [
    "&nbsp;&nbsp;&nbsp;&nbsp;&nbsp;*NetCDF4 format variable: ``uncertainty``.*"
   ]
  },
  {
   "cell_type": "markdown",
   "id": "25ee770f",
   "metadata": {},
   "source": [
    "&nbsp;&nbsp;&nbsp;&nbsp;&nbsp;*Open Refine format variable: `Uncertainty`.*"
   ]
  },
  {
   "cell_type": "markdown",
   "id": "be2f0cb9",
   "metadata": {},
   "source": [
    "For each sample type in the OSPAR dataset, the uncertainty is given as an expanded uncertainty (k=2). See [OSPAR reporting guidelines](https://mcc.jrc.ec.europa.eu/documents/OSPAR/Guidelines_forestimationof_a_%20measurefor_uncertainty_in_OSPARmonitoring.pdf). The OSPAR uncertainty is normalized to standard uncertainty (k=1).   "
   ]
  },
  {
   "cell_type": "markdown",
   "id": "7987696c",
   "metadata": {},
   "source": [
    "Function `unc_exp2stan` coverts uncertainty from expanded uncertainty (k=2) to standard uncertainty (k=1)."
   ]
  },
  {
   "cell_type": "code",
   "execution_count": 31,
   "id": "88da0ad2",
   "metadata": {},
   "outputs": [],
   "source": [
    "#| export\n",
    "# Make measurement and uncertainty units consistent\n",
    "def unc_exp2stan(df, unc_col):\n",
    "    k = 2 \n",
    "    return df.apply(lambda row: row[unc_col]/k, axis=1)"
   ]
  },
  {
   "cell_type": "markdown",
   "id": "4c26d884",
   "metadata": {},
   "source": [
    "NormalizeUncCB callback normalizes the uncertainty by converting from expanded uncertainty to standard uncertainty. "
   ]
  },
  {
   "cell_type": "code",
   "execution_count": 32,
   "id": "7be2863f",
   "metadata": {},
   "outputs": [],
   "source": [
    "#| export\n",
    "class NormalizeUncCB(Callback):\n",
    "    \"Convert from expanded uncertainty to standard uncertainty\"\n",
    "    def __init__(self, \n",
    "                 fn_convert_unc=unc_exp2stan):\n",
    "        fc.store_attr()\n",
    "\n",
    "    def __call__(self, tfm):\n",
    "        for grp in tfm.dfs.keys():\n",
    "            tfm.dfs[grp]['Uncertainty'] = self.fn_convert_unc(tfm.dfs[grp], 'Uncertainty')"
   ]
  },
  {
   "cell_type": "markdown",
   "id": "8dac5d94",
   "metadata": {},
   "source": [
    "Apply the transformer for callbacks `RemapRdnNameCB`, `ParseTimeCB` and `NormalizeUncCB()`. Then, print the value (i.e. activity per unit ) and standard uncertainty for each sample type."
   ]
  },
  {
   "cell_type": "code",
   "execution_count": 33,
   "id": "ce3dc2b0",
   "metadata": {},
   "outputs": [
    {
     "name": "stdout",
     "output_type": "stream",
     "text": [
      "   Activity or MDA  Uncertainty\n",
      "0             0.20          NaN\n",
      "1             0.27          NaN\n",
      "2             0.26          NaN\n",
      "3             0.25          NaN\n",
      "4             0.20          NaN\n",
      "   Activity or MDA  Uncertainty\n",
      "0           0.3510        0.033\n",
      "1          39.0000        7.500\n",
      "2           0.0938        0.009\n",
      "3           1.5400        0.155\n",
      "4          16.0000        3.000\n"
     ]
    }
   ],
   "source": [
    "#|eval: false\n",
    "dfs = load_data(fname_in)\n",
    "tfm = Transformer(dfs, cbs=[\n",
    "                            RemapRdnNameCB(),\n",
    "                            ParseTimeCB(),\n",
    "                            EncodeTimeCB(cfg()),                             \n",
    "                            NormalizeUncCB()])\n",
    "tfm()\n",
    "print(tfm.dfs['seawater'][['Activity or MDA', 'Uncertainty']][:5])\n",
    "print(tfm.dfs['biota'][['Activity or MDA', 'Uncertainty']][:5])\n"
   ]
  },
  {
   "cell_type": "markdown",
   "id": "0937e0a1",
   "metadata": {},
   "source": [
    "***"
   ]
  },
  {
   "cell_type": "markdown",
   "id": "a8997afb",
   "metadata": {},
   "source": [
    "### Lookup transformations "
   ]
  },
  {
   "cell_type": "markdown",
   "id": "2c111582",
   "metadata": {},
   "source": [
    "#### Lookup MARIS function "
   ]
  },
  {
   "cell_type": "markdown",
   "id": "49abaab6",
   "metadata": {},
   "source": [
    "`get_maris_lut` performs a lookup of data provided in `data_provider_lut` against the MARIS lookup (`maris_lut`) using a fuzzy matching algorithm based on Levenshtein distance. The `get_maris_lut` is used to correct the HELCOM data to a standard format for MARIS. "
   ]
  },
  {
   "cell_type": "code",
   "execution_count": 34,
   "id": "dc03f3ec",
   "metadata": {},
   "outputs": [],
   "source": [
    "#|export\n",
    "def get_maris_lut(df_biota : pd.DataFrame,\n",
    "                  fname_cache : str, # For instance 'species_ospar.pkl'\n",
    "                  data_provider_name_col : str, # Data provider lookup column name of interest\n",
    "                  maris_lut : Callable, # Function retrieving MARIS source lookup table\n",
    "                  maris_id : str, # Id of MARIS lookup table nomenclature item to match\n",
    "                  maris_name : str, # Name of MARIS lookup table nomenclature item to match\n",
    "                  unmatched_fixes = {},\n",
    "                  as_dataframe = False,\n",
    "                  overwrite = False\n",
    "                 ):\n",
    "    fname_cache = cache_path() / fname_cache\n",
    "    lut = {}\n",
    "    maris_lut = maris_lut()\n",
    "\n",
    "    if overwrite or (not fname_cache.exists()):        \n",
    "        df = pd.DataFrame({data_provider_name_col : df_biota[data_provider_name_col].unique()})\n",
    "        \n",
    "        for _, row in tqdm(df.iterrows(), total=len(df)):\n",
    "            # Fix if unmatched\n",
    "            has_to_be_fixed = row[data_provider_name_col] in unmatched_fixes       \n",
    "            name_to_match = unmatched_fixes[row[data_provider_name_col]] if has_to_be_fixed else row[data_provider_name_col]\n",
    "            \n",
    "            # Match\n",
    "            result = match_maris_lut(maris_lut, str(name_to_match), maris_id, maris_name)\n",
    "            match = Match(result.iloc[0][maris_id], result.iloc[0][maris_name], \n",
    "                        row[data_provider_name_col], result.iloc[0]['score'])\n",
    "            lut[row[data_provider_name_col]] = match\n",
    "            \n",
    "        fc.save_pickle(fname_cache, lut)\n",
    "    else:\n",
    "        lut = fc.load_pickle(fname_cache)\n",
    "\n",
    "    if as_dataframe:\n",
    "        df_lut = pd.DataFrame({k: asdict(v) for k, v in lut.items()}).transpose()\n",
    "        df_lut.index.name = 'source_id'\n",
    "        return df_lut.sort_values(by='match_score', ascending=False)\n",
    "    else:\n",
    "        return lut"
   ]
  },
  {
   "cell_type": "markdown",
   "id": "821e510e",
   "metadata": {},
   "source": [
    "***"
   ]
  },
  {
   "cell_type": "markdown",
   "id": "93af5b68",
   "metadata": {},
   "source": [
    "#### Lookup : Biota species"
   ]
  },
  {
   "cell_type": "markdown",
   "id": "b7c73288",
   "metadata": {},
   "source": [
    "&nbsp;&nbsp;&nbsp;&nbsp;&nbsp;*NetCDF4 format variable: ``species``.*"
   ]
  },
  {
   "cell_type": "markdown",
   "id": "41ca82d1",
   "metadata": {},
   "source": [
    "&nbsp;&nbsp;&nbsp;&nbsp;&nbsp;*Open Refine format variable: `Species`.*"
   ]
  },
  {
   "cell_type": "markdown",
   "id": "b1fcf5c5",
   "metadata": {},
   "source": [
    "Create `unmatched_fixes_biota_species` to correct the spelling of names that are unmatched in the ``OSPAR`` dataset. "
   ]
  },
  {
   "cell_type": "markdown",
   "id": "5e8c48a2",
   "metadata": {},
   "source": [
    "For now, leave unmatched empty and return uncorrected species lut. "
   ]
  },
  {
   "cell_type": "code",
   "execution_count": 35,
   "id": "26003748",
   "metadata": {},
   "outputs": [],
   "source": [
    "#|export\n",
    "# key equals name in dfs['biota']. \n",
    "# value equals replacement name to use in match_maris_lut (i.e. name_to_match)\n",
    "unmatched_fixes_biota_species = {}"
   ]
  },
  {
   "cell_type": "code",
   "execution_count": 36,
   "id": "b29c0846",
   "metadata": {},
   "outputs": [
    {
     "name": "stderr",
     "output_type": "stream",
     "text": [
      "  0%|          | 0/156 [00:00<?, ?it/s]"
     ]
    },
    {
     "name": "stderr",
     "output_type": "stream",
     "text": [
      "100%|██████████| 156/156 [00:28<00:00,  5.50it/s]\n"
     ]
    },
    {
     "data": {
      "text/html": [
       "<div>\n",
       "<style scoped>\n",
       "    .dataframe tbody tr th:only-of-type {\n",
       "        vertical-align: middle;\n",
       "    }\n",
       "\n",
       "    .dataframe tbody tr th {\n",
       "        vertical-align: top;\n",
       "    }\n",
       "\n",
       "    .dataframe thead th {\n",
       "        text-align: right;\n",
       "    }\n",
       "</style>\n",
       "<table border=\"1\" class=\"dataframe\">\n",
       "  <thead>\n",
       "    <tr style=\"text-align: right;\">\n",
       "      <th></th>\n",
       "      <th>matched_id</th>\n",
       "      <th>matched_maris_name</th>\n",
       "      <th>source_name</th>\n",
       "      <th>match_score</th>\n",
       "    </tr>\n",
       "    <tr>\n",
       "      <th>source_id</th>\n",
       "      <th></th>\n",
       "      <th></th>\n",
       "      <th></th>\n",
       "      <th></th>\n",
       "    </tr>\n",
       "  </thead>\n",
       "  <tbody>\n",
       "    <tr>\n",
       "      <th>RHODYMENIA PSEUDOPALAMATA &amp; PALMARIA PALMATA</th>\n",
       "      <td>1426</td>\n",
       "      <td>Lomentaria catenata</td>\n",
       "      <td>RHODYMENIA PSEUDOPALAMATA &amp; PALMARIA PALMATA</td>\n",
       "      <td>31</td>\n",
       "    </tr>\n",
       "    <tr>\n",
       "      <th>Mixture of green, red and brown algae</th>\n",
       "      <td>814</td>\n",
       "      <td>Mercenaria mercenaria</td>\n",
       "      <td>Mixture of green, red and brown algae</td>\n",
       "      <td>26</td>\n",
       "    </tr>\n",
       "    <tr>\n",
       "      <th>Solea solea (S.vulgaris)</th>\n",
       "      <td>161</td>\n",
       "      <td>Loligo vulgaris</td>\n",
       "      <td>Solea solea (S.vulgaris)</td>\n",
       "      <td>12</td>\n",
       "    </tr>\n",
       "    <tr>\n",
       "      <th>SOLEA SOLEA (S.VULGARIS)</th>\n",
       "      <td>161</td>\n",
       "      <td>Loligo vulgaris</td>\n",
       "      <td>SOLEA SOLEA (S.VULGARIS)</td>\n",
       "      <td>12</td>\n",
       "    </tr>\n",
       "    <tr>\n",
       "      <th>CERASTODERMA (CARDIUM) EDULE</th>\n",
       "      <td>274</td>\n",
       "      <td>Cerastoderma edule</td>\n",
       "      <td>CERASTODERMA (CARDIUM) EDULE</td>\n",
       "      <td>10</td>\n",
       "    </tr>\n",
       "    <tr>\n",
       "      <th>Cerastoderma (Cardium) Edule</th>\n",
       "      <td>274</td>\n",
       "      <td>Cerastoderma edule</td>\n",
       "      <td>Cerastoderma (Cardium) Edule</td>\n",
       "      <td>10</td>\n",
       "    </tr>\n",
       "    <tr>\n",
       "      <th>MONODONTA LINEATA</th>\n",
       "      <td>1213</td>\n",
       "      <td>Ophiothrix lineata</td>\n",
       "      <td>MONODONTA LINEATA</td>\n",
       "      <td>9</td>\n",
       "    </tr>\n",
       "    <tr>\n",
       "      <th>NUCELLA LAPILLUS</th>\n",
       "      <td>363</td>\n",
       "      <td>Mugil cephalus</td>\n",
       "      <td>NUCELLA LAPILLUS</td>\n",
       "      <td>9</td>\n",
       "    </tr>\n",
       "    <tr>\n",
       "      <th>DICENTRARCHUS (MORONE) LABRAX</th>\n",
       "      <td>424</td>\n",
       "      <td>Dicentrarchus labrax</td>\n",
       "      <td>DICENTRARCHUS (MORONE) LABRAX</td>\n",
       "      <td>9</td>\n",
       "    </tr>\n",
       "    <tr>\n",
       "      <th>Pleuronectiformes [order]</th>\n",
       "      <td>411</td>\n",
       "      <td>Pleuronectiformes</td>\n",
       "      <td>Pleuronectiformes [order]</td>\n",
       "      <td>8</td>\n",
       "    </tr>\n",
       "    <tr>\n",
       "      <th>RAJIDAE/BATOIDEA</th>\n",
       "      <td>992</td>\n",
       "      <td>Batoidea</td>\n",
       "      <td>RAJIDAE/BATOIDEA</td>\n",
       "      <td>8</td>\n",
       "    </tr>\n",
       "    <tr>\n",
       "      <th>PALMARIA PALMATA</th>\n",
       "      <td>1104</td>\n",
       "      <td>Alaria marginata</td>\n",
       "      <td>PALMARIA PALMATA</td>\n",
       "      <td>7</td>\n",
       "    </tr>\n",
       "    <tr>\n",
       "      <th>Sepia spp.</th>\n",
       "      <td>408</td>\n",
       "      <td>Sepia</td>\n",
       "      <td>Sepia spp.</td>\n",
       "      <td>5</td>\n",
       "    </tr>\n",
       "    <tr>\n",
       "      <th>Rhodymenia spp.</th>\n",
       "      <td>396</td>\n",
       "      <td>Rhodymenia</td>\n",
       "      <td>Rhodymenia spp.</td>\n",
       "      <td>5</td>\n",
       "    </tr>\n",
       "    <tr>\n",
       "      <th>unknown</th>\n",
       "      <td>280</td>\n",
       "      <td>Plankton</td>\n",
       "      <td>unknown</td>\n",
       "      <td>5</td>\n",
       "    </tr>\n",
       "    <tr>\n",
       "      <th>RAJA DIPTURUS BATIS</th>\n",
       "      <td>436</td>\n",
       "      <td>Dipturus batis</td>\n",
       "      <td>RAJA DIPTURUS BATIS</td>\n",
       "      <td>5</td>\n",
       "    </tr>\n",
       "    <tr>\n",
       "      <th>Unknown</th>\n",
       "      <td>280</td>\n",
       "      <td>Plankton</td>\n",
       "      <td>Unknown</td>\n",
       "      <td>5</td>\n",
       "    </tr>\n",
       "    <tr>\n",
       "      <th>Flatfish</th>\n",
       "      <td>148</td>\n",
       "      <td>Lambia</td>\n",
       "      <td>Flatfish</td>\n",
       "      <td>5</td>\n",
       "    </tr>\n",
       "    <tr>\n",
       "      <th>FUCUS SPP.</th>\n",
       "      <td>395</td>\n",
       "      <td>Fucus</td>\n",
       "      <td>FUCUS SPP.</td>\n",
       "      <td>5</td>\n",
       "    </tr>\n",
       "    <tr>\n",
       "      <th>Patella sp.</th>\n",
       "      <td>1221</td>\n",
       "      <td>Patella aspera</td>\n",
       "      <td>Patella sp.</td>\n",
       "      <td>4</td>\n",
       "    </tr>\n",
       "    <tr>\n",
       "      <th>FUCUS spp</th>\n",
       "      <td>395</td>\n",
       "      <td>Fucus</td>\n",
       "      <td>FUCUS spp</td>\n",
       "      <td>4</td>\n",
       "    </tr>\n",
       "    <tr>\n",
       "      <th>Tapes sp.</th>\n",
       "      <td>431</td>\n",
       "      <td>Tapes</td>\n",
       "      <td>Tapes sp.</td>\n",
       "      <td>4</td>\n",
       "    </tr>\n",
       "    <tr>\n",
       "      <th>Thunnus sp.</th>\n",
       "      <td>442</td>\n",
       "      <td>Thunnus</td>\n",
       "      <td>Thunnus sp.</td>\n",
       "      <td>4</td>\n",
       "    </tr>\n",
       "    <tr>\n",
       "      <th>RHODYMENIA spp</th>\n",
       "      <td>396</td>\n",
       "      <td>Rhodymenia</td>\n",
       "      <td>RHODYMENIA spp</td>\n",
       "      <td>4</td>\n",
       "    </tr>\n",
       "    <tr>\n",
       "      <th>NaN</th>\n",
       "      <td>719</td>\n",
       "      <td>Ensis</td>\n",
       "      <td>NaN</td>\n",
       "      <td>4</td>\n",
       "    </tr>\n",
       "    <tr>\n",
       "      <th>Fucus sp.</th>\n",
       "      <td>395</td>\n",
       "      <td>Fucus</td>\n",
       "      <td>Fucus sp.</td>\n",
       "      <td>4</td>\n",
       "    </tr>\n",
       "    <tr>\n",
       "      <th>Gadus sp.</th>\n",
       "      <td>409</td>\n",
       "      <td>Gadus</td>\n",
       "      <td>Gadus sp.</td>\n",
       "      <td>4</td>\n",
       "    </tr>\n",
       "    <tr>\n",
       "      <th>PECTINIDAE</th>\n",
       "      <td>1442</td>\n",
       "      <td>Buccinidae</td>\n",
       "      <td>PECTINIDAE</td>\n",
       "      <td>3</td>\n",
       "    </tr>\n",
       "    <tr>\n",
       "      <th>PLUERONECTES PLATESSA</th>\n",
       "      <td>192</td>\n",
       "      <td>Pleuronectes platessa</td>\n",
       "      <td>PLUERONECTES PLATESSA</td>\n",
       "      <td>2</td>\n",
       "    </tr>\n",
       "    <tr>\n",
       "      <th>Gaidropsarus argenteus</th>\n",
       "      <td>444</td>\n",
       "      <td>Gaidropsarus argentatus</td>\n",
       "      <td>Gaidropsarus argenteus</td>\n",
       "      <td>2</td>\n",
       "    </tr>\n",
       "  </tbody>\n",
       "</table>\n",
       "</div>"
      ],
      "text/plain": [
       "                                             matched_id  \\\n",
       "source_id                                                 \n",
       "RHODYMENIA PSEUDOPALAMATA & PALMARIA PALMATA       1426   \n",
       "Mixture of green, red and brown algae               814   \n",
       "Solea solea (S.vulgaris)                            161   \n",
       "SOLEA SOLEA (S.VULGARIS)                            161   \n",
       "CERASTODERMA (CARDIUM) EDULE                        274   \n",
       "Cerastoderma (Cardium) Edule                        274   \n",
       "MONODONTA LINEATA                                  1213   \n",
       "NUCELLA LAPILLUS                                    363   \n",
       "DICENTRARCHUS (MORONE) LABRAX                       424   \n",
       "Pleuronectiformes [order]                           411   \n",
       "RAJIDAE/BATOIDEA                                    992   \n",
       "PALMARIA PALMATA                                   1104   \n",
       "Sepia spp.                                          408   \n",
       "Rhodymenia spp.                                     396   \n",
       "unknown                                             280   \n",
       "RAJA DIPTURUS BATIS                                 436   \n",
       "Unknown                                             280   \n",
       "Flatfish                                            148   \n",
       "FUCUS SPP.                                          395   \n",
       "Patella sp.                                        1221   \n",
       "FUCUS spp                                           395   \n",
       "Tapes sp.                                           431   \n",
       "Thunnus sp.                                         442   \n",
       "RHODYMENIA spp                                      396   \n",
       "NaN                                                 719   \n",
       "Fucus sp.                                           395   \n",
       "Gadus sp.                                           409   \n",
       "PECTINIDAE                                         1442   \n",
       "PLUERONECTES PLATESSA                               192   \n",
       "Gaidropsarus argenteus                              444   \n",
       "\n",
       "                                                   matched_maris_name  \\\n",
       "source_id                                                               \n",
       "RHODYMENIA PSEUDOPALAMATA & PALMARIA PALMATA      Lomentaria catenata   \n",
       "Mixture of green, red and brown algae           Mercenaria mercenaria   \n",
       "Solea solea (S.vulgaris)                              Loligo vulgaris   \n",
       "SOLEA SOLEA (S.VULGARIS)                              Loligo vulgaris   \n",
       "CERASTODERMA (CARDIUM) EDULE                       Cerastoderma edule   \n",
       "Cerastoderma (Cardium) Edule                       Cerastoderma edule   \n",
       "MONODONTA LINEATA                                  Ophiothrix lineata   \n",
       "NUCELLA LAPILLUS                                       Mugil cephalus   \n",
       "DICENTRARCHUS (MORONE) LABRAX                    Dicentrarchus labrax   \n",
       "Pleuronectiformes [order]                           Pleuronectiformes   \n",
       "RAJIDAE/BATOIDEA                                             Batoidea   \n",
       "PALMARIA PALMATA                                     Alaria marginata   \n",
       "Sepia spp.                                                      Sepia   \n",
       "Rhodymenia spp.                                            Rhodymenia   \n",
       "unknown                                                      Plankton   \n",
       "RAJA DIPTURUS BATIS                                    Dipturus batis   \n",
       "Unknown                                                      Plankton   \n",
       "Flatfish                                                       Lambia   \n",
       "FUCUS SPP.                                                      Fucus   \n",
       "Patella sp.                                            Patella aspera   \n",
       "FUCUS spp                                                       Fucus   \n",
       "Tapes sp.                                                       Tapes   \n",
       "Thunnus sp.                                                   Thunnus   \n",
       "RHODYMENIA spp                                             Rhodymenia   \n",
       "NaN                                                             Ensis   \n",
       "Fucus sp.                                                       Fucus   \n",
       "Gadus sp.                                                       Gadus   \n",
       "PECTINIDAE                                                 Buccinidae   \n",
       "PLUERONECTES PLATESSA                           Pleuronectes platessa   \n",
       "Gaidropsarus argenteus                        Gaidropsarus argentatus   \n",
       "\n",
       "                                                                               source_name  \\\n",
       "source_id                                                                                    \n",
       "RHODYMENIA PSEUDOPALAMATA & PALMARIA PALMATA  RHODYMENIA PSEUDOPALAMATA & PALMARIA PALMATA   \n",
       "Mixture of green, red and brown algae                Mixture of green, red and brown algae   \n",
       "Solea solea (S.vulgaris)                                          Solea solea (S.vulgaris)   \n",
       "SOLEA SOLEA (S.VULGARIS)                                          SOLEA SOLEA (S.VULGARIS)   \n",
       "CERASTODERMA (CARDIUM) EDULE                                  CERASTODERMA (CARDIUM) EDULE   \n",
       "Cerastoderma (Cardium) Edule                                  Cerastoderma (Cardium) Edule   \n",
       "MONODONTA LINEATA                                                        MONODONTA LINEATA   \n",
       "NUCELLA LAPILLUS                                                          NUCELLA LAPILLUS   \n",
       "DICENTRARCHUS (MORONE) LABRAX                                DICENTRARCHUS (MORONE) LABRAX   \n",
       "Pleuronectiformes [order]                                        Pleuronectiformes [order]   \n",
       "RAJIDAE/BATOIDEA                                                          RAJIDAE/BATOIDEA   \n",
       "PALMARIA PALMATA                                                          PALMARIA PALMATA   \n",
       "Sepia spp.                                                                      Sepia spp.   \n",
       "Rhodymenia spp.                                                            Rhodymenia spp.   \n",
       "unknown                                                                            unknown   \n",
       "RAJA DIPTURUS BATIS                                                    RAJA DIPTURUS BATIS   \n",
       "Unknown                                                                            Unknown   \n",
       "Flatfish                                                                          Flatfish   \n",
       "FUCUS SPP.                                                                      FUCUS SPP.   \n",
       "Patella sp.                                                                    Patella sp.   \n",
       "FUCUS spp                                                                        FUCUS spp   \n",
       "Tapes sp.                                                                        Tapes sp.   \n",
       "Thunnus sp.                                                                    Thunnus sp.   \n",
       "RHODYMENIA spp                                                              RHODYMENIA spp   \n",
       "NaN                                                                                    NaN   \n",
       "Fucus sp.                                                                        Fucus sp.   \n",
       "Gadus sp.                                                                        Gadus sp.   \n",
       "PECTINIDAE                                                                      PECTINIDAE   \n",
       "PLUERONECTES PLATESSA                                                PLUERONECTES PLATESSA   \n",
       "Gaidropsarus argenteus                                              Gaidropsarus argenteus   \n",
       "\n",
       "                                             match_score  \n",
       "source_id                                                 \n",
       "RHODYMENIA PSEUDOPALAMATA & PALMARIA PALMATA          31  \n",
       "Mixture of green, red and brown algae                 26  \n",
       "Solea solea (S.vulgaris)                              12  \n",
       "SOLEA SOLEA (S.VULGARIS)                              12  \n",
       "CERASTODERMA (CARDIUM) EDULE                          10  \n",
       "Cerastoderma (Cardium) Edule                          10  \n",
       "MONODONTA LINEATA                                      9  \n",
       "NUCELLA LAPILLUS                                       9  \n",
       "DICENTRARCHUS (MORONE) LABRAX                          9  \n",
       "Pleuronectiformes [order]                              8  \n",
       "RAJIDAE/BATOIDEA                                       8  \n",
       "PALMARIA PALMATA                                       7  \n",
       "Sepia spp.                                             5  \n",
       "Rhodymenia spp.                                        5  \n",
       "unknown                                                5  \n",
       "RAJA DIPTURUS BATIS                                    5  \n",
       "Unknown                                                5  \n",
       "Flatfish                                               5  \n",
       "FUCUS SPP.                                             5  \n",
       "Patella sp.                                            4  \n",
       "FUCUS spp                                              4  \n",
       "Tapes sp.                                              4  \n",
       "Thunnus sp.                                            4  \n",
       "RHODYMENIA spp                                         4  \n",
       "NaN                                                    4  \n",
       "Fucus sp.                                              4  \n",
       "Gadus sp.                                              4  \n",
       "PECTINIDAE                                             3  \n",
       "PLUERONECTES PLATESSA                                  2  \n",
       "Gaidropsarus argenteus                                 2  "
      ]
     },
     "execution_count": 36,
     "metadata": {},
     "output_type": "execute_result"
    }
   ],
   "source": [
    "#|eval: false\n",
    "# ignore nan values for now. \n",
    "#tfm.dfs['biota']=tfm.dfs['biota'][tfm.dfs['biota']['Species'].notna()]\n",
    "species_lut_df = get_maris_lut(df_biota=tfm.dfs['biota'], \n",
    "                                fname_cache='species_ospar.pkl', \n",
    "                                data_provider_name_col='Species',\n",
    "                                maris_lut=species_lut_path,\n",
    "                                maris_id='species_id',\n",
    "                                maris_name='species',\n",
    "                                unmatched_fixes=unmatched_fixes_biota_species,\n",
    "                                as_dataframe=True,\n",
    "                                overwrite=True)\n",
    "# Show `maris_species_lut` where `match_type` is not a perfect match ( i.e. not equal 0).\n",
    "species_lut_df[species_lut_df['match_score'] > 1]"
   ]
  },
  {
   "cell_type": "markdown",
   "id": "b03bd04e",
   "metadata": {},
   "source": [
    "Update `unmatched_fixes_biota_species` to correct for entries that are unmatched in the ``OSPAR`` dataset. "
   ]
  },
  {
   "cell_type": "code",
   "execution_count": 37,
   "id": "e8aa7fad",
   "metadata": {},
   "outputs": [],
   "source": [
    "#|export\n",
    "# LookupBiotaSpeciesCB filters 'Not available'. \n",
    "unmatched_fixes_biota_species = {'RHODYMENIA PSEUDOPALAMATA & PALMARIA PALMATA': 'Not available', # mix\n",
    " 'Mixture of green, red and brown algae': 'Not available', #mix \n",
    " 'Solea solea (S.vulgaris)': 'Solea solea',\n",
    " 'SOLEA SOLEA (S.VULGARIS)': 'Solea solea',\n",
    " 'CERASTODERMA (CARDIUM) EDULE': 'Cerastoderma edule',\n",
    " 'Cerastoderma (Cardium) Edule': 'Cerastoderma edule',\n",
    " 'MONODONTA LINEATA': 'Phorcus lineatus',\n",
    " 'NUCELLA LAPILLUS': 'Not available', # Droped. In worms 'Nucella lapillus (Linnaeus, 1758)', \n",
    " 'DICENTRARCHUS (MORONE) LABRAX': 'Dicentrarchus labrax',\n",
    " 'Pleuronectiformes [order]': 'Pleuronectiformes',\n",
    " 'RAJIDAE/BATOIDEA': 'Not available', #mix \n",
    " 'PALMARIA PALMATA': 'Not available', # Dropped. In worms 'Palmaria palmata (Linnaeus) F.Weber & D.Mohr, 1805',\n",
    " 'Sepia spp.': 'Sepia',\n",
    " 'Rhodymenia spp.': 'Rhodymenia',\n",
    " 'unknown': 'Not available',\n",
    " 'RAJA DIPTURUS BATIS': 'Dipturus batis',\n",
    " 'Unknown' : 'Not available',\n",
    " 'Flatfish' : 'Not available',\n",
    " 'FUCUS SPP.' : 'FUCUS',\n",
    " 'Patella sp.' : 'Patella',\n",
    " 'Gadus sp.' : 'Gadus',\n",
    " 'FUCUS spp' : 'FUCUS',\n",
    " 'Tapes sp.' : 'Tapes',\n",
    " 'Thunnus sp.' : 'Thunnus',\n",
    " 'RHODYMENIA spp' : 'RHODYMENIA',\n",
    " 'Fucus sp.' : 'Fucus',\n",
    " 'PECTINIDAE' : 'Not available', # Droped. In worms as PECTINIDAE is a family.\n",
    " 'PLUERONECTES PLATESSA' : 'Pleuronectes platessa',\n",
    " 'Gaidropsarus argenteus' : 'Gaidropsarus argentatus', \n",
    " }"
   ]
  },
  {
   "cell_type": "code",
   "execution_count": 38,
   "id": "9ad5f944",
   "metadata": {},
   "outputs": [
    {
     "name": "stderr",
     "output_type": "stream",
     "text": [
      "  0%|          | 0/156 [00:00<?, ?it/s]"
     ]
    },
    {
     "name": "stderr",
     "output_type": "stream",
     "text": [
      "100%|██████████| 156/156 [00:28<00:00,  5.55it/s]\n"
     ]
    },
    {
     "data": {
      "text/html": [
       "<div>\n",
       "<style scoped>\n",
       "    .dataframe tbody tr th:only-of-type {\n",
       "        vertical-align: middle;\n",
       "    }\n",
       "\n",
       "    .dataframe tbody tr th {\n",
       "        vertical-align: top;\n",
       "    }\n",
       "\n",
       "    .dataframe thead th {\n",
       "        text-align: right;\n",
       "    }\n",
       "</style>\n",
       "<table border=\"1\" class=\"dataframe\">\n",
       "  <thead>\n",
       "    <tr style=\"text-align: right;\">\n",
       "      <th></th>\n",
       "      <th>matched_id</th>\n",
       "      <th>matched_maris_name</th>\n",
       "      <th>source_name</th>\n",
       "      <th>match_score</th>\n",
       "    </tr>\n",
       "    <tr>\n",
       "      <th>source_id</th>\n",
       "      <th></th>\n",
       "      <th></th>\n",
       "      <th></th>\n",
       "      <th></th>\n",
       "    </tr>\n",
       "  </thead>\n",
       "  <tbody>\n",
       "    <tr>\n",
       "      <th>NaN</th>\n",
       "      <td>719</td>\n",
       "      <td>Ensis</td>\n",
       "      <td>NaN</td>\n",
       "      <td>4</td>\n",
       "    </tr>\n",
       "  </tbody>\n",
       "</table>\n",
       "</div>"
      ],
      "text/plain": [
       "          matched_id matched_maris_name source_name match_score\n",
       "source_id                                                      \n",
       "NaN              719              Ensis         NaN           4"
      ]
     },
     "execution_count": 38,
     "metadata": {},
     "output_type": "execute_result"
    }
   ],
   "source": [
    "#|eval: false\n",
    "species_lut_df = get_maris_lut(df_biota=tfm.dfs['biota'], \n",
    "                                fname_cache='species_ospar.pkl', \n",
    "                                data_provider_name_col='Species',\n",
    "                                maris_lut=species_lut_path,\n",
    "                                maris_id='species_id',\n",
    "                                maris_name='species',\n",
    "                                unmatched_fixes=unmatched_fixes_biota_species,\n",
    "                                as_dataframe=True,\n",
    "                                overwrite=True)\n",
    "# Show `maris_species_lut` where `match_type` is not a perfect match ( i.e. not equal 0).\n",
    "species_lut_df[species_lut_df['match_score'] > 1]"
   ]
  },
  {
   "cell_type": "markdown",
   "id": "a0b6a06d",
   "metadata": {},
   "source": [
    "For ``Species`` included ``unmatched_fixes_biota_species`` with a value of ``Not available`` or ``Species`` with a value of NaN use  ``Biological group`` variable for the ``Species``."
   ]
  },
  {
   "cell_type": "markdown",
   "id": "b030d23a",
   "metadata": {},
   "source": [
    "Return a list of unique 'Biological group' variables"
   ]
  },
  {
   "cell_type": "code",
   "execution_count": 39,
   "id": "4e591bb3",
   "metadata": {},
   "outputs": [
    {
     "data": {
      "text/plain": [
       "array(['Molluscs', 'Seaweed', 'Fish', 'FISH', 'seaweed', 'SEAWEED',\n",
       "       'molluscs', 'fish', 'MOLLUSCS'], dtype=object)"
      ]
     },
     "execution_count": 39,
     "metadata": {},
     "output_type": "execute_result"
    }
   ],
   "source": [
    "tfm.dfs['biota']['Biological group'].unique()"
   ]
  },
  {
   "cell_type": "markdown",
   "id": "9778b15c",
   "metadata": {},
   "source": [
    "Update unmatched_fixes_biota_species to include the corrections for `Biological group`."
   ]
  },
  {
   "cell_type": "code",
   "execution_count": 40,
   "id": "58cd1947",
   "metadata": {},
   "outputs": [],
   "source": [
    "unmatched_fixes_biota_species.update({\n",
    "# Biological group corrections\n",
    "'Molluscs' : 'Mollusca',\n",
    "'Seaweed' : 'Seaweed',\n",
    "'Fish' : 'Pisces',\n",
    "'FISH' : 'Pisces',\n",
    "'seaweed' : 'Seaweed',\n",
    "'SEAWEED' : 'Seaweed',\n",
    "'molluscs' : 'Mollusca',\n",
    "'fish' : 'Pisces',\n",
    "'MOLLUSCS' : 'Mollusca' })"
   ]
  },
  {
   "cell_type": "code",
   "execution_count": 41,
   "id": "ab958b52",
   "metadata": {},
   "outputs": [
    {
     "name": "stderr",
     "output_type": "stream",
     "text": [
      "  0%|          | 0/156 [00:00<?, ?it/s]"
     ]
    },
    {
     "name": "stderr",
     "output_type": "stream",
     "text": [
      "100%|██████████| 156/156 [00:27<00:00,  5.59it/s]\n"
     ]
    },
    {
     "data": {
      "text/html": [
       "<div>\n",
       "<style scoped>\n",
       "    .dataframe tbody tr th:only-of-type {\n",
       "        vertical-align: middle;\n",
       "    }\n",
       "\n",
       "    .dataframe tbody tr th {\n",
       "        vertical-align: top;\n",
       "    }\n",
       "\n",
       "    .dataframe thead th {\n",
       "        text-align: right;\n",
       "    }\n",
       "</style>\n",
       "<table border=\"1\" class=\"dataframe\">\n",
       "  <thead>\n",
       "    <tr style=\"text-align: right;\">\n",
       "      <th></th>\n",
       "      <th>matched_id</th>\n",
       "      <th>matched_maris_name</th>\n",
       "      <th>source_name</th>\n",
       "      <th>match_score</th>\n",
       "    </tr>\n",
       "    <tr>\n",
       "      <th>source_id</th>\n",
       "      <th></th>\n",
       "      <th></th>\n",
       "      <th></th>\n",
       "      <th></th>\n",
       "    </tr>\n",
       "  </thead>\n",
       "  <tbody>\n",
       "    <tr>\n",
       "      <th>NaN</th>\n",
       "      <td>719</td>\n",
       "      <td>Ensis</td>\n",
       "      <td>NaN</td>\n",
       "      <td>4</td>\n",
       "    </tr>\n",
       "  </tbody>\n",
       "</table>\n",
       "</div>"
      ],
      "text/plain": [
       "          matched_id matched_maris_name source_name match_score\n",
       "source_id                                                      \n",
       "NaN              719              Ensis         NaN           4"
      ]
     },
     "execution_count": 41,
     "metadata": {},
     "output_type": "execute_result"
    }
   ],
   "source": [
    "#|eval: false\n",
    "species_lut_df = get_maris_lut(df_biota=tfm.dfs['biota'], \n",
    "                                fname_cache='species_ospar.pkl', \n",
    "                                data_provider_name_col='Species',\n",
    "                                maris_lut=species_lut_path,\n",
    "                                maris_id='species_id',\n",
    "                                maris_name='species',\n",
    "                                unmatched_fixes=unmatched_fixes_biota_species,\n",
    "                                as_dataframe=True,\n",
    "                                overwrite=True)\n",
    "# Show `maris_species_lut` where `match_type` is not a perfect match ( i.e. not equal 0).\n",
    "species_lut_df[species_lut_df['match_score'] > 1]"
   ]
  },
  {
   "cell_type": "markdown",
   "id": "b79d2441",
   "metadata": {},
   "source": [
    "`get_maris_species` defines a partial function of `get_maris_lut`, with predefined arguments  for species lookup."
   ]
  },
  {
   "cell_type": "code",
   "execution_count": 42,
   "id": "e7306ee3",
   "metadata": {},
   "outputs": [],
   "source": [
    "#| export\n",
    "get_maris_species = partial(get_maris_lut, \n",
    "                fname_cache='species_ospar.pkl', \n",
    "                data_provider_name_col='Species',\n",
    "                maris_lut=species_lut_path,\n",
    "                maris_id='species_id',\n",
    "                maris_name='species',\n",
    "                unmatched_fixes=unmatched_fixes_biota_species,\n",
    "                as_dataframe=False,\n",
    "                overwrite=False)"
   ]
  },
  {
   "cell_type": "markdown",
   "id": "68ae8f8b",
   "metadata": {},
   "source": [
    "`LookupBiotaSpeciesCB` applies the corrected `biota` `species` data obtained from the `get_maris_species` function to the `biota` dataframe in the dictionary of dataframes, `dfs`."
   ]
  },
  {
   "cell_type": "code",
   "execution_count": 43,
   "id": "41d0c556",
   "metadata": {},
   "outputs": [],
   "source": [
    "#| export\n",
    "class LookupBiotaSpeciesCB(Callback):\n",
    "    \"\"\"\n",
    "    Biota species remapped to MARIS db:\n",
    "    \"\"\"\n",
    "    def __init__(self, fn_lut, unmatched_dict): fc.store_attr()\n",
    "    def __call__(self, tfm):\n",
    "        lut = self.fn_lut(tfm.dfs['biota']) \n",
    "        unmatched_fixes_biota_species=self.unmatched_dict\n",
    "        # For ``Species`` included ``unmatched_fixes_biota_species`` with a value of ``Not available`` or ``Species`` with a value of NaN, replace ``Species`` variable with ``Biological group`` variable.  \n",
    "        na_biota_species = [k for k,v in unmatched_fixes_biota_species.items() if v == 'Not available']\n",
    "        tfm.dfs['biota']['Species'] = tfm.dfs['biota'].apply(lambda row: row.loc['Biological group'] if (row.loc['Species'] in na_biota_species or pd.isna(row.loc['Species'])) else row.loc['Species'], axis=1)\n",
    "        # Correct unmatched \n",
    "        tfm.dfs['biota']['Species'] = tfm.dfs['biota']['Species'].apply(lambda x: unmatched_fixes_biota_species[x] if x in unmatched_fixes_biota_species.keys() else x)\n",
    "        # Perform lookup \n",
    "        tfm.dfs['biota']['species'] = tfm.dfs['biota']['Species'].apply(lambda x: lut[x].matched_id)"
   ]
  },
  {
   "cell_type": "markdown",
   "id": "6d799dff",
   "metadata": {},
   "source": [
    "Apply the transformer for callbacks `RemapRdnNameCB`, `ParseTimeCB`,  `NormalizeUncCB()` and `LookupBiotaSpeciesCB()`. Then, print the unique `species` for the `biota` dataframe."
   ]
  },
  {
   "cell_type": "code",
   "execution_count": 44,
   "id": "47ed96ed",
   "metadata": {},
   "outputs": [
    {
     "ename": "KeyError",
     "evalue": "'FUCUS'",
     "output_type": "error",
     "traceback": [
      "\u001b[0;31m---------------------------------------------------------------------------\u001b[0m",
      "\u001b[0;31mKeyError\u001b[0m                                  Traceback (most recent call last)",
      "Cell \u001b[0;32mIn[44], line 11\u001b[0m\n\u001b[1;32m      2\u001b[0m dfs \u001b[38;5;241m=\u001b[39m load_data(fname_in)\n\u001b[1;32m      3\u001b[0m tfm \u001b[38;5;241m=\u001b[39m Transformer(dfs, cbs\u001b[38;5;241m=\u001b[39m[\n\u001b[1;32m      4\u001b[0m                             RemapRdnNameCB(),\n\u001b[1;32m      5\u001b[0m                             ParseTimeCB(),\n\u001b[0;32m   (...)\u001b[0m\n\u001b[1;32m      9\u001b[0m                             CompareDfsAndTfm(dfs)\n\u001b[1;32m     10\u001b[0m                             ])\n\u001b[0;32m---> 11\u001b[0m \u001b[43mtfm\u001b[49m\u001b[43m(\u001b[49m\u001b[43m)\u001b[49m\n\u001b[1;32m     13\u001b[0m \u001b[38;5;28mprint\u001b[39m(pd\u001b[38;5;241m.\u001b[39mDataFrame\u001b[38;5;241m.\u001b[39mfrom_dict(tfm\u001b[38;5;241m.\u001b[39mcompare_stats) , \u001b[38;5;124m'\u001b[39m\u001b[38;5;130;01m\\n\u001b[39;00m\u001b[38;5;124m'\u001b[39m)\n",
      "File \u001b[0;32m~/downloads/marisco/marisco/callbacks.py:50\u001b[0m, in \u001b[0;36mTransformer.__call__\u001b[0;34m(self)\u001b[0m\n\u001b[1;32m     49\u001b[0m \u001b[38;5;28;01mdef\u001b[39;00m \u001b[38;5;21m__call__\u001b[39m(\u001b[38;5;28mself\u001b[39m):\n\u001b[0;32m---> 50\u001b[0m     \u001b[38;5;28;01mif\u001b[39;00m \u001b[38;5;28mself\u001b[39m\u001b[38;5;241m.\u001b[39mcbs: \u001b[38;5;28;43mself\u001b[39;49m\u001b[38;5;241;43m.\u001b[39;49m\u001b[43mcallback\u001b[49m\u001b[43m(\u001b[49m\u001b[43m)\u001b[49m\n\u001b[1;32m     51\u001b[0m     \u001b[38;5;28;01mreturn\u001b[39;00m \u001b[38;5;28mself\u001b[39m\u001b[38;5;241m.\u001b[39mdfs\n",
      "File \u001b[0;32m~/downloads/marisco/marisco/callbacks.py:41\u001b[0m, in \u001b[0;36mTransformer.callback\u001b[0;34m(self)\u001b[0m\n\u001b[1;32m     40\u001b[0m \u001b[38;5;28;01mdef\u001b[39;00m \u001b[38;5;21mcallback\u001b[39m(\u001b[38;5;28mself\u001b[39m):\n\u001b[0;32m---> 41\u001b[0m     \u001b[43mrun_cbs\u001b[49m\u001b[43m(\u001b[49m\u001b[38;5;28;43mself\u001b[39;49m\u001b[38;5;241;43m.\u001b[39;49m\u001b[43mcbs\u001b[49m\u001b[43m,\u001b[49m\u001b[43m \u001b[49m\u001b[38;5;28;43mself\u001b[39;49m\u001b[43m)\u001b[49m\n",
      "File \u001b[0;32m~/downloads/marisco/marisco/callbacks.py:22\u001b[0m, in \u001b[0;36mrun_cbs\u001b[0;34m(cbs, obj)\u001b[0m\n\u001b[1;32m     20\u001b[0m \u001b[38;5;28;01mfor\u001b[39;00m cb \u001b[38;5;129;01min\u001b[39;00m \u001b[38;5;28msorted\u001b[39m(cbs, key\u001b[38;5;241m=\u001b[39mattrgetter(\u001b[38;5;124m'\u001b[39m\u001b[38;5;124morder\u001b[39m\u001b[38;5;124m'\u001b[39m)):\n\u001b[1;32m     21\u001b[0m     \u001b[38;5;28;01mif\u001b[39;00m cb\u001b[38;5;241m.\u001b[39m\u001b[38;5;18m__doc__\u001b[39m: obj\u001b[38;5;241m.\u001b[39mlogs\u001b[38;5;241m.\u001b[39mappend(cb\u001b[38;5;241m.\u001b[39m\u001b[38;5;18m__doc__\u001b[39m)\n\u001b[0;32m---> 22\u001b[0m     \u001b[43mcb\u001b[49m\u001b[43m(\u001b[49m\u001b[43mobj\u001b[49m\u001b[43m)\u001b[49m\n",
      "Cell \u001b[0;32mIn[43], line 16\u001b[0m, in \u001b[0;36mLookupBiotaSpeciesCB.__call__\u001b[0;34m(self, tfm)\u001b[0m\n\u001b[1;32m     14\u001b[0m tfm\u001b[38;5;241m.\u001b[39mdfs[\u001b[38;5;124m'\u001b[39m\u001b[38;5;124mbiota\u001b[39m\u001b[38;5;124m'\u001b[39m][\u001b[38;5;124m'\u001b[39m\u001b[38;5;124mSpecies\u001b[39m\u001b[38;5;124m'\u001b[39m] \u001b[38;5;241m=\u001b[39m tfm\u001b[38;5;241m.\u001b[39mdfs[\u001b[38;5;124m'\u001b[39m\u001b[38;5;124mbiota\u001b[39m\u001b[38;5;124m'\u001b[39m][\u001b[38;5;124m'\u001b[39m\u001b[38;5;124mSpecies\u001b[39m\u001b[38;5;124m'\u001b[39m]\u001b[38;5;241m.\u001b[39mapply(\u001b[38;5;28;01mlambda\u001b[39;00m x: unmatched_fixes_biota_species[x] \u001b[38;5;28;01mif\u001b[39;00m x \u001b[38;5;129;01min\u001b[39;00m unmatched_fixes_biota_species\u001b[38;5;241m.\u001b[39mkeys() \u001b[38;5;28;01melse\u001b[39;00m x)\n\u001b[1;32m     15\u001b[0m \u001b[38;5;66;03m# Perform lookup \u001b[39;00m\n\u001b[0;32m---> 16\u001b[0m tfm\u001b[38;5;241m.\u001b[39mdfs[\u001b[38;5;124m'\u001b[39m\u001b[38;5;124mbiota\u001b[39m\u001b[38;5;124m'\u001b[39m][\u001b[38;5;124m'\u001b[39m\u001b[38;5;124mspecies\u001b[39m\u001b[38;5;124m'\u001b[39m] \u001b[38;5;241m=\u001b[39m \u001b[43mtfm\u001b[49m\u001b[38;5;241;43m.\u001b[39;49m\u001b[43mdfs\u001b[49m\u001b[43m[\u001b[49m\u001b[38;5;124;43m'\u001b[39;49m\u001b[38;5;124;43mbiota\u001b[39;49m\u001b[38;5;124;43m'\u001b[39;49m\u001b[43m]\u001b[49m\u001b[43m[\u001b[49m\u001b[38;5;124;43m'\u001b[39;49m\u001b[38;5;124;43mSpecies\u001b[39;49m\u001b[38;5;124;43m'\u001b[39;49m\u001b[43m]\u001b[49m\u001b[38;5;241;43m.\u001b[39;49m\u001b[43mapply\u001b[49m\u001b[43m(\u001b[49m\u001b[38;5;28;43;01mlambda\u001b[39;49;00m\u001b[43m \u001b[49m\u001b[43mx\u001b[49m\u001b[43m:\u001b[49m\u001b[43m \u001b[49m\u001b[43mlut\u001b[49m\u001b[43m[\u001b[49m\u001b[43mx\u001b[49m\u001b[43m]\u001b[49m\u001b[38;5;241;43m.\u001b[39;49m\u001b[43mmatched_id\u001b[49m\u001b[43m)\u001b[49m\n",
      "File \u001b[0;32m~/mambaforge/envs/mariscoDev/lib/python3.9/site-packages/pandas/core/series.py:4897\u001b[0m, in \u001b[0;36mSeries.apply\u001b[0;34m(self, func, convert_dtype, args, by_row, **kwargs)\u001b[0m\n\u001b[1;32m   4769\u001b[0m \u001b[38;5;28;01mdef\u001b[39;00m \u001b[38;5;21mapply\u001b[39m(\n\u001b[1;32m   4770\u001b[0m     \u001b[38;5;28mself\u001b[39m,\n\u001b[1;32m   4771\u001b[0m     func: AggFuncType,\n\u001b[0;32m   (...)\u001b[0m\n\u001b[1;32m   4776\u001b[0m     \u001b[38;5;241m*\u001b[39m\u001b[38;5;241m*\u001b[39mkwargs,\n\u001b[1;32m   4777\u001b[0m ) \u001b[38;5;241m-\u001b[39m\u001b[38;5;241m>\u001b[39m DataFrame \u001b[38;5;241m|\u001b[39m Series:\n\u001b[1;32m   4778\u001b[0m \u001b[38;5;250m    \u001b[39m\u001b[38;5;124;03m\"\"\"\u001b[39;00m\n\u001b[1;32m   4779\u001b[0m \u001b[38;5;124;03m    Invoke function on values of Series.\u001b[39;00m\n\u001b[1;32m   4780\u001b[0m \n\u001b[0;32m   (...)\u001b[0m\n\u001b[1;32m   4895\u001b[0m \u001b[38;5;124;03m    dtype: float64\u001b[39;00m\n\u001b[1;32m   4896\u001b[0m \u001b[38;5;124;03m    \"\"\"\u001b[39;00m\n\u001b[0;32m-> 4897\u001b[0m     \u001b[38;5;28;01mreturn\u001b[39;00m \u001b[43mSeriesApply\u001b[49m\u001b[43m(\u001b[49m\n\u001b[1;32m   4898\u001b[0m \u001b[43m        \u001b[49m\u001b[38;5;28;43mself\u001b[39;49m\u001b[43m,\u001b[49m\n\u001b[1;32m   4899\u001b[0m \u001b[43m        \u001b[49m\u001b[43mfunc\u001b[49m\u001b[43m,\u001b[49m\n\u001b[1;32m   4900\u001b[0m \u001b[43m        \u001b[49m\u001b[43mconvert_dtype\u001b[49m\u001b[38;5;241;43m=\u001b[39;49m\u001b[43mconvert_dtype\u001b[49m\u001b[43m,\u001b[49m\n\u001b[1;32m   4901\u001b[0m \u001b[43m        \u001b[49m\u001b[43mby_row\u001b[49m\u001b[38;5;241;43m=\u001b[39;49m\u001b[43mby_row\u001b[49m\u001b[43m,\u001b[49m\n\u001b[1;32m   4902\u001b[0m \u001b[43m        \u001b[49m\u001b[43margs\u001b[49m\u001b[38;5;241;43m=\u001b[39;49m\u001b[43margs\u001b[49m\u001b[43m,\u001b[49m\n\u001b[1;32m   4903\u001b[0m \u001b[43m        \u001b[49m\u001b[43mkwargs\u001b[49m\u001b[38;5;241;43m=\u001b[39;49m\u001b[43mkwargs\u001b[49m\u001b[43m,\u001b[49m\n\u001b[1;32m   4904\u001b[0m \u001b[43m    \u001b[49m\u001b[43m)\u001b[49m\u001b[38;5;241;43m.\u001b[39;49m\u001b[43mapply\u001b[49m\u001b[43m(\u001b[49m\u001b[43m)\u001b[49m\n",
      "File \u001b[0;32m~/mambaforge/envs/mariscoDev/lib/python3.9/site-packages/pandas/core/apply.py:1427\u001b[0m, in \u001b[0;36mSeriesApply.apply\u001b[0;34m(self)\u001b[0m\n\u001b[1;32m   1424\u001b[0m     \u001b[38;5;28;01mreturn\u001b[39;00m \u001b[38;5;28mself\u001b[39m\u001b[38;5;241m.\u001b[39mapply_compat()\n\u001b[1;32m   1426\u001b[0m \u001b[38;5;66;03m# self.func is Callable\u001b[39;00m\n\u001b[0;32m-> 1427\u001b[0m \u001b[38;5;28;01mreturn\u001b[39;00m \u001b[38;5;28;43mself\u001b[39;49m\u001b[38;5;241;43m.\u001b[39;49m\u001b[43mapply_standard\u001b[49m\u001b[43m(\u001b[49m\u001b[43m)\u001b[49m\n",
      "File \u001b[0;32m~/mambaforge/envs/mariscoDev/lib/python3.9/site-packages/pandas/core/apply.py:1507\u001b[0m, in \u001b[0;36mSeriesApply.apply_standard\u001b[0;34m(self)\u001b[0m\n\u001b[1;32m   1501\u001b[0m \u001b[38;5;66;03m# row-wise access\u001b[39;00m\n\u001b[1;32m   1502\u001b[0m \u001b[38;5;66;03m# apply doesn't have a `na_action` keyword and for backward compat reasons\u001b[39;00m\n\u001b[1;32m   1503\u001b[0m \u001b[38;5;66;03m# we need to give `na_action=\"ignore\"` for categorical data.\u001b[39;00m\n\u001b[1;32m   1504\u001b[0m \u001b[38;5;66;03m# TODO: remove the `na_action=\"ignore\"` when that default has been changed in\u001b[39;00m\n\u001b[1;32m   1505\u001b[0m \u001b[38;5;66;03m#  Categorical (GH51645).\u001b[39;00m\n\u001b[1;32m   1506\u001b[0m action \u001b[38;5;241m=\u001b[39m \u001b[38;5;124m\"\u001b[39m\u001b[38;5;124mignore\u001b[39m\u001b[38;5;124m\"\u001b[39m \u001b[38;5;28;01mif\u001b[39;00m \u001b[38;5;28misinstance\u001b[39m(obj\u001b[38;5;241m.\u001b[39mdtype, CategoricalDtype) \u001b[38;5;28;01melse\u001b[39;00m \u001b[38;5;28;01mNone\u001b[39;00m\n\u001b[0;32m-> 1507\u001b[0m mapped \u001b[38;5;241m=\u001b[39m \u001b[43mobj\u001b[49m\u001b[38;5;241;43m.\u001b[39;49m\u001b[43m_map_values\u001b[49m\u001b[43m(\u001b[49m\n\u001b[1;32m   1508\u001b[0m \u001b[43m    \u001b[49m\u001b[43mmapper\u001b[49m\u001b[38;5;241;43m=\u001b[39;49m\u001b[43mcurried\u001b[49m\u001b[43m,\u001b[49m\u001b[43m \u001b[49m\u001b[43mna_action\u001b[49m\u001b[38;5;241;43m=\u001b[39;49m\u001b[43maction\u001b[49m\u001b[43m,\u001b[49m\u001b[43m \u001b[49m\u001b[43mconvert\u001b[49m\u001b[38;5;241;43m=\u001b[39;49m\u001b[38;5;28;43mself\u001b[39;49m\u001b[38;5;241;43m.\u001b[39;49m\u001b[43mconvert_dtype\u001b[49m\n\u001b[1;32m   1509\u001b[0m \u001b[43m\u001b[49m\u001b[43m)\u001b[49m\n\u001b[1;32m   1511\u001b[0m \u001b[38;5;28;01mif\u001b[39;00m \u001b[38;5;28mlen\u001b[39m(mapped) \u001b[38;5;129;01mand\u001b[39;00m \u001b[38;5;28misinstance\u001b[39m(mapped[\u001b[38;5;241m0\u001b[39m], ABCSeries):\n\u001b[1;32m   1512\u001b[0m     \u001b[38;5;66;03m# GH#43986 Need to do list(mapped) in order to get treated as nested\u001b[39;00m\n\u001b[1;32m   1513\u001b[0m     \u001b[38;5;66;03m#  See also GH#25959 regarding EA support\u001b[39;00m\n\u001b[1;32m   1514\u001b[0m     \u001b[38;5;28;01mreturn\u001b[39;00m obj\u001b[38;5;241m.\u001b[39m_constructor_expanddim(\u001b[38;5;28mlist\u001b[39m(mapped), index\u001b[38;5;241m=\u001b[39mobj\u001b[38;5;241m.\u001b[39mindex)\n",
      "File \u001b[0;32m~/mambaforge/envs/mariscoDev/lib/python3.9/site-packages/pandas/core/base.py:921\u001b[0m, in \u001b[0;36mIndexOpsMixin._map_values\u001b[0;34m(self, mapper, na_action, convert)\u001b[0m\n\u001b[1;32m    918\u001b[0m \u001b[38;5;28;01mif\u001b[39;00m \u001b[38;5;28misinstance\u001b[39m(arr, ExtensionArray):\n\u001b[1;32m    919\u001b[0m     \u001b[38;5;28;01mreturn\u001b[39;00m arr\u001b[38;5;241m.\u001b[39mmap(mapper, na_action\u001b[38;5;241m=\u001b[39mna_action)\n\u001b[0;32m--> 921\u001b[0m \u001b[38;5;28;01mreturn\u001b[39;00m \u001b[43malgorithms\u001b[49m\u001b[38;5;241;43m.\u001b[39;49m\u001b[43mmap_array\u001b[49m\u001b[43m(\u001b[49m\u001b[43marr\u001b[49m\u001b[43m,\u001b[49m\u001b[43m \u001b[49m\u001b[43mmapper\u001b[49m\u001b[43m,\u001b[49m\u001b[43m \u001b[49m\u001b[43mna_action\u001b[49m\u001b[38;5;241;43m=\u001b[39;49m\u001b[43mna_action\u001b[49m\u001b[43m,\u001b[49m\u001b[43m \u001b[49m\u001b[43mconvert\u001b[49m\u001b[38;5;241;43m=\u001b[39;49m\u001b[43mconvert\u001b[49m\u001b[43m)\u001b[49m\n",
      "File \u001b[0;32m~/mambaforge/envs/mariscoDev/lib/python3.9/site-packages/pandas/core/algorithms.py:1743\u001b[0m, in \u001b[0;36mmap_array\u001b[0;34m(arr, mapper, na_action, convert)\u001b[0m\n\u001b[1;32m   1741\u001b[0m values \u001b[38;5;241m=\u001b[39m arr\u001b[38;5;241m.\u001b[39mastype(\u001b[38;5;28mobject\u001b[39m, copy\u001b[38;5;241m=\u001b[39m\u001b[38;5;28;01mFalse\u001b[39;00m)\n\u001b[1;32m   1742\u001b[0m \u001b[38;5;28;01mif\u001b[39;00m na_action \u001b[38;5;129;01mis\u001b[39;00m \u001b[38;5;28;01mNone\u001b[39;00m:\n\u001b[0;32m-> 1743\u001b[0m     \u001b[38;5;28;01mreturn\u001b[39;00m \u001b[43mlib\u001b[49m\u001b[38;5;241;43m.\u001b[39;49m\u001b[43mmap_infer\u001b[49m\u001b[43m(\u001b[49m\u001b[43mvalues\u001b[49m\u001b[43m,\u001b[49m\u001b[43m \u001b[49m\u001b[43mmapper\u001b[49m\u001b[43m,\u001b[49m\u001b[43m \u001b[49m\u001b[43mconvert\u001b[49m\u001b[38;5;241;43m=\u001b[39;49m\u001b[43mconvert\u001b[49m\u001b[43m)\u001b[49m\n\u001b[1;32m   1744\u001b[0m \u001b[38;5;28;01melse\u001b[39;00m:\n\u001b[1;32m   1745\u001b[0m     \u001b[38;5;28;01mreturn\u001b[39;00m lib\u001b[38;5;241m.\u001b[39mmap_infer_mask(\n\u001b[1;32m   1746\u001b[0m         values, mapper, mask\u001b[38;5;241m=\u001b[39misna(values)\u001b[38;5;241m.\u001b[39mview(np\u001b[38;5;241m.\u001b[39muint8), convert\u001b[38;5;241m=\u001b[39mconvert\n\u001b[1;32m   1747\u001b[0m     )\n",
      "File \u001b[0;32mlib.pyx:2972\u001b[0m, in \u001b[0;36mpandas._libs.lib.map_infer\u001b[0;34m()\u001b[0m\n",
      "Cell \u001b[0;32mIn[43], line 16\u001b[0m, in \u001b[0;36mLookupBiotaSpeciesCB.__call__.<locals>.<lambda>\u001b[0;34m(x)\u001b[0m\n\u001b[1;32m     14\u001b[0m tfm\u001b[38;5;241m.\u001b[39mdfs[\u001b[38;5;124m'\u001b[39m\u001b[38;5;124mbiota\u001b[39m\u001b[38;5;124m'\u001b[39m][\u001b[38;5;124m'\u001b[39m\u001b[38;5;124mSpecies\u001b[39m\u001b[38;5;124m'\u001b[39m] \u001b[38;5;241m=\u001b[39m tfm\u001b[38;5;241m.\u001b[39mdfs[\u001b[38;5;124m'\u001b[39m\u001b[38;5;124mbiota\u001b[39m\u001b[38;5;124m'\u001b[39m][\u001b[38;5;124m'\u001b[39m\u001b[38;5;124mSpecies\u001b[39m\u001b[38;5;124m'\u001b[39m]\u001b[38;5;241m.\u001b[39mapply(\u001b[38;5;28;01mlambda\u001b[39;00m x: unmatched_fixes_biota_species[x] \u001b[38;5;28;01mif\u001b[39;00m x \u001b[38;5;129;01min\u001b[39;00m unmatched_fixes_biota_species\u001b[38;5;241m.\u001b[39mkeys() \u001b[38;5;28;01melse\u001b[39;00m x)\n\u001b[1;32m     15\u001b[0m \u001b[38;5;66;03m# Perform lookup \u001b[39;00m\n\u001b[0;32m---> 16\u001b[0m tfm\u001b[38;5;241m.\u001b[39mdfs[\u001b[38;5;124m'\u001b[39m\u001b[38;5;124mbiota\u001b[39m\u001b[38;5;124m'\u001b[39m][\u001b[38;5;124m'\u001b[39m\u001b[38;5;124mspecies\u001b[39m\u001b[38;5;124m'\u001b[39m] \u001b[38;5;241m=\u001b[39m tfm\u001b[38;5;241m.\u001b[39mdfs[\u001b[38;5;124m'\u001b[39m\u001b[38;5;124mbiota\u001b[39m\u001b[38;5;124m'\u001b[39m][\u001b[38;5;124m'\u001b[39m\u001b[38;5;124mSpecies\u001b[39m\u001b[38;5;124m'\u001b[39m]\u001b[38;5;241m.\u001b[39mapply(\u001b[38;5;28;01mlambda\u001b[39;00m x: \u001b[43mlut\u001b[49m\u001b[43m[\u001b[49m\u001b[43mx\u001b[49m\u001b[43m]\u001b[49m\u001b[38;5;241m.\u001b[39mmatched_id)\n",
      "\u001b[0;31mKeyError\u001b[0m: 'FUCUS'"
     ]
    }
   ],
   "source": [
    "#|eval: false\n",
    "dfs = load_data(fname_in)\n",
    "tfm = Transformer(dfs, cbs=[\n",
    "                            RemapRdnNameCB(),\n",
    "                            ParseTimeCB(),\n",
    "                            EncodeTimeCB(cfg()),                             \n",
    "                            NormalizeUncCB(),\n",
    "                            LookupBiotaSpeciesCB(get_maris_species, unmatched_fixes_biota_species), \n",
    "                            CompareDfsAndTfm(dfs)\n",
    "                            ])\n",
    "tfm()\n",
    "\n",
    "print(pd.DataFrame.from_dict(tfm.compare_stats) , '\\n')"
   ]
  },
  {
   "cell_type": "markdown",
   "id": "d7cbec54",
   "metadata": {},
   "source": [
    "***"
   ]
  },
  {
   "cell_type": "markdown",
   "id": "d3dd3c7a",
   "metadata": {},
   "source": [
    "#### Lookup : Biota tissues"
   ]
  },
  {
   "cell_type": "markdown",
   "id": "8b32540b",
   "metadata": {},
   "source": [
    "&nbsp;&nbsp;&nbsp;&nbsp;&nbsp;*NetCDF4 format variable: ``body_part``.*"
   ]
  },
  {
   "cell_type": "markdown",
   "id": "a5f48cc6",
   "metadata": {},
   "source": [
    "&nbsp;&nbsp;&nbsp;&nbsp;&nbsp;*Open Refine format variable: `Body part`.*"
   ]
  },
  {
   "cell_type": "markdown",
   "id": "afcdb6be",
   "metadata": {},
   "source": [
    "##### Correct OSPAR `Body Part` labelled as `Whole`"
   ]
  },
  {
   "cell_type": "code",
   "execution_count": null,
   "id": "9af9df10",
   "metadata": {},
   "outputs": [],
   "source": [
    "#| export\n",
    "whole_animal_plant = {'whole' : ['Whole','WHOLE', 'WHOLE FISH', 'Whole fisk', 'Whole fish'],\n",
    "                      'Whole animal' : ['Molluscs','Fish','FISH','molluscs','fish','MOLLUSCS'],\n",
    "                      'Whole plant' : ['Seaweed','seaweed','SEAWEED'] }"
   ]
  },
  {
   "cell_type": "code",
   "execution_count": null,
   "id": "bd3c666d",
   "metadata": {},
   "outputs": [],
   "source": [
    "#| export\n",
    "class CorrectWholeBodyPartCB(Callback):\n",
    "    \"\"\"\n",
    "    Update bodypart labeled as 'whole' to either 'Whole animal' or 'Whole plant'.\n",
    "    \"\"\"\n",
    "    \n",
    "    def __init__(self, wap=whole_animal_plant): fc.store_attr()\n",
    "    \n",
    "    def __call__(self, tfm):        \n",
    "        tfm.dfs['biota'] = self.correct_whole_body_part(tfm.dfs['biota'],self.wap)\n",
    "\n",
    "    def correct_whole_body_part(self, df, wap):\n",
    "        whole_list= wap['whole']\n",
    "        animal_list = wap['Whole animal']\n",
    "        plant_lst = wap['Whole plant']\n",
    "        df['body_part'] = df['Body Part']   \n",
    "        df['body_part'].loc[(df['body_part'].isin(whole_list)) & (df['Biological group'].isin(animal_list))] = 'Whole animal'\n",
    "        df['body_part'].loc[(df['body_part'].isin(whole_list)) & (df['Biological group'].isin(plant_lst))] = 'Whole plant'\n",
    "        return df"
   ]
  },
  {
   "cell_type": "code",
   "execution_count": null,
   "metadata": {},
   "outputs": [
    {
     "name": "stdout",
     "output_type": "stream",
     "text": [
      "                                                    seawater  biota\n",
      "Number of rows in dfs :                                18856  15314\n",
      "Number of rows in tfm.dfs:                             18308  15314\n",
      "Number of dropped rows:                                  548      0\n",
      "Number of rows in tfm.dfs + Number of dropped r...     18856  15314 \n",
      "\n",
      "['SOFT PARTS' 'GROWING TIPS' 'Whole plant' 'Whole animal' 'WHOLE ANIMAL'\n",
      " 'FLESH WITHOUT BONES' 'WHOLE PLANT' 'Soft Parts' 'Whole without head'\n",
      " 'Cod medallion' 'Muscle' 'Mix of muscle and whole fish without liver'\n",
      " 'Flesh' 'FLESH WITHOUT BONE' 'UNKNOWN' 'FLESH' 'FLESH WITH SCALES' 'HEAD'\n",
      " 'Flesh without bones' 'Soft parts' 'whole plant' 'LIVER' 'MUSCLE']\n"
     ]
    }
   ],
   "source": [
    "#|eval: false\n",
    "dfs = load_data(fname_in)\n",
    "tfm = Transformer(dfs, cbs=[\n",
    "                            RemapRdnNameCB(),\n",
    "                            ParseTimeCB(),\n",
    "                            EncodeTimeCB(cfg()),                             \n",
    "                            NormalizeUncCB(),\n",
    "                            LookupBiotaSpeciesCB(get_maris_species, unmatched_fixes_biota_species),\n",
    "                            CorrectWholeBodyPartCB(),\n",
    "                            CompareDfsAndTfm(dfs)\n",
    "                            ])\n",
    "tfm()\n",
    "print(pd.DataFrame.from_dict(tfm.compare_stats) , '\\n')\n",
    "\n",
    "print(tfm.dfs['biota']['body_part'].unique())"
   ]
  },
  {
   "cell_type": "markdown",
   "id": "40bbab45",
   "metadata": {},
   "source": [
    "#### Lookup : Biota tissues"
   ]
  },
  {
   "cell_type": "markdown",
   "id": "183590b0",
   "metadata": {},
   "source": [
    "Return a DataFrame of  unmatched OSPAR ``body_part``( i.e. ``source_name``)."
   ]
  },
  {
   "cell_type": "code",
   "execution_count": null,
   "id": "2fb7ce35",
   "metadata": {},
   "outputs": [
    {
     "name": "stderr",
     "output_type": "stream",
     "text": [
      "  0%|          | 0/23 [00:00<?, ?it/s]"
     ]
    },
    {
     "name": "stderr",
     "output_type": "stream",
     "text": [
      "100%|██████████| 23/23 [00:00<00:00, 80.60it/s]\n"
     ]
    },
    {
     "data": {
      "text/html": [
       "<div>\n",
       "<style scoped>\n",
       "    .dataframe tbody tr th:only-of-type {\n",
       "        vertical-align: middle;\n",
       "    }\n",
       "\n",
       "    .dataframe tbody tr th {\n",
       "        vertical-align: top;\n",
       "    }\n",
       "\n",
       "    .dataframe thead th {\n",
       "        text-align: right;\n",
       "    }\n",
       "</style>\n",
       "<table border=\"1\" class=\"dataframe\">\n",
       "  <thead>\n",
       "    <tr style=\"text-align: right;\">\n",
       "      <th></th>\n",
       "      <th>matched_id</th>\n",
       "      <th>matched_maris_name</th>\n",
       "      <th>source_name</th>\n",
       "      <th>match_score</th>\n",
       "    </tr>\n",
       "    <tr>\n",
       "      <th>source_id</th>\n",
       "      <th></th>\n",
       "      <th></th>\n",
       "      <th></th>\n",
       "      <th></th>\n",
       "    </tr>\n",
       "  </thead>\n",
       "  <tbody>\n",
       "    <tr>\n",
       "      <th>Mix of muscle and whole fish without liver</th>\n",
       "      <td>52</td>\n",
       "      <td>Flesh without bones</td>\n",
       "      <td>Mix of muscle and whole fish without liver</td>\n",
       "      <td>27</td>\n",
       "    </tr>\n",
       "    <tr>\n",
       "      <th>Whole without head</th>\n",
       "      <td>52</td>\n",
       "      <td>Flesh without bones</td>\n",
       "      <td>Whole without head</td>\n",
       "      <td>10</td>\n",
       "    </tr>\n",
       "    <tr>\n",
       "      <th>Cod medallion</th>\n",
       "      <td>8</td>\n",
       "      <td>Exoskeleton</td>\n",
       "      <td>Cod medallion</td>\n",
       "      <td>9</td>\n",
       "    </tr>\n",
       "    <tr>\n",
       "      <th>UNKNOWN</th>\n",
       "      <td>12</td>\n",
       "      <td>Skin</td>\n",
       "      <td>UNKNOWN</td>\n",
       "      <td>5</td>\n",
       "    </tr>\n",
       "    <tr>\n",
       "      <th>FLESH</th>\n",
       "      <td>42</td>\n",
       "      <td>Leaf</td>\n",
       "      <td>FLESH</td>\n",
       "      <td>3</td>\n",
       "    </tr>\n",
       "    <tr>\n",
       "      <th>Flesh</th>\n",
       "      <td>42</td>\n",
       "      <td>Leaf</td>\n",
       "      <td>Flesh</td>\n",
       "      <td>3</td>\n",
       "    </tr>\n",
       "    <tr>\n",
       "      <th>FLESH WITHOUT BONE</th>\n",
       "      <td>52</td>\n",
       "      <td>Flesh without bones</td>\n",
       "      <td>FLESH WITHOUT BONE</td>\n",
       "      <td>1</td>\n",
       "    </tr>\n",
       "  </tbody>\n",
       "</table>\n",
       "</div>"
      ],
      "text/plain": [
       "                                           matched_id   matched_maris_name  \\\n",
       "source_id                                                                    \n",
       "Mix of muscle and whole fish without liver         52  Flesh without bones   \n",
       "Whole without head                                 52  Flesh without bones   \n",
       "Cod medallion                                       8          Exoskeleton   \n",
       "UNKNOWN                                            12                 Skin   \n",
       "FLESH                                              42                 Leaf   \n",
       "Flesh                                              42                 Leaf   \n",
       "FLESH WITHOUT BONE                                 52  Flesh without bones   \n",
       "\n",
       "                                                                           source_name  \\\n",
       "source_id                                                                                \n",
       "Mix of muscle and whole fish without liver  Mix of muscle and whole fish without liver   \n",
       "Whole without head                                                  Whole without head   \n",
       "Cod medallion                                                            Cod medallion   \n",
       "UNKNOWN                                                                        UNKNOWN   \n",
       "FLESH                                                                            FLESH   \n",
       "Flesh                                                                            Flesh   \n",
       "FLESH WITHOUT BONE                                                  FLESH WITHOUT BONE   \n",
       "\n",
       "                                           match_score  \n",
       "source_id                                               \n",
       "Mix of muscle and whole fish without liver          27  \n",
       "Whole without head                                  10  \n",
       "Cod medallion                                        9  \n",
       "UNKNOWN                                              5  \n",
       "FLESH                                                3  \n",
       "Flesh                                                3  \n",
       "FLESH WITHOUT BONE                                   1  "
      ]
     },
     "execution_count": 130,
     "metadata": {},
     "output_type": "execute_result"
    }
   ],
   "source": [
    "#|eval: false\n",
    "unmatched_fixes_biota_tissues = {}\n",
    "tissues_lut_df = get_maris_lut(df_biota=tfm.dfs['biota'], \n",
    "                                fname_cache='tissues_ospar.pkl', \n",
    "                                data_provider_name_col='body_part',\n",
    "                                maris_lut=bodyparts_lut_path,\n",
    "                                maris_id='bodypar_id',\n",
    "                                maris_name='bodypar',\n",
    "                                unmatched_fixes=unmatched_fixes_biota_tissues,\n",
    "                                as_dataframe=True,\n",
    "                                overwrite=True)\n",
    "# List unmatched OSPAR tissues.\n",
    "tissues_lut_df[tissues_lut_df['match_score'] >= 1]"
   ]
  },
  {
   "cell_type": "markdown",
   "id": "50066e61",
   "metadata": {},
   "source": [
    "Read Maris tissue lut to assist with the creation of dictionary of unmatched tissues, ``unmatched_fixes_biota_tissues``."
   ]
  },
  {
   "cell_type": "code",
   "execution_count": null,
   "metadata": {},
   "outputs": [
    {
     "data": {
      "text/html": [
       "<div>\n",
       "<style scoped>\n",
       "    .dataframe tbody tr th:only-of-type {\n",
       "        vertical-align: middle;\n",
       "    }\n",
       "\n",
       "    .dataframe tbody tr th {\n",
       "        vertical-align: top;\n",
       "    }\n",
       "\n",
       "    .dataframe thead th {\n",
       "        text-align: right;\n",
       "    }\n",
       "</style>\n",
       "<table border=\"1\" class=\"dataframe\">\n",
       "  <thead>\n",
       "    <tr style=\"text-align: right;\">\n",
       "      <th></th>\n",
       "      <th>bodypar_id</th>\n",
       "      <th>bodypar</th>\n",
       "      <th>bodycode</th>\n",
       "      <th>groupcode</th>\n",
       "    </tr>\n",
       "  </thead>\n",
       "  <tbody>\n",
       "    <tr>\n",
       "      <th>0</th>\n",
       "      <td>-1</td>\n",
       "      <td>Not applicable</td>\n",
       "      <td>NaN</td>\n",
       "      <td>NaN</td>\n",
       "    </tr>\n",
       "    <tr>\n",
       "      <th>1</th>\n",
       "      <td>0</td>\n",
       "      <td>(Not available)</td>\n",
       "      <td>0</td>\n",
       "      <td>0</td>\n",
       "    </tr>\n",
       "    <tr>\n",
       "      <th>2</th>\n",
       "      <td>1</td>\n",
       "      <td>Whole animal</td>\n",
       "      <td>WHOA</td>\n",
       "      <td>WHO</td>\n",
       "    </tr>\n",
       "    <tr>\n",
       "      <th>3</th>\n",
       "      <td>2</td>\n",
       "      <td>Whole animal eviscerated</td>\n",
       "      <td>WHOEV</td>\n",
       "      <td>WHO</td>\n",
       "    </tr>\n",
       "    <tr>\n",
       "      <th>4</th>\n",
       "      <td>3</td>\n",
       "      <td>Whole animal eviscerated without head</td>\n",
       "      <td>WHOHE</td>\n",
       "      <td>WHO</td>\n",
       "    </tr>\n",
       "    <tr>\n",
       "      <th>...</th>\n",
       "      <td>...</td>\n",
       "      <td>...</td>\n",
       "      <td>...</td>\n",
       "      <td>...</td>\n",
       "    </tr>\n",
       "    <tr>\n",
       "      <th>57</th>\n",
       "      <td>56</td>\n",
       "      <td>Growing tips</td>\n",
       "      <td>GTIP</td>\n",
       "      <td>PHAN</td>\n",
       "    </tr>\n",
       "    <tr>\n",
       "      <th>58</th>\n",
       "      <td>57</td>\n",
       "      <td>Upper parts of plants</td>\n",
       "      <td>UPPL</td>\n",
       "      <td>PHAN</td>\n",
       "    </tr>\n",
       "    <tr>\n",
       "      <th>59</th>\n",
       "      <td>58</td>\n",
       "      <td>Lower parts of plants</td>\n",
       "      <td>LWPL</td>\n",
       "      <td>PHAN</td>\n",
       "    </tr>\n",
       "    <tr>\n",
       "      <th>60</th>\n",
       "      <td>59</td>\n",
       "      <td>Shells/carapace</td>\n",
       "      <td>SHCA</td>\n",
       "      <td>SKEL</td>\n",
       "    </tr>\n",
       "    <tr>\n",
       "      <th>61</th>\n",
       "      <td>60</td>\n",
       "      <td>Flesh with scales</td>\n",
       "      <td>FLES</td>\n",
       "      <td>FLES</td>\n",
       "    </tr>\n",
       "  </tbody>\n",
       "</table>\n",
       "<p>62 rows × 4 columns</p>\n",
       "</div>"
      ],
      "text/plain": [
       "    bodypar_id                                bodypar bodycode groupcode\n",
       "0           -1                         Not applicable      NaN       NaN\n",
       "1            0                        (Not available)        0         0\n",
       "2            1                           Whole animal     WHOA       WHO\n",
       "3            2               Whole animal eviscerated    WHOEV       WHO\n",
       "4            3  Whole animal eviscerated without head    WHOHE       WHO\n",
       "..         ...                                    ...      ...       ...\n",
       "57          56                           Growing tips     GTIP      PHAN\n",
       "58          57                  Upper parts of plants     UPPL      PHAN\n",
       "59          58                  Lower parts of plants     LWPL      PHAN\n",
       "60          59                        Shells/carapace     SHCA      SKEL\n",
       "61          60                      Flesh with scales     FLES      FLES\n",
       "\n",
       "[62 rows x 4 columns]"
      ]
     },
     "execution_count": 131,
     "metadata": {},
     "output_type": "execute_result"
    }
   ],
   "source": [
    "#|eval: false\n",
    "marisco_lut_df = pd.read_excel(bodyparts_lut_path())\n",
    "marisco_lut_df"
   ]
  },
  {
   "cell_type": "markdown",
   "id": "66e11dc7",
   "metadata": {},
   "source": [
    "Create a dictionary of unmatched tissues to allow for  correction."
   ]
  },
  {
   "cell_type": "code",
   "execution_count": null,
   "id": "93b27559",
   "metadata": {},
   "outputs": [],
   "source": [
    "#|export\n",
    "unmatched_fixes_biota_tissues = {\n",
    "'Mix of muscle and whole fish without liver' : 'Not available', # Drop\n",
    " 'UNKNOWN' : 'Not available',\n",
    " 'Whole without head' : 'Whole animal eviscerated without head', # Drop? eviscerated? ,\n",
    " 'Cod medallion' : 'Whole animal eviscerated without head',\n",
    " 'FLESH' : 'Flesh without bones', \n",
    " 'Flesh' : 'Flesh without bones', \n",
    " 'FLESH WITHOUT BONE' : 'Flesh without bones'\n",
    "}"
   ]
  },
  {
   "cell_type": "markdown",
   "id": "2196660b",
   "metadata": {},
   "source": [
    "Return a DataFrame of unmatched OSPAR ``body_part``."
   ]
  },
  {
   "cell_type": "code",
   "execution_count": null,
   "id": "d006533a",
   "metadata": {},
   "outputs": [
    {
     "name": "stderr",
     "output_type": "stream",
     "text": [
      "  0%|          | 0/21 [00:00<?, ?it/s]"
     ]
    },
    {
     "name": "stderr",
     "output_type": "stream",
     "text": [
      "100%|██████████| 21/21 [00:00<00:00, 78.94it/s]\n"
     ]
    },
    {
     "data": {
      "text/html": [
       "<div>\n",
       "<style scoped>\n",
       "    .dataframe tbody tr th:only-of-type {\n",
       "        vertical-align: middle;\n",
       "    }\n",
       "\n",
       "    .dataframe tbody tr th {\n",
       "        vertical-align: top;\n",
       "    }\n",
       "\n",
       "    .dataframe thead th {\n",
       "        text-align: right;\n",
       "    }\n",
       "</style>\n",
       "<table border=\"1\" class=\"dataframe\">\n",
       "  <thead>\n",
       "    <tr style=\"text-align: right;\">\n",
       "      <th></th>\n",
       "      <th>matched_id</th>\n",
       "      <th>matched_maris_name</th>\n",
       "      <th>source_name</th>\n",
       "      <th>match_score</th>\n",
       "    </tr>\n",
       "    <tr>\n",
       "      <th>source_id</th>\n",
       "      <th></th>\n",
       "      <th></th>\n",
       "      <th></th>\n",
       "      <th></th>\n",
       "    </tr>\n",
       "  </thead>\n",
       "  <tbody>\n",
       "  </tbody>\n",
       "</table>\n",
       "</div>"
      ],
      "text/plain": [
       "Empty DataFrame\n",
       "Columns: [matched_id, matched_maris_name, source_name, match_score]\n",
       "Index: []"
      ]
     },
     "execution_count": 133,
     "metadata": {},
     "output_type": "execute_result"
    }
   ],
   "source": [
    "#|eval: false\n",
    "# For now ignore row in the dfs['biota]['body_part'] where corresponding unmatched_fixes_biota_tissues value is 'Not available' or na. . \n",
    "not_available_list=[k for k,v in unmatched_fixes_biota_tissues.items() if v == 'Not available']\n",
    "tfm.dfs['biota'] = tfm.dfs['biota'][~tfm.dfs['biota']['body_part'].isin(not_available_list)]\n",
    "tfm.dfs['biota']=tfm.dfs['biota'][tfm.dfs['biota']['body_part'].notna()]\n",
    "                \n",
    "tissues_lut_df = get_maris_lut(df_biota=tfm.dfs['biota'], \n",
    "                                fname_cache='tissues_ospar.pkl', \n",
    "                                data_provider_name_col='body_part',\n",
    "                                maris_lut=bodyparts_lut_path,\n",
    "                                maris_id='bodypar_id',\n",
    "                                maris_name='bodypar',\n",
    "                                unmatched_fixes=unmatched_fixes_biota_tissues,\n",
    "                                as_dataframe=True,\n",
    "                                overwrite=True)\n",
    "# List unmatched OSPAR tissues.\n",
    "tissues_lut_df[tissues_lut_df['match_score'] >= 1]"
   ]
  },
  {
   "cell_type": "code",
   "execution_count": null,
   "id": "4fc9a6c8",
   "metadata": {},
   "outputs": [],
   "source": [
    "#| export\n",
    "class LookupBiotaBodyPartCB(Callback):\n",
    "    \"\"\"\n",
    "    Update bodypart id based on MARIS dbo_bodypar.xlsx:\n",
    "        - 3: 'Whole animal eviscerated without head',\n",
    "        - 12: 'Viscera',\n",
    "        - 8: 'Skin'\n",
    "    \"\"\"\n",
    "    def __init__(self, fn_lut, unmatched_fixes_biota_tissues): fc.store_attr()\n",
    "    def __call__(self, tfm):\n",
    "        lut = self.fn_lut(df_biota=tfm.dfs['biota'])      \n",
    "        # Perform lookup. If nan or 'Not available' then let 'body_part' equal -1.\n",
    "        not_available_list=[k for k,v in unmatched_fixes_biota_tissues.items() if v == 'Not available']\n",
    "        tfm.dfs['biota']['body_part'] = tfm.dfs['biota']['body_part'].apply(lambda x: -1 if (pd.isna(x) or x in not_available_list) else lut[x].matched_id)"
   ]
  },
  {
   "cell_type": "code",
   "execution_count": null,
   "id": "dc2e9252",
   "metadata": {},
   "outputs": [
    {
     "data": {
      "text/html": [
       "<div>\n",
       "<style scoped>\n",
       "    .dataframe tbody tr th:only-of-type {\n",
       "        vertical-align: middle;\n",
       "    }\n",
       "\n",
       "    .dataframe tbody tr th {\n",
       "        vertical-align: top;\n",
       "    }\n",
       "\n",
       "    .dataframe thead th {\n",
       "        text-align: right;\n",
       "    }\n",
       "</style>\n",
       "<table border=\"1\" class=\"dataframe\">\n",
       "  <thead>\n",
       "    <tr style=\"text-align: right;\">\n",
       "      <th></th>\n",
       "      <th>matched_id</th>\n",
       "      <th>matched_maris_name</th>\n",
       "      <th>source_name</th>\n",
       "      <th>match_score</th>\n",
       "    </tr>\n",
       "    <tr>\n",
       "      <th>source_id</th>\n",
       "      <th></th>\n",
       "      <th></th>\n",
       "      <th></th>\n",
       "      <th></th>\n",
       "    </tr>\n",
       "  </thead>\n",
       "  <tbody>\n",
       "    <tr>\n",
       "      <th>SOFT PARTS</th>\n",
       "      <td>19</td>\n",
       "      <td>Soft parts</td>\n",
       "      <td>SOFT PARTS</td>\n",
       "      <td>0</td>\n",
       "    </tr>\n",
       "    <tr>\n",
       "      <th>Flesh</th>\n",
       "      <td>52</td>\n",
       "      <td>Flesh without bones</td>\n",
       "      <td>Flesh</td>\n",
       "      <td>0</td>\n",
       "    </tr>\n",
       "    <tr>\n",
       "      <th>LIVER</th>\n",
       "      <td>25</td>\n",
       "      <td>Liver</td>\n",
       "      <td>LIVER</td>\n",
       "      <td>0</td>\n",
       "    </tr>\n",
       "    <tr>\n",
       "      <th>whole plant</th>\n",
       "      <td>40</td>\n",
       "      <td>Whole plant</td>\n",
       "      <td>whole plant</td>\n",
       "      <td>0</td>\n",
       "    </tr>\n",
       "    <tr>\n",
       "      <th>Soft parts</th>\n",
       "      <td>19</td>\n",
       "      <td>Soft parts</td>\n",
       "      <td>Soft parts</td>\n",
       "      <td>0</td>\n",
       "    </tr>\n",
       "  </tbody>\n",
       "</table>\n",
       "</div>"
      ],
      "text/plain": [
       "            matched_id   matched_maris_name  source_name match_score\n",
       "source_id                                                           \n",
       "SOFT PARTS          19           Soft parts   SOFT PARTS           0\n",
       "Flesh               52  Flesh without bones        Flesh           0\n",
       "LIVER               25                Liver        LIVER           0\n",
       "whole plant         40          Whole plant  whole plant           0\n",
       "Soft parts          19           Soft parts   Soft parts           0"
      ]
     },
     "execution_count": 135,
     "metadata": {},
     "output_type": "execute_result"
    }
   ],
   "source": [
    "#|eval: false\n",
    "get_maris_bodypart=partial(get_maris_lut, \n",
    "                            fname_cache='tissues_ospar.pkl', \n",
    "                            data_provider_name_col='body_part',\n",
    "                            maris_lut=bodyparts_lut_path,\n",
    "                            maris_id='bodypar_id',\n",
    "                            maris_name='bodypar',\n",
    "                            unmatched_fixes=unmatched_fixes_biota_tissues,\n",
    "                            as_dataframe=False,\n",
    "                            overwrite=False)\n",
    "tissues_lut_df.head()"
   ]
  },
  {
   "cell_type": "markdown",
   "id": "63f0dd41",
   "metadata": {},
   "source": [
    "Apply the transformer for callbacks `RemapRdnNameCB`, `ParseTimeCB`,  `NormalizeUncCB()`, `LookupBiotaSpeciesCB(get_maris_species)` and `LookupBiotaBodyPartCB()`. Then, print the `Body Part` and `body_part` for the `biota` dataframe."
   ]
  },
  {
   "cell_type": "code",
   "execution_count": null,
   "id": "3608477f",
   "metadata": {},
   "outputs": [
    {
     "name": "stdout",
     "output_type": "stream",
     "text": [
      "                                                    seawater  biota\n",
      "Number of rows in dfs :                                18856  15314\n",
      "Number of rows in tfm.dfs:                             18308  15314\n",
      "Number of dropped rows:                                  548      0\n",
      "Number of rows in tfm.dfs + Number of dropped r...     18856  15314 \n",
      "\n",
      "[19 56 40  1 52  3 34 -1 60 13 25]\n"
     ]
    }
   ],
   "source": [
    "#|eval: false\n",
    "dfs = load_data(fname_in)\n",
    "tfm = Transformer(dfs, cbs=[\n",
    "                            RemapRdnNameCB(),\n",
    "                            ParseTimeCB(),\n",
    "                            EncodeTimeCB(cfg()),                             \n",
    "                            NormalizeUncCB(),\n",
    "                            LookupBiotaSpeciesCB(get_maris_species, unmatched_fixes_biota_species),\n",
    "                            CorrectWholeBodyPartCB(),\n",
    "                            LookupBiotaBodyPartCB(get_maris_bodypart, unmatched_fixes_biota_tissues),\n",
    "                        \tCompareDfsAndTfm(dfs)\n",
    "                            ])\n",
    "tfm()\n",
    "print(pd.DataFrame.from_dict(tfm.compare_stats) , '\\n')\n",
    "print(tfm.dfs['biota']['body_part'].unique())"
   ]
  },
  {
   "cell_type": "markdown",
   "id": "47e64d1e",
   "metadata": {},
   "source": [
    "***"
   ]
  },
  {
   "cell_type": "markdown",
   "id": "88025d78",
   "metadata": {},
   "source": [
    "#### Lookup : Biogroup"
   ]
  },
  {
   "cell_type": "markdown",
   "id": "9b1ee62b",
   "metadata": {},
   "source": [
    "&nbsp;&nbsp;&nbsp;&nbsp;&nbsp;*NetCDF4 format variable: ``bio_group``.*"
   ]
  },
  {
   "cell_type": "markdown",
   "id": "03af2a20",
   "metadata": {},
   "source": [
    "&nbsp;&nbsp;&nbsp;&nbsp;&nbsp;*Open Refine format variable: Biogroup is not included.*"
   ]
  },
  {
   "cell_type": "markdown",
   "id": "5ec30dd8",
   "metadata": {},
   "source": [
    "`get_biogroup_lut` reads the file at `species_lut_path()` and from the contents of this file creates a dictionary linking `species_id` to `biogroup_id`."
   ]
  },
  {
   "cell_type": "code",
   "execution_count": null,
   "id": "11a07821",
   "metadata": {},
   "outputs": [],
   "source": [
    "#| export\n",
    "def get_biogroup_lut(maris_lut):\n",
    "    species = pd.read_excel(maris_lut)\n",
    "    return species[['species_id', 'biogroup_id']].set_index('species_id').to_dict()['biogroup_id']"
   ]
  },
  {
   "cell_type": "markdown",
   "id": "a5c84b1f",
   "metadata": {},
   "source": [
    "`LookupBiogroupCB` applies the corrected `biota` `bio group` data obtained from the `get_maris_lut` function to the `biota` dataframe in the dictionary of dataframes, `dfs`."
   ]
  },
  {
   "cell_type": "code",
   "execution_count": null,
   "id": "752fba81",
   "metadata": {},
   "outputs": [],
   "source": [
    "\n",
    "#| export\n",
    "class LookupBiogroupCB(Callback):\n",
    "    \"\"\"\n",
    "    Update biogroup id  based on MARIS dbo_species.xlsx\n",
    "    \"\"\"\n",
    "    def __init__(self, fn_lut): fc.store_attr()\n",
    "    def __call__(self, tfm):\n",
    "        lut = self.fn_lut()\n",
    "        tfm.dfs['biota']['bio_group'] = tfm.dfs['biota']['species'].apply(lambda x: lut[x])"
   ]
  },
  {
   "cell_type": "code",
   "execution_count": null,
   "id": "0d77d992",
   "metadata": {},
   "outputs": [
    {
     "name": "stdout",
     "output_type": "stream",
     "text": [
      "                                                    seawater  biota\n",
      "Number of rows in dfs :                                18856  15314\n",
      "Number of rows in tfm.dfs:                             18308  15314\n",
      "Number of dropped rows:                                  548      0\n",
      "Number of rows in tfm.dfs + Number of dropped r...     18856  15314 \n",
      "\n"
     ]
    }
   ],
   "source": [
    "#|eval: false\n",
    "dfs = load_data(fname_in)\n",
    "tfm = Transformer(dfs, cbs=[\n",
    "                            RemapRdnNameCB(),\n",
    "                            ParseTimeCB(),\n",
    "                            EncodeTimeCB(cfg()),                             \n",
    "                            NormalizeUncCB(),\n",
    "                            LookupBiotaSpeciesCB(get_maris_species, unmatched_fixes_biota_species),\n",
    "                            CorrectWholeBodyPartCB(),\n",
    "                            LookupBiotaBodyPartCB(get_maris_bodypart, unmatched_fixes_biota_tissues),\n",
    "                            LookupBiogroupCB(partial(get_biogroup_lut, species_lut_path())),\n",
    "                            CompareDfsAndTfm(dfs)\n",
    "                            ])\n",
    "tfm()\n",
    "print(pd.DataFrame.from_dict(tfm.compare_stats) , '\\n')\n"
   ]
  },
  {
   "cell_type": "markdown",
   "id": "b297092d",
   "metadata": {},
   "source": [
    "***"
   ]
  },
  {
   "cell_type": "markdown",
   "id": "dbbacd31",
   "metadata": {},
   "source": [
    "#### Lookup : Units"
   ]
  },
  {
   "cell_type": "markdown",
   "id": "790a7907",
   "metadata": {},
   "source": [
    "&nbsp;&nbsp;&nbsp;&nbsp;&nbsp;*NetCDF4 format variable: ``unit``.*"
   ]
  },
  {
   "cell_type": "markdown",
   "id": "f868a3c3",
   "metadata": {},
   "source": [
    "&nbsp;&nbsp;&nbsp;&nbsp;&nbsp;*Open Refine format variable: ``Unit``.*"
   ]
  },
  {
   "cell_type": "code",
   "execution_count": null,
   "id": "53671dc5",
   "metadata": {},
   "outputs": [
    {
     "data": {
      "text/plain": [
       "array(['Bq/l', nan, 'Bq/L', 'BQ/L'], dtype=object)"
      ]
     },
     "execution_count": 140,
     "metadata": {},
     "output_type": "execute_result"
    }
   ],
   "source": [
    "#|eval: false\n",
    "tfm.dfs['seawater']['Unit'].unique()"
   ]
  },
  {
   "cell_type": "code",
   "execution_count": null,
   "id": "a52f766e",
   "metadata": {},
   "outputs": [
    {
     "data": {
      "text/plain": [
       "array(['Bq/kg f.w.', 'Bq/kg.fw', 'Bq/kg fw', 'Bq/kg f.w'], dtype=object)"
      ]
     },
     "execution_count": 141,
     "metadata": {},
     "output_type": "execute_result"
    }
   ],
   "source": [
    "#|eval: false\n",
    "tfm.dfs['biota'][ 'Unit'].unique()"
   ]
  },
  {
   "cell_type": "code",
   "execution_count": null,
   "id": "893671a8",
   "metadata": {},
   "outputs": [
    {
     "data": {
      "text/html": [
       "<div>\n",
       "<style scoped>\n",
       "    .dataframe tbody tr th:only-of-type {\n",
       "        vertical-align: middle;\n",
       "    }\n",
       "\n",
       "    .dataframe tbody tr th {\n",
       "        vertical-align: top;\n",
       "    }\n",
       "\n",
       "    .dataframe thead th {\n",
       "        text-align: right;\n",
       "    }\n",
       "</style>\n",
       "<table border=\"1\" class=\"dataframe\">\n",
       "  <thead>\n",
       "    <tr style=\"text-align: right;\">\n",
       "      <th></th>\n",
       "      <th>unit_id</th>\n",
       "      <th>unit</th>\n",
       "      <th>unit_sanitized</th>\n",
       "      <th>ordlist</th>\n",
       "      <th>Unnamed: 4</th>\n",
       "      <th>Unnamed: 5</th>\n",
       "      <th>Unnamed: 6</th>\n",
       "    </tr>\n",
       "  </thead>\n",
       "  <tbody>\n",
       "    <tr>\n",
       "      <th>0</th>\n",
       "      <td>-1</td>\n",
       "      <td>Not applicable</td>\n",
       "      <td>Not applicable</td>\n",
       "      <td>NaN</td>\n",
       "      <td>NaN</td>\n",
       "      <td>NaN</td>\n",
       "      <td>NaN</td>\n",
       "    </tr>\n",
       "    <tr>\n",
       "      <th>1</th>\n",
       "      <td>0</td>\n",
       "      <td>NOT AVAILABLE</td>\n",
       "      <td>NOT AVAILABLE</td>\n",
       "      <td>0.0</td>\n",
       "      <td>NaN</td>\n",
       "      <td>NaN</td>\n",
       "      <td>NaN</td>\n",
       "    </tr>\n",
       "    <tr>\n",
       "      <th>2</th>\n",
       "      <td>1</td>\n",
       "      <td>Bq/m3</td>\n",
       "      <td>Bq per m3</td>\n",
       "      <td>1.0</td>\n",
       "      <td>Bq/m3</td>\n",
       "      <td>NaN</td>\n",
       "      <td>Bq/m&lt;sup&gt;3&lt;/sup&gt;</td>\n",
       "    </tr>\n",
       "    <tr>\n",
       "      <th>3</th>\n",
       "      <td>2</td>\n",
       "      <td>Bq/m2</td>\n",
       "      <td>Bq per m2</td>\n",
       "      <td>2.0</td>\n",
       "      <td>NaN</td>\n",
       "      <td>NaN</td>\n",
       "      <td>NaN</td>\n",
       "    </tr>\n",
       "    <tr>\n",
       "      <th>4</th>\n",
       "      <td>3</td>\n",
       "      <td>Bq/kg</td>\n",
       "      <td>Bq per kg</td>\n",
       "      <td>3.0</td>\n",
       "      <td>NaN</td>\n",
       "      <td>NaN</td>\n",
       "      <td>NaN</td>\n",
       "    </tr>\n",
       "    <tr>\n",
       "      <th>5</th>\n",
       "      <td>4</td>\n",
       "      <td>Bq/kgd</td>\n",
       "      <td>Bq per kgd</td>\n",
       "      <td>4.0</td>\n",
       "      <td>NaN</td>\n",
       "      <td>NaN</td>\n",
       "      <td>NaN</td>\n",
       "    </tr>\n",
       "    <tr>\n",
       "      <th>6</th>\n",
       "      <td>5</td>\n",
       "      <td>Bq/kgw</td>\n",
       "      <td>Bq per kgw</td>\n",
       "      <td>5.0</td>\n",
       "      <td>NaN</td>\n",
       "      <td>NaN</td>\n",
       "      <td>NaN</td>\n",
       "    </tr>\n",
       "    <tr>\n",
       "      <th>7</th>\n",
       "      <td>6</td>\n",
       "      <td>kg/kg</td>\n",
       "      <td>kg per kg</td>\n",
       "      <td>6.0</td>\n",
       "      <td>NaN</td>\n",
       "      <td>NaN</td>\n",
       "      <td>NaN</td>\n",
       "    </tr>\n",
       "    <tr>\n",
       "      <th>8</th>\n",
       "      <td>7</td>\n",
       "      <td>TU</td>\n",
       "      <td>TU</td>\n",
       "      <td>7.0</td>\n",
       "      <td>NaN</td>\n",
       "      <td>NaN</td>\n",
       "      <td>NaN</td>\n",
       "    </tr>\n",
       "    <tr>\n",
       "      <th>9</th>\n",
       "      <td>8</td>\n",
       "      <td>DELTA/mill</td>\n",
       "      <td>DELTA per mill</td>\n",
       "      <td>8.0</td>\n",
       "      <td>NaN</td>\n",
       "      <td>NaN</td>\n",
       "      <td>NaN</td>\n",
       "    </tr>\n",
       "    <tr>\n",
       "      <th>10</th>\n",
       "      <td>9</td>\n",
       "      <td>atom/kg</td>\n",
       "      <td>atom per kg</td>\n",
       "      <td>9.0</td>\n",
       "      <td>NaN</td>\n",
       "      <td>NaN</td>\n",
       "      <td>NaN</td>\n",
       "    </tr>\n",
       "    <tr>\n",
       "      <th>11</th>\n",
       "      <td>10</td>\n",
       "      <td>atom/kgd</td>\n",
       "      <td>atom per kgd</td>\n",
       "      <td>10.0</td>\n",
       "      <td>NaN</td>\n",
       "      <td>NaN</td>\n",
       "      <td>NaN</td>\n",
       "    </tr>\n",
       "    <tr>\n",
       "      <th>12</th>\n",
       "      <td>11</td>\n",
       "      <td>atom/kgw</td>\n",
       "      <td>atom per kgw</td>\n",
       "      <td>11.0</td>\n",
       "      <td>NaN</td>\n",
       "      <td>NaN</td>\n",
       "      <td>NaN</td>\n",
       "    </tr>\n",
       "    <tr>\n",
       "      <th>13</th>\n",
       "      <td>12</td>\n",
       "      <td>atom/l</td>\n",
       "      <td>atom per l</td>\n",
       "      <td>12.0</td>\n",
       "      <td>NaN</td>\n",
       "      <td>NaN</td>\n",
       "      <td>NaN</td>\n",
       "    </tr>\n",
       "    <tr>\n",
       "      <th>14</th>\n",
       "      <td>13</td>\n",
       "      <td>Bq/kgC</td>\n",
       "      <td>Bq per kgC</td>\n",
       "      <td>13.0</td>\n",
       "      <td>NaN</td>\n",
       "      <td>NaN</td>\n",
       "      <td>NaN</td>\n",
       "    </tr>\n",
       "  </tbody>\n",
       "</table>\n",
       "</div>"
      ],
      "text/plain": [
       "    unit_id            unit  unit_sanitized  ordlist Unnamed: 4  Unnamed: 5  \\\n",
       "0        -1  Not applicable  Not applicable      NaN        NaN         NaN   \n",
       "1         0   NOT AVAILABLE   NOT AVAILABLE      0.0        NaN         NaN   \n",
       "2         1           Bq/m3       Bq per m3      1.0      Bq/m3         NaN   \n",
       "3         2           Bq/m2       Bq per m2      2.0        NaN         NaN   \n",
       "4         3           Bq/kg       Bq per kg      3.0        NaN         NaN   \n",
       "5         4          Bq/kgd      Bq per kgd      4.0        NaN         NaN   \n",
       "6         5          Bq/kgw      Bq per kgw      5.0        NaN         NaN   \n",
       "7         6           kg/kg       kg per kg      6.0        NaN         NaN   \n",
       "8         7              TU              TU      7.0        NaN         NaN   \n",
       "9         8      DELTA/mill  DELTA per mill      8.0        NaN         NaN   \n",
       "10        9         atom/kg     atom per kg      9.0        NaN         NaN   \n",
       "11       10        atom/kgd    atom per kgd     10.0        NaN         NaN   \n",
       "12       11        atom/kgw    atom per kgw     11.0        NaN         NaN   \n",
       "13       12          atom/l      atom per l     12.0        NaN         NaN   \n",
       "14       13          Bq/kgC      Bq per kgC     13.0        NaN         NaN   \n",
       "\n",
       "          Unnamed: 6  \n",
       "0                NaN  \n",
       "1                NaN  \n",
       "2   Bq/m<sup>3</sup>  \n",
       "3                NaN  \n",
       "4                NaN  \n",
       "5                NaN  \n",
       "6                NaN  \n",
       "7                NaN  \n",
       "8                NaN  \n",
       "9                NaN  \n",
       "10               NaN  \n",
       "11               NaN  \n",
       "12               NaN  \n",
       "13               NaN  \n",
       "14               NaN  "
      ]
     },
     "execution_count": 142,
     "metadata": {},
     "output_type": "execute_result"
    }
   ],
   "source": [
    "#|eval: false\n",
    "units_df=pd.read_excel(unit_lut_path())\n",
    "units_df"
   ]
  },
  {
   "cell_type": "code",
   "execution_count": null,
   "id": "2a1aa9e1",
   "metadata": {},
   "outputs": [],
   "source": [
    "#| export\n",
    "# Define unit names renaming rules\n",
    "renaming_unit_rules = {'Bq/l': 1, #'Bq/m3'\n",
    "                       'Bq/L': 1,\n",
    "                       'BQ/L': 1,\n",
    "                       'Bq/kg f.w.': 5, # Bq/kgw\n",
    "                       'Bq/kg.fw' : 5,\n",
    "                       'Bq/kg fw' : 5,\n",
    "                       'Bq/kg f.w' : 5 \n",
    "                       } "
   ]
  },
  {
   "cell_type": "markdown",
   "id": "1220018f",
   "metadata": {},
   "source": [
    "**Niall's Comment:** Assign a value of 1 to all 'unit' entries for 'seawater' (i.e., Bq/m3). Note that many rows for OSPAR 'seawater' are missing 'Unit' data. Additionally, the density of seawater (approximately 1.03 g/cm3) was not considered when converting units."
   ]
  },
  {
   "cell_type": "code",
   "execution_count": null,
   "id": "8241d73c",
   "metadata": {},
   "outputs": [],
   "source": [
    "#| export\n",
    "class LookupUnitCB(Callback):\n",
    "    def __init__(self,\n",
    "                 lut=renaming_unit_rules):\n",
    "        fc.store_attr()\n",
    "    def __call__(self, tfm):\n",
    "        for grp in tfm.dfs.keys():\n",
    "            # For seawater replace nan with 'Bq/l'. \n",
    "            if grp == 'seawater':\n",
    "                tfm.dfs[grp]['Unit'] = tfm.dfs[grp]['Unit'].fillna(value='Bq/l')\n",
    "            # Perform lookup  \n",
    "            tfm.dfs[grp]['unit'] = tfm.dfs[grp]['Unit'].apply(lambda x: self.lut[x])"
   ]
  },
  {
   "cell_type": "code",
   "execution_count": null,
   "id": "ce12a3de",
   "metadata": {},
   "outputs": [
    {
     "name": "stdout",
     "output_type": "stream",
     "text": [
      "                                                    seawater  biota\n",
      "Number of rows in dfs :                                18856  15314\n",
      "Number of rows in tfm.dfs:                             18308  15314\n",
      "Number of dropped rows:                                  548      0\n",
      "Number of rows in tfm.dfs + Number of dropped r...     18856  15314 \n",
      "\n"
     ]
    }
   ],
   "source": [
    "#|eval: false\n",
    "dfs = load_data(fname_in)\n",
    "tfm = Transformer(dfs, cbs=[\n",
    "                            RemapRdnNameCB(),\n",
    "                            ParseTimeCB(),\n",
    "                            EncodeTimeCB(cfg()),                             \n",
    "                            NormalizeUncCB(),\n",
    "                            LookupBiotaSpeciesCB(get_maris_species, unmatched_fixes_biota_species),\n",
    "                            CorrectWholeBodyPartCB(),\n",
    "                            LookupBiotaBodyPartCB(get_maris_bodypart, unmatched_fixes_biota_tissues),\n",
    "                            LookupBiogroupCB(partial(get_biogroup_lut, species_lut_path())),\n",
    "                            LookupUnitCB(renaming_unit_rules),\n",
    "                            CompareDfsAndTfm(dfs)\n",
    "                            ])\n",
    "tfm()\n",
    "print(pd.DataFrame.from_dict(tfm.compare_stats) , '\\n')\n"
   ]
  },
  {
   "cell_type": "markdown",
   "id": "81a14cb9",
   "metadata": {},
   "source": [
    "***"
   ]
  },
  {
   "cell_type": "markdown",
   "id": "05f34e68",
   "metadata": {},
   "source": [
    "#### Lookup : Detection limit or Value type"
   ]
  },
  {
   "cell_type": "markdown",
   "id": "8ecf698d",
   "metadata": {},
   "source": [
    "&nbsp;&nbsp;&nbsp;&nbsp;&nbsp;*NetCDF4 format variable: ``detection_limit``.*"
   ]
  },
  {
   "cell_type": "markdown",
   "id": "db929aa4",
   "metadata": {},
   "source": [
    "&nbsp;&nbsp;&nbsp;&nbsp;&nbsp;*Open Refine foramt variable: ``Value type``.*"
   ]
  },
  {
   "cell_type": "markdown",
   "id": "abaf4ddb",
   "metadata": {},
   "source": [
    "`get_detectionlimit_lut` reads the file at `detection_limit_lut_path()` and from the contents of this file creates a dictionary linking `name` to `id`.\n",
    "| id | name | name_sanitized |\n",
    "| :-: | :-: | :-: |\n",
    "|-1|Not applicable|Not applicable|\n",
    "|0|Not Available|Not available|\n",
    "|1|=|Detected value|\n",
    "|2|<|Detection limit|\n",
    "|3|ND|Not detected|\n",
    "|4|DE|Derived|"
   ]
  },
  {
   "cell_type": "code",
   "execution_count": null,
   "id": "fa0b6287",
   "metadata": {},
   "outputs": [],
   "source": [
    "#| export \n",
    "def get_detectionlimit_lut():\n",
    "    df = pd.read_excel(detection_limit_lut_path(), usecols=['name','id'])\n",
    "    return df.set_index('name').to_dict()['id']"
   ]
  },
  {
   "cell_type": "code",
   "execution_count": null,
   "id": "bdf82b85",
   "metadata": {},
   "outputs": [],
   "source": [
    "# | export\n",
    "class LookupDetectionLimitCB(Callback):\n",
    "    \"Remamp activity value, activity uncertainty and detection limit to MARIS format.\"\n",
    "    def __init__(self , lut):\n",
    "        fc.store_attr()\n",
    "\n",
    "    def __call__(self, tfm):\n",
    "        lut = self.lut()        \n",
    "        for grp in tfm.dfs.keys():\n",
    "            # Copy 'Value type' col \n",
    "            tfm.dfs[grp]['detection_limit'] = tfm.dfs[grp]['Value type']\n",
    "            # Fill nan values with 'Not Available'.\n",
    "            tfm.dfs[grp]['detection_limit'] = tfm.dfs[grp]['detection_limit'].fillna('Not Available') \n",
    "            # Fill values that are not in the lut (e.g. >) with 0\n",
    "            tfm.dfs[grp].loc[~tfm.dfs[grp][\"detection_limit\"].isin(list(lut.keys())), \"detection_limit\"] = 'Not Available'\n",
    "            # Apply rules.\n",
    "            # Fill values with '=' if both a value and uncertainty are not nan and detection_limit is 0.\n",
    "            condition = ((tfm.dfs[grp]['Activity or MDA'].notna()) & (tfm.dfs[grp]['Uncertainty'].notna())) & (tfm.dfs[grp][\"detection_limit\"] == 'Not Available' )\n",
    "            tfm.dfs[grp].loc[condition, 'detection_limit']= '='\n",
    "            # Perform lookup\n",
    "            tfm.dfs[grp]['detection_limit'] = tfm.dfs[grp]['detection_limit'].apply(lambda x: lut[x])"
   ]
  },
  {
   "cell_type": "markdown",
   "id": "be9974ab",
   "metadata": {},
   "source": [
    "Apply the transformer for callbacks `RemapRdnNameCB`, `ParseTimeCB`,  `NormalizeUncCB()`, `LookupBiotaSpeciesCB(get_maris_species)`, `LookupBiotaBodyPartCB(get_maris_bodypart)`, `LookupSedimentCB(get_maris_sediments)`, `LookupBiogroupCB(partial(get_biogroup_lut, species_lut_path())`, `LookupUnitCB()` and `LookupDetectionLimitCB`. Then, print the unique `detection_limit` for the `seawater` dataframe."
   ]
  },
  {
   "cell_type": "code",
   "execution_count": null,
   "id": "73bab74c",
   "metadata": {},
   "outputs": [
    {
     "name": "stdout",
     "output_type": "stream",
     "text": [
      "                                                    seawater  biota\n",
      "Number of rows in dfs :                                18856  15314\n",
      "Number of rows in tfm.dfs:                             18308  15314\n",
      "Number of dropped rows:                                  548      0\n",
      "Number of rows in tfm.dfs + Number of dropped r...     18856  15314 \n",
      "\n"
     ]
    }
   ],
   "source": [
    "#|eval: false\n",
    "dfs = load_data(fname_in)\n",
    "tfm = Transformer(dfs, cbs=[\n",
    "                            RemapRdnNameCB(),\n",
    "                            ParseTimeCB(),\n",
    "                            EncodeTimeCB(cfg()),                             \n",
    "                            NormalizeUncCB(),\n",
    "                            LookupBiotaSpeciesCB(get_maris_species, unmatched_fixes_biota_species),\n",
    "                            CorrectWholeBodyPartCB(),\n",
    "                            LookupBiotaBodyPartCB(get_maris_bodypart, unmatched_fixes_biota_tissues),\n",
    "                            LookupBiogroupCB(partial(get_biogroup_lut, species_lut_path())),\n",
    "                            LookupUnitCB(renaming_unit_rules),\n",
    "                            LookupDetectionLimitCB(get_detectionlimit_lut),\n",
    "                            CompareDfsAndTfm(dfs)\n",
    "                            ])\n",
    "tfm()\n",
    "print(pd.DataFrame.from_dict(tfm.compare_stats) , '\\n')"
   ]
  },
  {
   "cell_type": "markdown",
   "id": "839c9cca",
   "metadata": {},
   "source": [
    "***"
   ]
  },
  {
   "cell_type": "markdown",
   "id": "e9ffd160",
   "metadata": {},
   "source": [
    "#### Lookup : Method"
   ]
  },
  {
   "cell_type": "markdown",
   "id": "7f59cec1",
   "metadata": {},
   "source": [
    "&nbsp;&nbsp;&nbsp;&nbsp;&nbsp; *NetCDF4 format variables: ``counting_method``, ``sampling_method`` and ``preparation_method``.*"
   ]
  },
  {
   "cell_type": "markdown",
   "id": "7167be3b",
   "metadata": {},
   "source": [
    "&nbsp;&nbsp;&nbsp;&nbsp;&nbsp;*Open Refine format variable: ``Sampling method``,\t``Preparation method`` and ``Counting method``.*"
   ]
  },
  {
   "cell_type": "markdown",
   "id": "2d0a91d5",
   "metadata": {},
   "source": [
    "> 'Method' is not provided in the OSPAR data."
   ]
  },
  {
   "cell_type": "markdown",
   "id": "98adb602",
   "metadata": {},
   "source": [
    "***"
   ]
  },
  {
   "cell_type": "markdown",
   "id": "bcb17095",
   "metadata": {},
   "source": [
    "### Data provider sample id"
   ]
  },
  {
   "cell_type": "markdown",
   "id": "05cc7e1f",
   "metadata": {},
   "source": [
    "&nbsp;&nbsp;&nbsp;&nbsp;&nbsp;*NetCDF4 format variable: ``data_provider_sample_id``*"
   ]
  },
  {
   "cell_type": "markdown",
   "id": "aeef8688",
   "metadata": {},
   "source": [
    "&nbsp;&nbsp;&nbsp;&nbsp;&nbsp;*Open Refine format variable: ``Sample ID``*"
   ]
  },
  {
   "cell_type": "markdown",
   "id": "f51185a1",
   "metadata": {},
   "source": [
    ">  MARIS NetCDF4 format for variable type ``data_provider_sample_id`` does not support vlen strings."
   ]
  },
  {
   "cell_type": "code",
   "execution_count": null,
   "id": "cd7f3534",
   "metadata": {},
   "outputs": [],
   "source": [
    "# | export\n",
    "class RemapDataProviderSampleIdCB(Callback):\n",
    "    \"Remap key to MARIS data_provider_sample_id format.\"\n",
    "    def __init__(self):\n",
    "        fc.store_attr()\n",
    "\n",
    "    def __call__(self, tfm):\n",
    "        for grp in tfm.dfs.keys():\n",
    "            # data_provider_sample_id\n",
    "            tfm.dfs[grp]['data_provider_sample_id'] = tfm.dfs[grp]['ID']\n"
   ]
  },
  {
   "cell_type": "code",
   "execution_count": null,
   "id": "3dae4a69",
   "metadata": {},
   "outputs": [
    {
     "name": "stdout",
     "output_type": "stream",
     "text": [
      "                                                    seawater  biota\n",
      "Number of rows in dfs :                                18856  15314\n",
      "Number of rows in tfm.dfs:                             18308  15314\n",
      "Number of dropped rows:                                  548      0\n",
      "Number of rows in tfm.dfs + Number of dropped r...     18856  15314 \n",
      "\n"
     ]
    }
   ],
   "source": [
    "#|eval: false\n",
    "dfs = load_data(fname_in)\n",
    "tfm = Transformer(dfs, cbs=[\n",
    "                            RemapRdnNameCB(),\n",
    "                            ParseTimeCB(),\n",
    "                            EncodeTimeCB(cfg()),                             \n",
    "                            NormalizeUncCB(),\n",
    "                            LookupBiotaSpeciesCB(get_maris_species, unmatched_fixes_biota_species),\n",
    "                            CorrectWholeBodyPartCB(),\n",
    "                            LookupBiotaBodyPartCB(get_maris_bodypart, unmatched_fixes_biota_tissues),\n",
    "                            LookupBiogroupCB(partial(get_biogroup_lut, species_lut_path())),\n",
    "                            LookupUnitCB(renaming_unit_rules),\n",
    "                            LookupDetectionLimitCB(get_detectionlimit_lut),\n",
    "                            RemapDataProviderSampleIdCB(),\n",
    "                            CompareDfsAndTfm(dfs)\n",
    "                            ])\n",
    "tfm()\n",
    "print(pd.DataFrame.from_dict(tfm.compare_stats) , '\\n')"
   ]
  },
  {
   "cell_type": "markdown",
   "id": "589f19e9",
   "metadata": {},
   "source": [
    "***"
   ]
  },
  {
   "cell_type": "markdown",
   "id": "702466e0",
   "metadata": {},
   "source": [
    "### Filtered"
   ]
  },
  {
   "cell_type": "markdown",
   "id": "8566d125",
   "metadata": {},
   "source": [
    "&nbsp;&nbsp;&nbsp;&nbsp;&nbsp;*NetCDF4 format variable: ``filtered``*"
   ]
  },
  {
   "cell_type": "markdown",
   "id": "81179180",
   "metadata": {},
   "source": [
    "&nbsp;&nbsp;&nbsp;&nbsp;&nbsp;*Open Refine format variable: ``Filtered``*"
   ]
  },
  {
   "cell_type": "markdown",
   "id": "7be66264",
   "metadata": {},
   "source": [
    "> 'Filtered' is not provided in the OSPAR data."
   ]
  },
  {
   "cell_type": "markdown",
   "id": "03170f14",
   "metadata": {},
   "source": [
    "***"
   ]
  },
  {
   "cell_type": "markdown",
   "id": "ef7f26e5",
   "metadata": {},
   "source": [
    "#### ~~Lookup : Area~~"
   ]
  },
  {
   "cell_type": "markdown",
   "id": "719e19b2",
   "metadata": {},
   "source": [
    "&nbsp;&nbsp;&nbsp;&nbsp;&nbsp;*NetCDF4 format variable: ``area``.*"
   ]
  },
  {
   "cell_type": "markdown",
   "id": "ec289f5e",
   "metadata": {},
   "source": [
    "&nbsp;&nbsp;&nbsp;&nbsp;&nbsp;*Open Refine format variable: Area is not included*"
   ]
  },
  {
   "cell_type": "markdown",
   "id": "1f9b553f",
   "metadata": {},
   "source": [
    "TODO : Write callback for area. Will I use the marineregions.org API to complete lookup? Or use 'RSC Sub-division'."
   ]
  },
  {
   "cell_type": "markdown",
   "id": "1cd70f99",
   "metadata": {},
   "source": [
    "***"
   ]
  },
  {
   "cell_type": "markdown",
   "id": "6880a421",
   "metadata": {},
   "source": [
    "### Sample Notes"
   ]
  },
  {
   "cell_type": "markdown",
   "id": "34f46afe",
   "metadata": {},
   "source": [
    "&nbsp;&nbsp;&nbsp;&nbsp;&nbsp;*NetCDF4 format variable: ``sample_notes``.*"
   ]
  },
  {
   "cell_type": "markdown",
   "id": "0bf43de2",
   "metadata": {},
   "source": [
    "&nbsp;&nbsp;&nbsp;&nbsp;&nbsp;*Open Refine format variable: ``Sample notes\n",
    "``*"
   ]
  },
  {
   "cell_type": "code",
   "execution_count": null,
   "id": "fc3f1624",
   "metadata": {},
   "outputs": [],
   "source": [
    "# | export\n",
    "class RemapSampleNotesIdCB(Callback):\n",
    "    \"Remap 'Sample Comment' to MARIS sample_notes format.\"\n",
    "    def __init__(self):\n",
    "        fc.store_attr()\n",
    "\n",
    "    def __call__(self, tfm):\n",
    "        for grp in tfm.dfs.keys():\n",
    "            # sample_notes\n",
    "            tfm.dfs[grp]['sample_notes'] = tfm.dfs[grp]['Sample Comment']\n"
   ]
  },
  {
   "cell_type": "code",
   "execution_count": null,
   "id": "2f49850f",
   "metadata": {},
   "outputs": [
    {
     "name": "stdout",
     "output_type": "stream",
     "text": [
      "                                                    seawater  biota\n",
      "Number of rows in dfs :                                18856  15314\n",
      "Number of rows in tfm.dfs:                             18308  15314\n",
      "Number of dropped rows:                                  548      0\n",
      "Number of rows in tfm.dfs + Number of dropped r...     18856  15314 \n",
      "\n"
     ]
    }
   ],
   "source": [
    "#|eval: false\n",
    "dfs = load_data(fname_in)\n",
    "tfm = Transformer(dfs, cbs=[\n",
    "                            RemapRdnNameCB(),\n",
    "                            ParseTimeCB(),\n",
    "                            EncodeTimeCB(cfg()),                             \n",
    "                            NormalizeUncCB(),\n",
    "                            LookupBiotaSpeciesCB(get_maris_species, unmatched_fixes_biota_species),\n",
    "                            CorrectWholeBodyPartCB(),\n",
    "                            LookupBiotaBodyPartCB(get_maris_bodypart, unmatched_fixes_biota_tissues),\n",
    "                            LookupBiogroupCB(partial(get_biogroup_lut, species_lut_path())),\n",
    "                            LookupUnitCB(renaming_unit_rules),\n",
    "                            LookupDetectionLimitCB(get_detectionlimit_lut),\n",
    "                            RemapDataProviderSampleIdCB(),\n",
    "                            RemapSampleNotesIdCB(),\n",
    "                            CompareDfsAndTfm(dfs)\n",
    "                            ])\n",
    "tfm()\n",
    "print(pd.DataFrame.from_dict(tfm.compare_stats) , '\\n')"
   ]
  },
  {
   "cell_type": "markdown",
   "id": "602c2b71",
   "metadata": {},
   "source": [
    "***"
   ]
  },
  {
   "cell_type": "markdown",
   "id": "bff0bb71",
   "metadata": {},
   "source": [
    "### Measurement Notes"
   ]
  },
  {
   "cell_type": "markdown",
   "id": "47da7563",
   "metadata": {},
   "source": [
    "&nbsp;&nbsp;&nbsp;&nbsp;&nbsp;*NetCDF4 format variable: ``measurement_notes``.*"
   ]
  },
  {
   "cell_type": "markdown",
   "id": "e7d0ab91",
   "metadata": {},
   "source": [
    "&nbsp;&nbsp;&nbsp;&nbsp;&nbsp;*Open Refine format variable: ``Measurement notes``*"
   ]
  },
  {
   "cell_type": "code",
   "execution_count": null,
   "metadata": {},
   "outputs": [],
   "source": [
    "# | export\n",
    "class RemapMeasurementNotesIdCB(Callback):\n",
    "    \"Remap 'Measurement Comment' to MARIS measurement_notes format.\"\n",
    "    def __init__(self):\n",
    "        fc.store_attr()\n",
    "\n",
    "    def __call__(self, tfm):\n",
    "        for grp in tfm.dfs.keys():\n",
    "            # measurement_notes\n",
    "            tfm.dfs[grp]['measurement_notes'] = tfm.dfs[grp]['Measurement Comment']\n"
   ]
  },
  {
   "cell_type": "code",
   "execution_count": null,
   "id": "851300bd",
   "metadata": {},
   "outputs": [
    {
     "name": "stdout",
     "output_type": "stream",
     "text": [
      "                                                    seawater  biota\n",
      "Number of rows in dfs :                                18856  15314\n",
      "Number of rows in tfm.dfs:                             18308  15314\n",
      "Number of dropped rows:                                  548      0\n",
      "Number of rows in tfm.dfs + Number of dropped r...     18856  15314 \n",
      "\n"
     ]
    }
   ],
   "source": [
    "#|eval: false\n",
    "dfs = load_data(fname_in)\n",
    "tfm = Transformer(dfs, cbs=[\n",
    "                            RemapRdnNameCB(),\n",
    "                            ParseTimeCB(),\n",
    "                            EncodeTimeCB(cfg()),                             \n",
    "                            NormalizeUncCB(),\n",
    "                            LookupBiotaSpeciesCB(get_maris_species, unmatched_fixes_biota_species),\n",
    "                            CorrectWholeBodyPartCB(),\n",
    "                            LookupBiotaBodyPartCB(get_maris_bodypart, unmatched_fixes_biota_tissues),\n",
    "                            LookupBiogroupCB(partial(get_biogroup_lut, species_lut_path())),\n",
    "                            LookupUnitCB(renaming_unit_rules),\n",
    "                            LookupDetectionLimitCB(get_detectionlimit_lut),\n",
    "                            RemapDataProviderSampleIdCB(),\n",
    "                            RemapSampleNotesIdCB(),\n",
    "                            RemapMeasurementNotesIdCB(),\n",
    "                            CompareDfsAndTfm(dfs)\n",
    "                            ])\n",
    "tfm()\n",
    "print(pd.DataFrame.from_dict(tfm.compare_stats) , '\\n')"
   ]
  },
  {
   "cell_type": "markdown",
   "id": "2a486702",
   "metadata": {},
   "source": [
    "***"
   ]
  },
  {
   "cell_type": "markdown",
   "id": "bcc34daa",
   "metadata": {},
   "source": [
    "### Station ID "
   ]
  },
  {
   "cell_type": "markdown",
   "id": "42f47c38",
   "metadata": {},
   "source": [
    "&nbsp;&nbsp;&nbsp;&nbsp;&nbsp;*NetCDF4 format variable: Station ID is not included.*"
   ]
  },
  {
   "cell_type": "markdown",
   "id": "029ebafb",
   "metadata": {},
   "source": [
    "&nbsp;&nbsp;&nbsp;&nbsp;&nbsp;*Open Refine format variable: ``Station ID``*"
   ]
  },
  {
   "cell_type": "markdown",
   "id": "693de2cf",
   "metadata": {},
   "source": [
    ">  MARIS NetCDF4 format does not include Station ID."
   ]
  },
  {
   "cell_type": "code",
   "execution_count": null,
   "id": "6d64e099",
   "metadata": {},
   "outputs": [],
   "source": [
    "# | export\n",
    "class RemapStationIdCB(Callback):\n",
    "    \"Remap Station ID to MARIS format.\"\n",
    "    def __init__(self):\n",
    "        fc.store_attr()\n",
    "\n",
    "    def __call__(self, tfm):\n",
    "        for grp in tfm.dfs.keys():\n",
    "            tfm.dfs[grp]['station_id'] = tfm.dfs[grp]['Station ID']\n"
   ]
  },
  {
   "cell_type": "code",
   "execution_count": null,
   "id": "67ed0d67",
   "metadata": {},
   "outputs": [
    {
     "name": "stdout",
     "output_type": "stream",
     "text": [
      "                                                    seawater  biota\n",
      "Number of rows in dfs :                                18856  15314\n",
      "Number of rows in tfm.dfs:                             18308  15314\n",
      "Number of dropped rows:                                  548      0\n",
      "Number of rows in tfm.dfs + Number of dropped r...     18856  15314 \n",
      "\n"
     ]
    }
   ],
   "source": [
    "#|eval: false\n",
    "dfs = load_data(fname_in)\n",
    "tfm = Transformer(dfs, cbs=[\n",
    "                            RemapRdnNameCB(),\n",
    "                            ParseTimeCB(),\n",
    "                            EncodeTimeCB(cfg()),                             \n",
    "                            NormalizeUncCB(),\n",
    "                            LookupBiotaSpeciesCB(get_maris_species, unmatched_fixes_biota_species),\n",
    "                            CorrectWholeBodyPartCB(),\n",
    "                            LookupBiotaBodyPartCB(get_maris_bodypart, unmatched_fixes_biota_tissues),\n",
    "                            LookupBiogroupCB(partial(get_biogroup_lut, species_lut_path())),\n",
    "                            LookupUnitCB(renaming_unit_rules),\n",
    "                            LookupDetectionLimitCB(get_detectionlimit_lut),\n",
    "                            RemapDataProviderSampleIdCB(),\n",
    "                            RemapSampleNotesIdCB(),\n",
    "                            RemapMeasurementNotesIdCB(),\n",
    "                            RemapStationIdCB(),\n",
    "                            CompareDfsAndTfm(dfs)\n",
    "                            ])\n",
    "tfm()\n",
    "print(pd.DataFrame.from_dict(tfm.compare_stats) , '\\n')"
   ]
  },
  {
   "cell_type": "markdown",
   "id": "6667ecb4",
   "metadata": {},
   "source": [
    "***"
   ]
  },
  {
   "cell_type": "markdown",
   "id": "4dcee390",
   "metadata": {},
   "source": [
    "### Profile ID, Transect ID or Sequence ID"
   ]
  },
  {
   "cell_type": "markdown",
   "id": "6ac8ea94",
   "metadata": {},
   "source": [
    "&nbsp;&nbsp;&nbsp;&nbsp;&nbsp;*NetCDF4 format variable: Profile ID, Transect ID or Sequence ID is not included.*"
   ]
  },
  {
   "cell_type": "markdown",
   "id": "7a002f5f",
   "metadata": {},
   "source": [
    "&nbsp;&nbsp;&nbsp;&nbsp;&nbsp;*Open Refine format variable: ``Profile or transect ID``*"
   ]
  },
  {
   "cell_type": "markdown",
   "id": "5cdd7c3f",
   "metadata": {},
   "source": [
    "> 'Profile ID', 'Transect ID' or 'Sequence ID' is not provided in the OSPAR data. Remove from handler."
   ]
  },
  {
   "cell_type": "markdown",
   "id": "debc3833",
   "metadata": {},
   "source": [
    "***"
   ]
  },
  {
   "cell_type": "markdown",
   "id": "452a35dc",
   "metadata": {},
   "source": [
    "### Dry to wet ratio"
   ]
  },
  {
   "cell_type": "markdown",
   "id": "b8c33955",
   "metadata": {},
   "source": [
    "&nbsp;&nbsp;&nbsp;&nbsp;&nbsp;*NetCDF4 format variable: DW% is not included.*"
   ]
  },
  {
   "cell_type": "markdown",
   "id": "1ccdcb5d",
   "metadata": {},
   "source": [
    "&nbsp;&nbsp;&nbsp;&nbsp;&nbsp;*Open Refine format variables: ``Dry/wet ratio``.*"
   ]
  },
  {
   "cell_type": "markdown",
   "id": "796941d8",
   "metadata": {},
   "source": [
    "> 'Dry to wet ratio' is not provided in the OSPAR data. Remove from handler."
   ]
  },
  {
   "cell_type": "markdown",
   "id": "d108efcc",
   "metadata": {},
   "source": [
    "***"
   ]
  },
  {
   "cell_type": "markdown",
   "id": "c4311d3a",
   "metadata": {},
   "source": [
    "### Capture Coordinates"
   ]
  },
  {
   "cell_type": "markdown",
   "id": "b4db41c0",
   "metadata": {},
   "source": [
    "&nbsp;&nbsp;&nbsp;&nbsp;&nbsp;*NetCDF4 format variables: ``lon``  and ``lat``*"
   ]
  },
  {
   "cell_type": "markdown",
   "id": "bcedc1be",
   "metadata": {},
   "source": [
    "&nbsp;&nbsp;&nbsp;&nbsp;&nbsp;*Open Refine format variables: ``Longitude decimal`` and ``Latitude decimal``.*"
   ]
  },
  {
   "cell_type": "code",
   "execution_count": null,
   "metadata": {},
   "outputs": [],
   "source": [
    "# | export\n",
    "class FormatCoordinates(Callback):\n",
    "    \"Convert Longitude and Latitude values to DDD.DDDDD°\"\n",
    "    def __init__(self):\n",
    "        fc.store_attr()\n",
    "\n",
    "    def __call__(self, tfm):\n",
    "        for grp in tfm.dfs.keys():\n",
    "            tfm.dfs[grp]['lat'] = np.where(tfm.dfs[grp]['LatDir'].isin(['S']), ((tfm.dfs[grp]['LatD'] + tfm.dfs[grp]['LatM']/60 + tfm.dfs[grp]['LatS'] /(60*60))* (-1)), (tfm.dfs[grp]['LatD'] + tfm.dfs[grp]['LatM']/60 + tfm.dfs[grp]['LatS'] /(60*60)))\n",
    "            tfm.dfs[grp]['lon'] = np.where(tfm.dfs[grp]['LongDir'].isin(['W']), ((tfm.dfs[grp]['LongD'] + tfm.dfs[grp]['LongM']/60 + tfm.dfs[grp]['LongS'] /(60*60))* (-1)), (tfm.dfs[grp]['LongD'] + tfm.dfs[grp]['LongM']/60 + tfm.dfs[grp]['LongS'] /(60*60)))"
   ]
  },
  {
   "cell_type": "code",
   "execution_count": null,
   "id": "3e3f75a6",
   "metadata": {},
   "outputs": [
    {
     "name": "stdout",
     "output_type": "stream",
     "text": [
      "                                                    seawater  biota\n",
      "Number of rows in dfs :                                18856  15314\n",
      "Number of rows in tfm.dfs:                             18308  15314\n",
      "Number of dropped rows:                                  548      0\n",
      "Number of rows in tfm.dfs + Number of dropped r...     18856  15314 \n",
      "\n"
     ]
    }
   ],
   "source": [
    "#|eval: false\n",
    "dfs = load_data(fname_in)\n",
    "tfm = Transformer(dfs, cbs=[\n",
    "                            RemapRdnNameCB(),\n",
    "                            ParseTimeCB(),\n",
    "                            EncodeTimeCB(cfg()),                             \n",
    "                            NormalizeUncCB(),\n",
    "                            LookupBiotaSpeciesCB(get_maris_species, unmatched_fixes_biota_species),\n",
    "                            CorrectWholeBodyPartCB(),\n",
    "                            LookupBiotaBodyPartCB(get_maris_bodypart, unmatched_fixes_biota_tissues),\n",
    "                            LookupBiogroupCB(partial(get_biogroup_lut, species_lut_path())),\n",
    "                            LookupUnitCB(renaming_unit_rules),\n",
    "                            LookupDetectionLimitCB(get_detectionlimit_lut),\n",
    "                            RemapDataProviderSampleIdCB(),\n",
    "                            RemapSampleNotesIdCB(),\n",
    "                            RemapMeasurementNotesIdCB(),\n",
    "                            RemapStationIdCB(),\n",
    "                            FormatCoordinates(),\n",
    "                            CompareDfsAndTfm(dfs)\n",
    "                            ])\n",
    "tfm()\n",
    "print(pd.DataFrame.from_dict(tfm.compare_stats) , '\\n')"
   ]
  },
  {
   "cell_type": "markdown",
   "id": "52de1c23",
   "metadata": {},
   "source": [
    "***"
   ]
  },
  {
   "cell_type": "markdown",
   "id": "e17a5229",
   "metadata": {},
   "source": [
    "### Sanitize coordinates"
   ]
  },
  {
   "cell_type": "markdown",
   "id": "86026563",
   "metadata": {},
   "source": [
    "&nbsp;&nbsp;&nbsp;&nbsp;&nbsp;*NetCDF4 format variables: ``lon``  and ``lat``*"
   ]
  },
  {
   "cell_type": "markdown",
   "id": "5b7f2ffc",
   "metadata": {},
   "source": [
    "&nbsp;&nbsp;&nbsp;&nbsp;&nbsp;*Open Refine format variables: ``Longitude decimal`` and ``Latitude decimal``.*"
   ]
  },
  {
   "cell_type": "markdown",
   "id": "186f29da",
   "metadata": {},
   "source": [
    "Sanitize coordinates drops a row when both longitude & latitude equal 0 or data contains unrealistic longitude & latitude values. Converts longitude & latitude `,` separator to `.` separator.\""
   ]
  },
  {
   "cell_type": "code",
   "execution_count": null,
   "id": "f9d1bdc6",
   "metadata": {},
   "outputs": [
    {
     "name": "stdout",
     "output_type": "stream",
     "text": [
      "                                                    seawater  biota\n",
      "Number of rows in dfs :                                18856  15314\n",
      "Number of rows in tfm.dfs:                             18308  15314\n",
      "Number of dropped rows:                                  548      0\n",
      "Number of rows in tfm.dfs + Number of dropped r...     18856  15314 \n",
      "\n"
     ]
    }
   ],
   "source": [
    "#|eval: false\n",
    "dfs = load_data(fname_in)\n",
    "tfm = Transformer(dfs, cbs=[\n",
    "                            RemapRdnNameCB(),\n",
    "                            ParseTimeCB(),\n",
    "                            EncodeTimeCB(cfg()),                             \n",
    "                            NormalizeUncCB(),\n",
    "                            LookupBiotaSpeciesCB(get_maris_species, unmatched_fixes_biota_species),\n",
    "                            CorrectWholeBodyPartCB(),\n",
    "                            LookupBiotaBodyPartCB(get_maris_bodypart, unmatched_fixes_biota_tissues),\n",
    "                            LookupBiogroupCB(partial(get_biogroup_lut, species_lut_path())),\n",
    "                            LookupUnitCB(renaming_unit_rules),\n",
    "                            LookupDetectionLimitCB(get_detectionlimit_lut),\n",
    "                            RemapDataProviderSampleIdCB(),\n",
    "                            RemapSampleNotesIdCB(),\n",
    "                            RemapMeasurementNotesIdCB(),\n",
    "                            RemapStationIdCB(),\n",
    "                            FormatCoordinates(),\n",
    "                            SanitizeLonLatCB(),\n",
    "                            CompareDfsAndTfm(dfs)\n",
    "                            ])\n",
    "tfm()\n",
    "print(pd.DataFrame.from_dict(tfm.compare_stats) , '\\n')"
   ]
  },
  {
   "cell_type": "markdown",
   "id": "fe3937ff",
   "metadata": {},
   "source": [
    "***"
   ]
  },
  {
   "cell_type": "markdown",
   "id": "52eae829",
   "metadata": {},
   "source": [
    "### Sanitize value"
   ]
  },
  {
   "cell_type": "markdown",
   "id": "442196df",
   "metadata": {},
   "source": [
    "&nbsp;&nbsp;&nbsp;&nbsp;&nbsp;*NetCDF4 format variable: ``value``.*"
   ]
  },
  {
   "cell_type": "markdown",
   "id": "cce88847",
   "metadata": {},
   "source": [
    "&nbsp;&nbsp;&nbsp;&nbsp;&nbsp;*Open Refine format variables: ``Activity or MDA``.*"
   ]
  },
  {
   "cell_type": "code",
   "execution_count": null,
   "id": "25a6bab8",
   "metadata": {},
   "outputs": [],
   "source": [
    "# | export\n",
    "class SanitizeValue(Callback):\n",
    "    \"Sanitize value. Remove blank entries.\"\n",
    "    def __init__(self):\n",
    "        fc.store_attr()\n",
    "\n",
    "    def __call__(self, tfm):\n",
    "        for grp in tfm.dfs.keys():\n",
    "            # Keep rows where value (i.e. 'Activity or MDA') is not 'nan'.\n",
    "            tfm.dfs[grp] = tfm.dfs[grp][tfm.dfs[grp][[ 'Activity or MDA']].notna()]\n"
   ]
  },
  {
   "cell_type": "code",
   "execution_count": null,
   "id": "0d18373a",
   "metadata": {},
   "outputs": [
    {
     "name": "stdout",
     "output_type": "stream",
     "text": [
      "                                                    seawater  biota\n",
      "Number of rows in dfs :                                18856  15314\n",
      "Number of rows in tfm.dfs:                             18308  15314\n",
      "Number of dropped rows:                                  548      0\n",
      "Number of rows in tfm.dfs + Number of dropped r...     18856  15314 \n",
      "\n"
     ]
    }
   ],
   "source": [
    "#|eval: false\n",
    "dfs = load_data(fname_in)\n",
    "tfm = Transformer(dfs, cbs=[\n",
    "                            RemapRdnNameCB(),\n",
    "                            ParseTimeCB(),\n",
    "                            EncodeTimeCB(cfg()),                             \n",
    "                            NormalizeUncCB(),\n",
    "                            LookupBiotaSpeciesCB(get_maris_species, unmatched_fixes_biota_species),\n",
    "                            CorrectWholeBodyPartCB(),\n",
    "                            LookupBiotaBodyPartCB(get_maris_bodypart, unmatched_fixes_biota_tissues),\n",
    "                            LookupBiogroupCB(partial(get_biogroup_lut, species_lut_path())),\n",
    "                            LookupUnitCB(renaming_unit_rules),\n",
    "                            LookupDetectionLimitCB(get_detectionlimit_lut),\n",
    "                            RemapDataProviderSampleIdCB(),\n",
    "                            RemapSampleNotesIdCB(),\n",
    "                            RemapMeasurementNotesIdCB(),\n",
    "                            RemapStationIdCB(),\n",
    "                            FormatCoordinates(),\n",
    "                            SanitizeLonLatCB(),\n",
    "                            SanitizeValue(),\n",
    "                            CompareDfsAndTfm(dfs)\n",
    "                            ])\n",
    "tfm()\n",
    "print(pd.DataFrame.from_dict(tfm.compare_stats) , '\\n')"
   ]
  },
  {
   "cell_type": "markdown",
   "id": "b2a9bab0",
   "metadata": {},
   "source": [
    "***"
   ]
  },
  {
   "cell_type": "markdown",
   "id": "8e050393",
   "metadata": {},
   "source": [
    "### Review DFS and TFM data"
   ]
  },
  {
   "cell_type": "code",
   "execution_count": null,
   "id": "33719a1c",
   "metadata": {},
   "outputs": [
    {
     "name": "stdout",
     "output_type": "stream",
     "text": [
      "                                                    seawater  biota\n",
      "Number of rows in dfs :                                18856  15314\n",
      "Number of rows in tfm.dfs:                             18308  15314\n",
      "Number of dropped rows:                                  548      0\n",
      "Number of rows in tfm.dfs + Number of dropped r...     18856  15314 \n",
      "\n"
     ]
    }
   ],
   "source": [
    "#|eval: false\n",
    "dfs = load_data(fname_in)\n",
    "tfm = Transformer(dfs, cbs=[\n",
    "                            RemapRdnNameCB(),\n",
    "                            ParseTimeCB(),\n",
    "                            EncodeTimeCB(cfg()),                             \n",
    "                            NormalizeUncCB(),\n",
    "                            LookupBiotaSpeciesCB(get_maris_species, unmatched_fixes_biota_species),\n",
    "                            CorrectWholeBodyPartCB(),\n",
    "                            LookupBiotaBodyPartCB(get_maris_bodypart, unmatched_fixes_biota_tissues),\n",
    "                            LookupBiogroupCB(partial(get_biogroup_lut, species_lut_path())),\n",
    "                            LookupUnitCB(renaming_unit_rules),\n",
    "                            LookupDetectionLimitCB(get_detectionlimit_lut),\n",
    "                            RemapDataProviderSampleIdCB(),\n",
    "                            RemapSampleNotesIdCB(),\n",
    "                            RemapMeasurementNotesIdCB(),\n",
    "                            RemapStationIdCB(),\n",
    "                            FormatCoordinates(),\n",
    "                            SanitizeLonLatCB(),\n",
    "                            SanitizeValue(),\n",
    "                            CompareDfsAndTfm(dfs)\n",
    "                            ])\n",
    "tfm()\n",
    "print(pd.DataFrame.from_dict(tfm.compare_stats) , '\\n')"
   ]
  },
  {
   "cell_type": "code",
   "execution_count": null,
   "id": "5e6c11c1",
   "metadata": {},
   "outputs": [],
   "source": [
    "seawater_review=tfm.dfs_dropped['seawater']\n",
    "biota_review=tfm.dfs_dropped['biota']"
   ]
  },
  {
   "cell_type": "code",
   "execution_count": null,
   "id": "2d1a970f",
   "metadata": {},
   "outputs": [
    {
     "data": {
      "text/html": [
       "<div>\n",
       "<style scoped>\n",
       "    .dataframe tbody tr th:only-of-type {\n",
       "        vertical-align: middle;\n",
       "    }\n",
       "\n",
       "    .dataframe tbody tr th {\n",
       "        vertical-align: top;\n",
       "    }\n",
       "\n",
       "    .dataframe thead th {\n",
       "        text-align: right;\n",
       "    }\n",
       "</style>\n",
       "<table border=\"1\" class=\"dataframe\">\n",
       "  <thead>\n",
       "    <tr style=\"text-align: right;\">\n",
       "      <th></th>\n",
       "      <th>ID</th>\n",
       "      <th>Contracting Party</th>\n",
       "      <th>RSC Sub-division</th>\n",
       "      <th>Station ID</th>\n",
       "      <th>Sample ID</th>\n",
       "      <th>LatD</th>\n",
       "      <th>LatM</th>\n",
       "      <th>LatS</th>\n",
       "      <th>LatDir</th>\n",
       "      <th>LongD</th>\n",
       "      <th>...</th>\n",
       "      <th>Sampling date</th>\n",
       "      <th>Nuclide</th>\n",
       "      <th>Value type</th>\n",
       "      <th>Activity or MDA</th>\n",
       "      <th>Uncertainty</th>\n",
       "      <th>Unit</th>\n",
       "      <th>Data provider</th>\n",
       "      <th>Measurement Comment</th>\n",
       "      <th>Sample Comment</th>\n",
       "      <th>Reference Comment</th>\n",
       "    </tr>\n",
       "  </thead>\n",
       "  <tbody>\n",
       "    <tr>\n",
       "      <th>16799</th>\n",
       "      <td>97147</td>\n",
       "      <td>NaN</td>\n",
       "      <td>NaN</td>\n",
       "      <td>NaN</td>\n",
       "      <td>NaN</td>\n",
       "      <td>NaN</td>\n",
       "      <td>NaN</td>\n",
       "      <td>NaN</td>\n",
       "      <td>NaN</td>\n",
       "      <td>NaN</td>\n",
       "      <td>...</td>\n",
       "      <td>NaN</td>\n",
       "      <td>NaN</td>\n",
       "      <td>NaN</td>\n",
       "      <td>NaN</td>\n",
       "      <td>NaN</td>\n",
       "      <td>NaN</td>\n",
       "      <td>NaN</td>\n",
       "      <td>NaN</td>\n",
       "      <td>NaN</td>\n",
       "      <td>NaN</td>\n",
       "    </tr>\n",
       "    <tr>\n",
       "      <th>16800</th>\n",
       "      <td>97148</td>\n",
       "      <td>NaN</td>\n",
       "      <td>NaN</td>\n",
       "      <td>NaN</td>\n",
       "      <td>NaN</td>\n",
       "      <td>NaN</td>\n",
       "      <td>NaN</td>\n",
       "      <td>NaN</td>\n",
       "      <td>NaN</td>\n",
       "      <td>NaN</td>\n",
       "      <td>...</td>\n",
       "      <td>NaN</td>\n",
       "      <td>NaN</td>\n",
       "      <td>NaN</td>\n",
       "      <td>NaN</td>\n",
       "      <td>NaN</td>\n",
       "      <td>NaN</td>\n",
       "      <td>NaN</td>\n",
       "      <td>NaN</td>\n",
       "      <td>NaN</td>\n",
       "      <td>NaN</td>\n",
       "    </tr>\n",
       "    <tr>\n",
       "      <th>16801</th>\n",
       "      <td>97149</td>\n",
       "      <td>NaN</td>\n",
       "      <td>NaN</td>\n",
       "      <td>NaN</td>\n",
       "      <td>NaN</td>\n",
       "      <td>NaN</td>\n",
       "      <td>NaN</td>\n",
       "      <td>NaN</td>\n",
       "      <td>NaN</td>\n",
       "      <td>NaN</td>\n",
       "      <td>...</td>\n",
       "      <td>NaN</td>\n",
       "      <td>NaN</td>\n",
       "      <td>NaN</td>\n",
       "      <td>NaN</td>\n",
       "      <td>NaN</td>\n",
       "      <td>NaN</td>\n",
       "      <td>NaN</td>\n",
       "      <td>NaN</td>\n",
       "      <td>NaN</td>\n",
       "      <td>NaN</td>\n",
       "    </tr>\n",
       "    <tr>\n",
       "      <th>16802</th>\n",
       "      <td>97150</td>\n",
       "      <td>NaN</td>\n",
       "      <td>NaN</td>\n",
       "      <td>NaN</td>\n",
       "      <td>NaN</td>\n",
       "      <td>NaN</td>\n",
       "      <td>NaN</td>\n",
       "      <td>NaN</td>\n",
       "      <td>NaN</td>\n",
       "      <td>NaN</td>\n",
       "      <td>...</td>\n",
       "      <td>NaN</td>\n",
       "      <td>NaN</td>\n",
       "      <td>NaN</td>\n",
       "      <td>NaN</td>\n",
       "      <td>NaN</td>\n",
       "      <td>NaN</td>\n",
       "      <td>NaN</td>\n",
       "      <td>NaN</td>\n",
       "      <td>NaN</td>\n",
       "      <td>NaN</td>\n",
       "    </tr>\n",
       "    <tr>\n",
       "      <th>16803</th>\n",
       "      <td>97151</td>\n",
       "      <td>NaN</td>\n",
       "      <td>NaN</td>\n",
       "      <td>NaN</td>\n",
       "      <td>NaN</td>\n",
       "      <td>NaN</td>\n",
       "      <td>NaN</td>\n",
       "      <td>NaN</td>\n",
       "      <td>NaN</td>\n",
       "      <td>NaN</td>\n",
       "      <td>...</td>\n",
       "      <td>NaN</td>\n",
       "      <td>NaN</td>\n",
       "      <td>NaN</td>\n",
       "      <td>NaN</td>\n",
       "      <td>NaN</td>\n",
       "      <td>NaN</td>\n",
       "      <td>NaN</td>\n",
       "      <td>NaN</td>\n",
       "      <td>NaN</td>\n",
       "      <td>NaN</td>\n",
       "    </tr>\n",
       "  </tbody>\n",
       "</table>\n",
       "<p>5 rows × 25 columns</p>\n",
       "</div>"
      ],
      "text/plain": [
       "          ID Contracting Party  RSC Sub-division Station ID Sample ID  LatD  \\\n",
       "16799  97147               NaN               NaN        NaN       NaN   NaN   \n",
       "16800  97148               NaN               NaN        NaN       NaN   NaN   \n",
       "16801  97149               NaN               NaN        NaN       NaN   NaN   \n",
       "16802  97150               NaN               NaN        NaN       NaN   NaN   \n",
       "16803  97151               NaN               NaN        NaN       NaN   NaN   \n",
       "\n",
       "       LatM  LatS LatDir  LongD  ...  Sampling date  Nuclide Value type  \\\n",
       "16799   NaN   NaN    NaN    NaN  ...            NaN      NaN        NaN   \n",
       "16800   NaN   NaN    NaN    NaN  ...            NaN      NaN        NaN   \n",
       "16801   NaN   NaN    NaN    NaN  ...            NaN      NaN        NaN   \n",
       "16802   NaN   NaN    NaN    NaN  ...            NaN      NaN        NaN   \n",
       "16803   NaN   NaN    NaN    NaN  ...            NaN      NaN        NaN   \n",
       "\n",
       "      Activity or MDA  Uncertainty Unit Data provider Measurement Comment  \\\n",
       "16799             NaN          NaN  NaN           NaN                 NaN   \n",
       "16800             NaN          NaN  NaN           NaN                 NaN   \n",
       "16801             NaN          NaN  NaN           NaN                 NaN   \n",
       "16802             NaN          NaN  NaN           NaN                 NaN   \n",
       "16803             NaN          NaN  NaN           NaN                 NaN   \n",
       "\n",
       "       Sample Comment  Reference Comment  \n",
       "16799             NaN                NaN  \n",
       "16800             NaN                NaN  \n",
       "16801             NaN                NaN  \n",
       "16802             NaN                NaN  \n",
       "16803             NaN                NaN  \n",
       "\n",
       "[5 rows x 25 columns]"
      ]
     },
     "execution_count": 284,
     "metadata": {},
     "output_type": "execute_result"
    }
   ],
   "source": [
    "seawater_review.head()"
   ]
  },
  {
   "cell_type": "markdown",
   "id": "e174a018",
   "metadata": {},
   "source": [
    "***"
   ]
  },
  {
   "cell_type": "markdown",
   "id": "e20cd739",
   "metadata": {},
   "source": [
    "### Columns of interest and rename for NetCDF"
   ]
  },
  {
   "cell_type": "markdown",
   "id": "cbbf60b1",
   "metadata": {},
   "source": [
    "> Column names are standardized to MARIS NetCDF format (i.e. PEP8 ). "
   ]
  },
  {
   "cell_type": "code",
   "execution_count": null,
   "id": "def67f8e",
   "metadata": {},
   "outputs": [
    {
     "data": {
      "text/plain": [
       "Index(['ID', 'Contracting Party', 'RSC Sub-division', 'Station ID',\n",
       "       'Sample ID', 'LatD', 'LatM', 'LatS', 'LatDir', 'LongD', 'LongM',\n",
       "       'LongS', 'LongDir', 'Sample type', 'Biological group', 'Species',\n",
       "       'Body Part', 'Sampling date', 'Nuclide', 'Value type',\n",
       "       'Activity or MDA', 'Uncertainty', 'Unit', 'Data provider',\n",
       "       'Measurement Comment', 'Sample Comment', 'Reference Comment', 'time',\n",
       "       'species', 'body_part', 'bio_group', 'unit', 'detection_limit',\n",
       "       'data_provider_sample_id', 'sample_notes', 'measurement_notes',\n",
       "       'station_id', 'lat', 'lon'],\n",
       "      dtype='object')"
      ]
     },
     "execution_count": 231,
     "metadata": {},
     "output_type": "execute_result"
    }
   ],
   "source": [
    "tfm.dfs['biota'].columns"
   ]
  },
  {
   "cell_type": "code",
   "execution_count": null,
   "id": "ed3395ab",
   "metadata": {},
   "outputs": [],
   "source": [
    "#| export\n",
    "# Define columns of interest (keys) and renaming rules (values).\n",
    "def get_renaming_rules_netcdf():\n",
    "    vars = cdl_cfg()['vars']\n",
    "    return {('seawater','biota', 'sediment') : {    \n",
    "                                                        ## DEFAULT\n",
    "                                                        'lat' : vars['defaults']['lat']['name'] ,\n",
    "                                                        'lon' : vars['defaults']['lon']['name'] ,\n",
    "                                                        'time' : vars['defaults']['time']['name'],\n",
    "                                                        'Nuclide' : 'nuclide',\n",
    "                                                        'unit' : vars['suffixes']['unit']['name'],\n",
    "                                                        #'station_id' : 'data_provider_station_id',\n",
    "                                                        #'data_provider_sample_id' : vars['defaults']['data_provider_sample_id']['name'],\n",
    "                                                        #'profile_or_transect_id' : 'profile_id',\n",
    "                                                        'detection_limit' : vars['suffixes']['detection_limit']['name']\n",
    "                                                        #'Sampling method' : 'sampling_method'\n",
    "                                                        #'Preparation method' : 'preparation_method'\n",
    "                                                        #'Counting method' : 'counting_method'\n",
    "                                                        #'Sample notes' : 'sample_notes'\n",
    "                                                        #'Measurement notes' : 'measurement_notes'\n",
    "                                                    },\n",
    "                  ('seawater',) : {\n",
    "                                ## SEAWATER\n",
    "                                'Activity or MDA': 'value',\n",
    "                                'Uncertainty': vars['suffixes']['uncertainty']['name'],\n",
    "                                #'TDEPTH': vars['defaults']['tot_depth']['name'],\n",
    "                                'Sampling depth': vars['defaults']['smp_depth']['name'],\n",
    "                                #'SALIN' : vars['suffixes']['salinity']['name'],\n",
    "                                #'TTEMP' : vars['suffixes']['temperature']['name'],\n",
    "                                #'FILT' : vars['suffixes']['filtered']['name']\n",
    "                                },\n",
    "                  ('biota',) : { \n",
    "                                ## BIOTA\n",
    "                                'Activity or MDA': 'value',\n",
    "                                'Uncertainty' : vars['suffixes']['uncertainty']['name'],\n",
    "                                'species' : vars['bio']['species']['name'],\n",
    "                                'body_part' : vars['bio']['body_part']['name'],\n",
    "                                'bio_group' : vars['bio']['bio_group']['name'],\n",
    "                                #'SDEPTH' : vars['defaults']['smp_depth']['name'],\n",
    "                                #'DW%' : 'dry_wet_ratio'\n",
    "                                #'Drying Method' : drying_method\n",
    "                                \n",
    "                                }\n",
    "                    }"
   ]
  },
  {
   "cell_type": "markdown",
   "id": "f0b70dc1",
   "metadata": {},
   "source": [
    "Open Refine data format includes additional data that is not available in NetCDF format. Here we select columns of interest for Open Refine and standardize columns names to MARIS NetCDF format. "
   ]
  },
  {
   "cell_type": "markdown",
   "id": "c4fe7220",
   "metadata": {},
   "source": [
    "> For Open Refine CSV column names are standardized to MARIS NetCDF format. "
   ]
  },
  {
   "cell_type": "code",
   "execution_count": null,
   "id": "dd01172a",
   "metadata": {},
   "outputs": [],
   "source": [
    "#| export\n",
    "# Define columns of interest (keys) and renaming rules (values).\n",
    "def get_renaming_rules_openrefine():\n",
    "    vars = cdl_cfg()['vars']\n",
    "    return {('seawater','biota', 'sediment') : {    \n",
    "                                                        ## DEFAULT\n",
    "                                                        'lat' : vars['defaults']['lat']['name'] ,\n",
    "                                                        'lon' : vars['defaults']['lon']['name'] ,\n",
    "                                                        'time' : vars['defaults']['time']['name'],\n",
    "                                                        'Nuclide' : 'nuclide',\n",
    "                                                        'unit' : vars['suffixes']['unit']['name'],\n",
    "                                                        'station_id' : 'data_provider_station_id',\n",
    "                                                        'data_provider_sample_id' : vars['defaults']['data_provider_sample_id']['name'],\n",
    "                                                        #'profile_or_transect_id' : 'profile_id',\n",
    "                                                        'detection_limit' : vars['suffixes']['detection_limit']['name'],\n",
    "                                                        #'Sampling method' : 'sampling_method'\n",
    "                                                        #'Preparation method' : 'preparation_method'\n",
    "                                                        #'Counting method' : 'counting_method'\n",
    "                                                        'sample_notes' : 'sample_notes',\n",
    "                                                        'measurement_notes' : 'measurement_notes',\n",
    "                                                    },\n",
    "                  ('seawater',) : {\n",
    "                                ## SEAWATER\n",
    "                                'Activity or MDA': 'value',\n",
    "                                'Uncertainty': vars['suffixes']['uncertainty']['name'],\n",
    "                                #'TDEPTH': vars['defaults']['tot_depth']['name'],\n",
    "                                'Sampling depth': vars['defaults']['smp_depth']['name'],\n",
    "                                #'SALIN' : vars['suffixes']['salinity']['name'],\n",
    "                                #'TTEMP' : vars['suffixes']['temperature']['name'],\n",
    "                                #'FILT' : vars['suffixes']['filtered']['name']\n",
    "                                },\n",
    "                  ('biota',) : { \n",
    "                                ## BIOTA\n",
    "                                'Activity or MDA': 'value',\n",
    "                                'Uncertainty' : vars['suffixes']['uncertainty']['name'],\n",
    "                                'species' : vars['bio']['species']['name'],\n",
    "                                'body_part' : vars['bio']['body_part']['name'],\n",
    "                                'bio_group' : vars['bio']['bio_group']['name'],\n",
    "                                #'SDEPTH' : vars['defaults']['smp_depth']['name'],\n",
    "                                #'DW%' : 'dry_wet_ratio'\n",
    "                                #'Drying Method' : drying_method\n",
    "                                \n",
    "                                }\n",
    "                    }"
   ]
  },
  {
   "cell_type": "code",
   "execution_count": null,
   "id": "43e948b1",
   "metadata": {},
   "outputs": [],
   "source": [
    "\n",
    "#| export\n",
    "class SelectAndRenameColumnCB(Callback):\n",
    "    def __init__(self,\n",
    "                 fn_renaming_rules,\n",
    "                ):\n",
    "        fc.store_attr()\n",
    "    def __call__(self, tfm):\n",
    "        renaming = self.fn_renaming_rules()\n",
    "        for grp in tfm.dfs.keys():            \n",
    "            # get columns related to the grp (e.g. 'biota').\n",
    "            coi = [v for k, v in renaming.items() if grp in k]\n",
    "            # Join cols of interest\n",
    "            coi_rename = {}\n",
    "            for d in coi:\n",
    "                for k, v in d.items(): \n",
    "                    coi_rename[k]=v\n",
    "            # list cols\n",
    "            cols = list(coi_rename.keys()) \n",
    "            # select cols in df \n",
    "            tfm.dfs[grp] = tfm.dfs[grp].loc[:, cols]\n",
    "            # Rename cols\n",
    "            tfm.dfs[grp].rename(columns=coi_rename, inplace=True)\n",
    "            "
   ]
  },
  {
   "cell_type": "code",
   "execution_count": null,
   "id": "20386554",
   "metadata": {},
   "outputs": [
    {
     "name": "stdout",
     "output_type": "stream",
     "text": [
      "                                                    seawater  biota\n",
      "Number of rows in dfs :                                18856  15314\n",
      "Number of rows in tfm.dfs:                             18308  15314\n",
      "Number of dropped rows:                                  548      0\n",
      "Number of rows in tfm.dfs + Number of dropped r...     18856  15314 \n",
      "\n"
     ]
    }
   ],
   "source": [
    "#|eval: false\n",
    "dfs = load_data(fname_in)\n",
    "tfm = Transformer(dfs, cbs=[\n",
    "                            RemapRdnNameCB(),\n",
    "                            ParseTimeCB(),\n",
    "                            EncodeTimeCB(cfg()),                             \n",
    "                            NormalizeUncCB(),\n",
    "                            LookupBiotaSpeciesCB(get_maris_species, unmatched_fixes_biota_species),\n",
    "                            CorrectWholeBodyPartCB(),\n",
    "                            LookupBiotaBodyPartCB(get_maris_bodypart, unmatched_fixes_biota_tissues),\n",
    "                            LookupBiogroupCB(partial(get_biogroup_lut, species_lut_path())),\n",
    "                            LookupUnitCB(renaming_unit_rules),\n",
    "                            LookupDetectionLimitCB(get_detectionlimit_lut),\n",
    "                            RemapDataProviderSampleIdCB(),\n",
    "                            RemapSampleNotesIdCB(),\n",
    "                            RemapMeasurementNotesIdCB(),\n",
    "                            RemapStationIdCB(),\n",
    "                            FormatCoordinates(),\n",
    "                            SanitizeLonLatCB(),\n",
    "                            SanitizeValue(),\n",
    "                            SelectAndRenameColumnCB(get_renaming_rules_netcdf),\n",
    "                            CompareDfsAndTfm(dfs)\n",
    "                            ])\n",
    "tfm()\n",
    "print(pd.DataFrame.from_dict(tfm.compare_stats) , '\\n')"
   ]
  },
  {
   "cell_type": "code",
   "execution_count": null,
   "id": "548fdce0",
   "metadata": {},
   "outputs": [
    {
     "data": {
      "text/html": [
       "<div>\n",
       "<style scoped>\n",
       "    .dataframe tbody tr th:only-of-type {\n",
       "        vertical-align: middle;\n",
       "    }\n",
       "\n",
       "    .dataframe tbody tr th {\n",
       "        vertical-align: top;\n",
       "    }\n",
       "\n",
       "    .dataframe thead th {\n",
       "        text-align: right;\n",
       "    }\n",
       "</style>\n",
       "<table border=\"1\" class=\"dataframe\">\n",
       "  <thead>\n",
       "    <tr style=\"text-align: right;\">\n",
       "      <th></th>\n",
       "      <th>lat</th>\n",
       "      <th>lon</th>\n",
       "      <th>time</th>\n",
       "      <th>nuclide</th>\n",
       "      <th>_unit</th>\n",
       "      <th>_dl</th>\n",
       "      <th>value</th>\n",
       "      <th>_unc</th>\n",
       "      <th>species</th>\n",
       "      <th>body_part</th>\n",
       "      <th>bio_group</th>\n",
       "    </tr>\n",
       "  </thead>\n",
       "  <tbody>\n",
       "    <tr>\n",
       "      <th>0</th>\n",
       "      <td>NaN</td>\n",
       "      <td>NaN</td>\n",
       "      <td>NaN</td>\n",
       "      <td>NaN</td>\n",
       "      <td>NaN</td>\n",
       "      <td>NaN</td>\n",
       "      <td>0.3510</td>\n",
       "      <td>NaN</td>\n",
       "      <td>NaN</td>\n",
       "      <td>NaN</td>\n",
       "      <td>NaN</td>\n",
       "    </tr>\n",
       "    <tr>\n",
       "      <th>1</th>\n",
       "      <td>NaN</td>\n",
       "      <td>NaN</td>\n",
       "      <td>NaN</td>\n",
       "      <td>NaN</td>\n",
       "      <td>NaN</td>\n",
       "      <td>NaN</td>\n",
       "      <td>39.0000</td>\n",
       "      <td>NaN</td>\n",
       "      <td>NaN</td>\n",
       "      <td>NaN</td>\n",
       "      <td>NaN</td>\n",
       "    </tr>\n",
       "    <tr>\n",
       "      <th>2</th>\n",
       "      <td>NaN</td>\n",
       "      <td>NaN</td>\n",
       "      <td>NaN</td>\n",
       "      <td>NaN</td>\n",
       "      <td>NaN</td>\n",
       "      <td>NaN</td>\n",
       "      <td>0.0938</td>\n",
       "      <td>NaN</td>\n",
       "      <td>NaN</td>\n",
       "      <td>NaN</td>\n",
       "      <td>NaN</td>\n",
       "    </tr>\n",
       "    <tr>\n",
       "      <th>3</th>\n",
       "      <td>NaN</td>\n",
       "      <td>NaN</td>\n",
       "      <td>NaN</td>\n",
       "      <td>NaN</td>\n",
       "      <td>NaN</td>\n",
       "      <td>NaN</td>\n",
       "      <td>1.5400</td>\n",
       "      <td>NaN</td>\n",
       "      <td>NaN</td>\n",
       "      <td>NaN</td>\n",
       "      <td>NaN</td>\n",
       "    </tr>\n",
       "    <tr>\n",
       "      <th>4</th>\n",
       "      <td>NaN</td>\n",
       "      <td>NaN</td>\n",
       "      <td>NaN</td>\n",
       "      <td>NaN</td>\n",
       "      <td>NaN</td>\n",
       "      <td>NaN</td>\n",
       "      <td>16.0000</td>\n",
       "      <td>NaN</td>\n",
       "      <td>NaN</td>\n",
       "      <td>NaN</td>\n",
       "      <td>NaN</td>\n",
       "    </tr>\n",
       "    <tr>\n",
       "      <th>...</th>\n",
       "      <td>...</td>\n",
       "      <td>...</td>\n",
       "      <td>...</td>\n",
       "      <td>...</td>\n",
       "      <td>...</td>\n",
       "      <td>...</td>\n",
       "      <td>...</td>\n",
       "      <td>...</td>\n",
       "      <td>...</td>\n",
       "      <td>...</td>\n",
       "      <td>...</td>\n",
       "    </tr>\n",
       "    <tr>\n",
       "      <th>15309</th>\n",
       "      <td>NaN</td>\n",
       "      <td>NaN</td>\n",
       "      <td>NaN</td>\n",
       "      <td>NaN</td>\n",
       "      <td>NaN</td>\n",
       "      <td>NaN</td>\n",
       "      <td>838.0000</td>\n",
       "      <td>NaN</td>\n",
       "      <td>NaN</td>\n",
       "      <td>NaN</td>\n",
       "      <td>NaN</td>\n",
       "    </tr>\n",
       "    <tr>\n",
       "      <th>15310</th>\n",
       "      <td>NaN</td>\n",
       "      <td>NaN</td>\n",
       "      <td>NaN</td>\n",
       "      <td>NaN</td>\n",
       "      <td>NaN</td>\n",
       "      <td>NaN</td>\n",
       "      <td>0.0180</td>\n",
       "      <td>NaN</td>\n",
       "      <td>NaN</td>\n",
       "      <td>NaN</td>\n",
       "      <td>NaN</td>\n",
       "    </tr>\n",
       "    <tr>\n",
       "      <th>15311</th>\n",
       "      <td>NaN</td>\n",
       "      <td>NaN</td>\n",
       "      <td>NaN</td>\n",
       "      <td>NaN</td>\n",
       "      <td>NaN</td>\n",
       "      <td>NaN</td>\n",
       "      <td>0.2100</td>\n",
       "      <td>NaN</td>\n",
       "      <td>NaN</td>\n",
       "      <td>NaN</td>\n",
       "      <td>NaN</td>\n",
       "    </tr>\n",
       "    <tr>\n",
       "      <th>15312</th>\n",
       "      <td>NaN</td>\n",
       "      <td>NaN</td>\n",
       "      <td>NaN</td>\n",
       "      <td>NaN</td>\n",
       "      <td>NaN</td>\n",
       "      <td>NaN</td>\n",
       "      <td>0.5600</td>\n",
       "      <td>NaN</td>\n",
       "      <td>NaN</td>\n",
       "      <td>NaN</td>\n",
       "      <td>NaN</td>\n",
       "    </tr>\n",
       "    <tr>\n",
       "      <th>15313</th>\n",
       "      <td>NaN</td>\n",
       "      <td>NaN</td>\n",
       "      <td>NaN</td>\n",
       "      <td>NaN</td>\n",
       "      <td>NaN</td>\n",
       "      <td>NaN</td>\n",
       "      <td>17.1560</td>\n",
       "      <td>NaN</td>\n",
       "      <td>NaN</td>\n",
       "      <td>NaN</td>\n",
       "      <td>NaN</td>\n",
       "    </tr>\n",
       "  </tbody>\n",
       "</table>\n",
       "<p>15314 rows × 11 columns</p>\n",
       "</div>"
      ],
      "text/plain": [
       "       lat  lon  time nuclide  _unit  _dl     value  _unc  species  body_part  \\\n",
       "0      NaN  NaN   NaN     NaN    NaN  NaN    0.3510   NaN      NaN        NaN   \n",
       "1      NaN  NaN   NaN     NaN    NaN  NaN   39.0000   NaN      NaN        NaN   \n",
       "2      NaN  NaN   NaN     NaN    NaN  NaN    0.0938   NaN      NaN        NaN   \n",
       "3      NaN  NaN   NaN     NaN    NaN  NaN    1.5400   NaN      NaN        NaN   \n",
       "4      NaN  NaN   NaN     NaN    NaN  NaN   16.0000   NaN      NaN        NaN   \n",
       "...    ...  ...   ...     ...    ...  ...       ...   ...      ...        ...   \n",
       "15309  NaN  NaN   NaN     NaN    NaN  NaN  838.0000   NaN      NaN        NaN   \n",
       "15310  NaN  NaN   NaN     NaN    NaN  NaN    0.0180   NaN      NaN        NaN   \n",
       "15311  NaN  NaN   NaN     NaN    NaN  NaN    0.2100   NaN      NaN        NaN   \n",
       "15312  NaN  NaN   NaN     NaN    NaN  NaN    0.5600   NaN      NaN        NaN   \n",
       "15313  NaN  NaN   NaN     NaN    NaN  NaN   17.1560   NaN      NaN        NaN   \n",
       "\n",
       "       bio_group  \n",
       "0            NaN  \n",
       "1            NaN  \n",
       "2            NaN  \n",
       "3            NaN  \n",
       "4            NaN  \n",
       "...          ...  \n",
       "15309        NaN  \n",
       "15310        NaN  \n",
       "15311        NaN  \n",
       "15312        NaN  \n",
       "15313        NaN  \n",
       "\n",
       "[15314 rows x 11 columns]"
      ]
     },
     "execution_count": 244,
     "metadata": {},
     "output_type": "execute_result"
    }
   ],
   "source": [
    "tfm.dfs['biota']"
   ]
  },
  {
   "cell_type": "markdown",
   "id": "43ac6486",
   "metadata": {},
   "source": [
    "***"
   ]
  },
  {
   "cell_type": "markdown",
   "id": "509bb251",
   "metadata": {},
   "source": [
    "### Reshape: long to wide"
   ]
  },
  {
   "cell_type": "markdown",
   "id": "80b68e7d",
   "metadata": {},
   "source": [
    "Convert data from long to wide and rename columns to comply with NetCDF format."
   ]
  },
  {
   "cell_type": "code",
   "execution_count": null,
   "id": "1c56694a",
   "metadata": {},
   "outputs": [],
   "source": [
    "#| export\n",
    "class ReshapeLongToWide(Callback):\n",
    "    \"Convert data from long to wide with renamed columns.\"\n",
    "    def __init__(self, columns=['nuclide'], values=['value']):\n",
    "        fc.store_attr()\n",
    "        # Retrieve all possible derived vars (e.g 'unc', 'dl', ...) from configs\n",
    "        self.derived_cols = [value['name'] for value in cdl_cfg()['vars']['suffixes'].values()]\n",
    "    \n",
    "    def renamed_cols(self, cols):\n",
    "        \"Flatten columns name\"\n",
    "        return [inner if outer == \"value\" else f'{inner}{outer}'\n",
    "                if inner else outer\n",
    "                for outer, inner in cols]\n",
    "\n",
    "    def pivot(self, df):\n",
    "        # Among all possible 'derived cols' select the ones present in df\n",
    "        derived_coi = [col for col in self.derived_cols if col in df.columns]\n",
    "        \n",
    "        df=df.reset_index()\n",
    "        \n",
    "        idx = list(set(df.columns) - set(self.columns + derived_coi + self.values))\n",
    "        \n",
    "        # Create a fill_value to replace NaN values in the columns used as the index in the pivot table.\n",
    "        # Check if num_fill_value is already in the dataframe index values. If num_fill_value already exists\n",
    "        # then increase num_fill_value by 1 until a value is found for num_fill_value that is not in the dataframe. \n",
    "        num_fill_value = 99999999999999\n",
    "        while (df[idx] == num_fill_value).any().any():\n",
    "            num_fill_value += 1\n",
    "        # Fill in nan values for each col found in idx. \n",
    "        for col in idx:   \n",
    "            if pd.api.types.is_numeric_dtype(df[col]):\n",
    "                fill_value = num_fill_value\n",
    "            if pd.api.types.is_string_dtype(df[col]):\n",
    "                fill_value = 'NOT AVAILABLE'\n",
    "                \n",
    "            df[col]=df[col].fillna(fill_value)\n",
    "\n",
    "        pivot_df=df.pivot_table(index=idx,\n",
    "                              columns=self.columns,\n",
    "                              values=self.values + derived_coi,\n",
    "                              fill_value=np.nan,\n",
    "                              aggfunc=lambda x: x\n",
    "                              ).reset_index()\n",
    "        \n",
    "        pivot_df.index.name = 'sample'\n",
    "        pivot_df=pivot_df.reset_index('sample')\n",
    "        \n",
    "        # Replace fill_value  with  np.nan\n",
    "        pivot_df[idx]=pivot_df[idx].replace({'NOT AVAILABLE': np.nan,\n",
    "                                             num_fill_value : np.nan})\n",
    "        return (pivot_df)\n",
    "\n",
    "    def __call__(self, tfm):\n",
    "        for grp in tfm.dfs.keys():\n",
    "            tfm.dfs[grp] = self.pivot(tfm.dfs[grp])\n",
    "            tfm.dfs[grp].columns = self.renamed_cols(tfm.dfs[grp].columns)"
   ]
  },
  {
   "cell_type": "code",
   "execution_count": null,
   "id": "805d75aa",
   "metadata": {},
   "outputs": [
    {
     "name": "stdout",
     "output_type": "stream",
     "text": [
      "                                                    seawater  biota\n",
      "Number of rows in dfs :                                18856  15314\n",
      "Number of rows in tfm.dfs:                                 0      0\n",
      "Number of dropped rows:                                18856  15314\n",
      "Number of rows in tfm.dfs + Number of dropped r...     18856  15314 \n",
      "\n"
     ]
    }
   ],
   "source": [
    "#|eval: false\n",
    "dfs = load_data(fname_in)\n",
    "tfm = Transformer(dfs, cbs=[\n",
    "                            RemapRdnNameCB(),\n",
    "                            ParseTimeCB(),\n",
    "                            EncodeTimeCB(cfg()),                             \n",
    "                            NormalizeUncCB(),\n",
    "                            LookupBiotaSpeciesCB(get_maris_species, unmatched_fixes_biota_species),\n",
    "                            CorrectWholeBodyPartCB(),\n",
    "                            LookupBiotaBodyPartCB(get_maris_bodypart, unmatched_fixes_biota_tissues),\n",
    "                            LookupBiogroupCB(partial(get_biogroup_lut, species_lut_path())),\n",
    "                            LookupUnitCB(renaming_unit_rules),\n",
    "                            LookupDetectionLimitCB(get_detectionlimit_lut),\n",
    "                            RemapDataProviderSampleIdCB(),\n",
    "                            RemapSampleNotesIdCB(),\n",
    "                            RemapMeasurementNotesIdCB(),\n",
    "                            RemapStationIdCB(),\n",
    "                            FormatCoordinates(),\n",
    "                            SanitizeLonLatCB(),\n",
    "                            SanitizeValue(),\n",
    "                            SelectAndRenameColumnCB(get_renaming_rules_netcdf),\n",
    "                            ReshapeLongToWide(), \n",
    "                            CompareDfsAndTfm(dfs)\n",
    "                            ])\n",
    "tfm()\n",
    "print(pd.DataFrame.from_dict(tfm.compare_stats) , '\\n')"
   ]
  },
  {
   "cell_type": "code",
   "execution_count": null,
   "id": "66a9ff4b",
   "metadata": {},
   "outputs": [
    {
     "data": {
      "text/html": [
       "<div>\n",
       "<style scoped>\n",
       "    .dataframe tbody tr th:only-of-type {\n",
       "        vertical-align: middle;\n",
       "    }\n",
       "\n",
       "    .dataframe tbody tr th {\n",
       "        vertical-align: top;\n",
       "    }\n",
       "\n",
       "    .dataframe thead th {\n",
       "        text-align: right;\n",
       "    }\n",
       "</style>\n",
       "<table border=\"1\" class=\"dataframe\">\n",
       "  <thead>\n",
       "    <tr style=\"text-align: right;\">\n",
       "      <th></th>\n",
       "      <th>sample</th>\n",
       "      <th>lon</th>\n",
       "      <th>smp_depth</th>\n",
       "      <th>time</th>\n",
       "      <th>index</th>\n",
       "      <th>lat</th>\n",
       "    </tr>\n",
       "  </thead>\n",
       "  <tbody>\n",
       "  </tbody>\n",
       "</table>\n",
       "</div>"
      ],
      "text/plain": [
       "Empty DataFrame\n",
       "Columns: [sample, lon, smp_depth, time, index, lat]\n",
       "Index: []"
      ]
     },
     "execution_count": 242,
     "metadata": {},
     "output_type": "execute_result"
    }
   ],
   "source": [
    "tfm.dfs['seawater']"
   ]
  },
  {
   "cell_type": "code",
   "execution_count": null,
   "id": "12b2371c",
   "metadata": {},
   "outputs": [],
   "source": []
  },
  {
   "cell_type": "code",
   "execution_count": null,
   "id": "79c8e33f",
   "metadata": {},
   "outputs": [],
   "source": []
  },
  {
   "cell_type": "code",
   "execution_count": null,
   "id": "b6229d93",
   "metadata": {},
   "outputs": [],
   "source": []
  },
  {
   "cell_type": "code",
   "execution_count": null,
   "id": "d4d825cc",
   "metadata": {},
   "outputs": [],
   "source": []
  },
  {
   "cell_type": "code",
   "execution_count": null,
   "id": "ec5d3d98",
   "metadata": {},
   "outputs": [],
   "source": []
  },
  {
   "cell_type": "code",
   "execution_count": null,
   "metadata": {},
   "outputs": [],
   "source": []
  },
  {
   "cell_type": "code",
   "execution_count": null,
   "id": "c2f8ae06",
   "metadata": {},
   "outputs": [],
   "source": []
  },
  {
   "cell_type": "code",
   "execution_count": null,
   "metadata": {},
   "outputs": [],
   "source": []
  },
  {
   "cell_type": "markdown",
   "id": "297bdc25",
   "metadata": {},
   "source": [
    "***"
   ]
  },
  {
   "cell_type": "markdown",
   "id": "12075b14",
   "metadata": {},
   "source": [
    "## Review OSPAR uncertainty"
   ]
  },
  {
   "cell_type": "code",
   "execution_count": null,
   "id": "e9269ad9",
   "metadata": {},
   "outputs": [
    {
     "name": "stdout",
     "output_type": "stream",
     "text": [
      "                                                    seawater  biota\n",
      "Number of rows in dfs :                                18856  15314\n",
      "Number of rows in tfm.dfs:                             18308  15314\n",
      "Number of dropped rows:                                  548      0\n",
      "Number of rows in tfm.dfs + Number of dropped r...     18856  15314 \n",
      "\n"
     ]
    }
   ],
   "source": [
    "#|eval: false\n",
    "dfs = load_data(fname_in)\n",
    "tfm = Transformer(dfs, cbs=[RemapRdnNameCB(),\n",
    "                            ParseTimeCB(),\n",
    "                            EncodeTimeCB(cfg(), verbose = True),\n",
    "                            CompareDfsAndTfm(dfs)\n",
    "                            ])\n",
    "tfm()\n",
    "print(pd.DataFrame.from_dict(tfm.compare_stats) , '\\n')"
   ]
  },
  {
   "cell_type": "markdown",
   "id": "42919fc8",
   "metadata": {},
   "source": [
    "TODO: Review OSPAR uncertainty, especially in cases where the uncertainty significantly exceeds the measured value. Although it's possible for uncertainty to be greater than the measured value, consider what implications this has for the analysis."
   ]
  },
  {
   "cell_type": "code",
   "execution_count": null,
   "id": "a1c9c1ae",
   "metadata": {},
   "outputs": [
    {
     "name": "stdout",
     "output_type": "stream",
     "text": [
      "Number of rows where uncertainty is greater than value for seawater:\n",
      "88\n"
     ]
    }
   ],
   "source": [
    "grp='seawater'\n",
    "print ('Number of rows where uncertainty is greater than value for seawater:')\n",
    "print(tfm.dfs[grp][tfm.dfs[grp]['Uncertainty'] > tfm.dfs[grp]['Activity or MDA']].shape[0])"
   ]
  },
  {
   "cell_type": "code",
   "execution_count": null,
   "id": "4351c075",
   "metadata": {},
   "outputs": [
    {
     "name": "stdout",
     "output_type": "stream",
     "text": [
      "Number of rows where uncertainty is greater than value for seawater:\n",
      "100\n"
     ]
    }
   ],
   "source": [
    "grp='biota'\n",
    "print ('Number of rows where uncertainty is greater than value for seawater:')\n",
    "print(tfm.dfs[grp][tfm.dfs[grp]['Uncertainty'] > tfm.dfs[grp]['Activity or MDA']].shape[0])"
   ]
  },
  {
   "cell_type": "code",
   "execution_count": null,
   "id": "960aeb73",
   "metadata": {},
   "outputs": [],
   "source": [
    "grp='seawater'\n",
    "#grp='biota'"
   ]
  },
  {
   "cell_type": "code",
   "execution_count": null,
   "id": "32f3686d",
   "metadata": {},
   "outputs": [
    {
     "data": {
      "text/html": [
       "<div>\n",
       "<style scoped>\n",
       "    .dataframe tbody tr th:only-of-type {\n",
       "        vertical-align: middle;\n",
       "    }\n",
       "\n",
       "    .dataframe tbody tr th {\n",
       "        vertical-align: top;\n",
       "    }\n",
       "\n",
       "    .dataframe thead th {\n",
       "        text-align: right;\n",
       "    }\n",
       "</style>\n",
       "<table border=\"1\" class=\"dataframe\">\n",
       "  <thead>\n",
       "    <tr style=\"text-align: right;\">\n",
       "      <th></th>\n",
       "      <th>Nuclide</th>\n",
       "      <th>Activity or MDA</th>\n",
       "      <th>Uncertainty</th>\n",
       "    </tr>\n",
       "  </thead>\n",
       "  <tbody>\n",
       "    <tr>\n",
       "      <th>1158</th>\n",
       "      <td>cs137</td>\n",
       "      <td>0.002800</td>\n",
       "      <td>0.327600</td>\n",
       "    </tr>\n",
       "    <tr>\n",
       "      <th>1160</th>\n",
       "      <td>cs137</td>\n",
       "      <td>0.002900</td>\n",
       "      <td>0.336400</td>\n",
       "    </tr>\n",
       "    <tr>\n",
       "      <th>1162</th>\n",
       "      <td>cs137</td>\n",
       "      <td>0.002500</td>\n",
       "      <td>0.332500</td>\n",
       "    </tr>\n",
       "    <tr>\n",
       "      <th>1164</th>\n",
       "      <td>cs137</td>\n",
       "      <td>0.002500</td>\n",
       "      <td>0.345000</td>\n",
       "    </tr>\n",
       "    <tr>\n",
       "      <th>1166</th>\n",
       "      <td>cs137</td>\n",
       "      <td>0.003800</td>\n",
       "      <td>0.334400</td>\n",
       "    </tr>\n",
       "    <tr>\n",
       "      <th>...</th>\n",
       "      <td>...</td>\n",
       "      <td>...</td>\n",
       "      <td>...</td>\n",
       "    </tr>\n",
       "    <tr>\n",
       "      <th>15971</th>\n",
       "      <td>h3</td>\n",
       "      <td>2.332310</td>\n",
       "      <td>37.720058</td>\n",
       "    </tr>\n",
       "    <tr>\n",
       "      <th>15973</th>\n",
       "      <td>h3</td>\n",
       "      <td>0.777316</td>\n",
       "      <td>111.320048</td>\n",
       "    </tr>\n",
       "    <tr>\n",
       "      <th>15977</th>\n",
       "      <td>h3</td>\n",
       "      <td>0.155439</td>\n",
       "      <td>552.877118</td>\n",
       "    </tr>\n",
       "    <tr>\n",
       "      <th>18788</th>\n",
       "      <td>cs137</td>\n",
       "      <td>0.002460</td>\n",
       "      <td>0.400980</td>\n",
       "    </tr>\n",
       "    <tr>\n",
       "      <th>18789</th>\n",
       "      <td>cs137</td>\n",
       "      <td>0.001690</td>\n",
       "      <td>0.512070</td>\n",
       "    </tr>\n",
       "  </tbody>\n",
       "</table>\n",
       "<p>88 rows × 3 columns</p>\n",
       "</div>"
      ],
      "text/plain": [
       "      Nuclide  Activity or MDA  Uncertainty\n",
       "1158    cs137         0.002800     0.327600\n",
       "1160    cs137         0.002900     0.336400\n",
       "1162    cs137         0.002500     0.332500\n",
       "1164    cs137         0.002500     0.345000\n",
       "1166    cs137         0.003800     0.334400\n",
       "...       ...              ...          ...\n",
       "15971      h3         2.332310    37.720058\n",
       "15973      h3         0.777316   111.320048\n",
       "15977      h3         0.155439   552.877118\n",
       "18788   cs137         0.002460     0.400980\n",
       "18789   cs137         0.001690     0.512070\n",
       "\n",
       "[88 rows x 3 columns]"
      ]
     },
     "execution_count": 143,
     "metadata": {},
     "output_type": "execute_result"
    }
   ],
   "source": [
    "tfm.dfs[grp][tfm.dfs[grp]['Uncertainty'] > tfm.dfs[grp]['Activity or MDA']][['Nuclide','Activity or MDA','Uncertainty']]"
   ]
  },
  {
   "cell_type": "code",
   "execution_count": null,
   "id": "e2e7d7b6",
   "metadata": {},
   "outputs": [],
   "source": []
  },
  {
   "cell_type": "code",
   "execution_count": null,
   "id": "65071813",
   "metadata": {},
   "outputs": [],
   "source": []
  },
  {
   "cell_type": "code",
   "execution_count": null,
   "id": "d8b625b3",
   "metadata": {},
   "outputs": [],
   "source": []
  },
  {
   "cell_type": "code",
   "execution_count": null,
   "id": "6bbaae0d",
   "metadata": {},
   "outputs": [],
   "source": []
  },
  {
   "cell_type": "code",
   "execution_count": null,
   "id": "8b3112ec",
   "metadata": {},
   "outputs": [],
   "source": []
  }
 ],
 "metadata": {
  "kernelspec": {
   "display_name": "python3",
   "language": "python",
   "name": "python3"
  },
  "language_info": {
   "codemirror_mode": {
    "name": "ipython",
    "version": 3
   },
   "file_extension": ".py",
   "mimetype": "text/x-python",
   "name": "python",
   "nbconvert_exporter": "python",
   "pygments_lexer": "ipython3",
   "version": "3.9.18"
  }
 },
 "nbformat": 4,
 "nbformat_minor": 5
}
